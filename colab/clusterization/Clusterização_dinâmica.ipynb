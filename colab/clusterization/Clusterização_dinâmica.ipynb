{
  "nbformat": 4,
  "nbformat_minor": 0,
  "metadata": {
    "colab": {
      "name": "Clusterização_dinâmica.ipynb",
      "provenance": [],
      "collapsed_sections": [
        "xcQQAyzjvg1R"
      ],
      "include_colab_link": true
    },
    "kernelspec": {
      "display_name": "Python 3",
      "name": "python3"
    }
  },
  "cells": [
    {
      "cell_type": "markdown",
      "metadata": {
        "id": "view-in-github",
        "colab_type": "text"
      },
      "source": [
        "<a href=\"https://colab.research.google.com/github/ailton-felix/Combinacoes/blob/master/colab/clusterization/Clusteriza%C3%A7%C3%A3o_din%C3%A2mica.ipynb\" target=\"_parent\"><img src=\"https://colab.research.google.com/assets/colab-badge.svg\" alt=\"Open In Colab\"/></a>"
      ]
    },
    {
      "cell_type": "markdown",
      "metadata": {
        "id": "E5jTooB6qE6r"
      },
      "source": [
        "# Importando Firebase e Pytools"
      ]
    },
    {
      "cell_type": "code",
      "metadata": {
        "id": "w5ttX89MnUcM",
        "colab": {
          "base_uri": "https://localhost:8080/"
        },
        "outputId": "5ee1bd7b-12e4-4af2-e1e8-06f783ea4dc9"
      },
      "source": [
        "from google.colab import auth\n",
        "import sys\n",
        "import subprocess\n",
        "\n",
        "# Autenticação é necessária para clonar\n",
        "auth.authenticate_user()\n",
        "\n",
        "!gcloud source repos clone github_hand-talk_pytools --project='ht-community' && pip install -r /content/github_hand-talk_pytools/requirements.txt\n",
        "sys.path.insert(0, '/content/github_hand-talk_pytools')"
      ],
      "execution_count": null,
      "outputs": [
        {
          "output_type": "stream",
          "text": [
            "Go to the following link in your browser:\n",
            "\n",
            "    https://accounts.google.com/o/oauth2/auth?response_type=code&client_id=32555940559.apps.googleusercontent.com&redirect_uri=urn%3Aietf%3Awg%3Aoauth%3A2.0%3Aoob&scope=openid+https%3A%2F%2Fwww.googleapis.com%2Fauth%2Fuserinfo.email+https%3A%2F%2Fwww.googleapis.com%2Fauth%2Fcloud-platform+https%3A%2F%2Fwww.googleapis.com%2Fauth%2Fappengine.admin+https%3A%2F%2Fwww.googleapis.com%2Fauth%2Fcompute+https%3A%2F%2Fwww.googleapis.com%2Fauth%2Faccounts.reauth+https%3A%2F%2Fwww.googleapis.com%2Fauth%2Fdrive&state=t08oQR4YcvOjcN7M6YNBSXsZsTiBWM&prompt=consent&access_type=offline&code_challenge=AOywi79wVxzdFUK7aBSS-5jHaST6zoiz_fZ9DvHkWME&code_challenge_method=S256\n",
            "\n",
            "Enter verification code: 4/1AX4XfWg5TzJsvFYh-ufXhNwXb9lVcryDezYQMxv6bqpi1_lVHnZuJNEdmJY\n"
          ],
          "name": "stdout"
        }
      ]
    },
    {
      "cell_type": "code",
      "metadata": {
        "id": "LRZX4TDFrKN6"
      },
      "source": [
        "#@title Definição de variáveis globais  { form-width: \"30%\" }\n",
        "\n",
        "WORKSPACE = \"HT-BZS\" #@param [\"HT-Annoy\", \"HT-BZS\", \"development\", \"HT-BZS-JOAB\", \"HT-ASL\"] {allow-input: true}\n"
      ],
      "execution_count": null,
      "outputs": []
    },
    {
      "cell_type": "code",
      "metadata": {
        "id": "hztXy2aiq61K",
        "colab": {
          "resources": {
            "http://localhost:8080/nbextensions/google.colab/files.js": {
              "data": "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",
              "ok": true,
              "headers": [
                [
                  "content-type",
                  "application/javascript"
                ]
              ],
              "status": 200,
              "status_text": ""
            }
          },
          "base_uri": "https://localhost:8080/",
          "height": 89
        },
        "outputId": "ceed109d-9ad8-4b92-fcc0-bdcfc20827af"
      },
      "source": [
        "from handtalk.community import Community\n",
        "\n",
        "# A linha abaixo é necessária somente fora do colab\n",
        "# handtalk.config.key_firebase = path/para/key.json\n",
        "cmt = Community(WORKSPACE)"
      ],
      "execution_count": 4,
      "outputs": [
        {
          "output_type": "stream",
          "text": [
            "{'Faça o upload do arquivo json do service accounts do community. Se não tiver um, peça ao Thadeu.'}\n"
          ],
          "name": "stdout"
        },
        {
          "output_type": "display_data",
          "data": {
            "text/html": [
              "\n",
              "     <input type=\"file\" id=\"files-33f67a28-8fb5-4551-b49e-5c3ed8c4730e\" name=\"files[]\" multiple disabled\n",
              "        style=\"border:none\" />\n",
              "     <output id=\"result-33f67a28-8fb5-4551-b49e-5c3ed8c4730e\">\n",
              "      Upload widget is only available when the cell has been executed in the\n",
              "      current browser session. Please rerun this cell to enable.\n",
              "      </output>\n",
              "      <script src=\"/nbextensions/google.colab/files.js\"></script> "
            ],
            "text/plain": [
              "<IPython.core.display.HTML object>"
            ]
          },
          "metadata": {
            "tags": []
          }
        },
        {
          "output_type": "stream",
          "text": [
            "Saving community-service-account.json to community-service-account.json\n"
          ],
          "name": "stdout"
        }
      ]
    },
    {
      "cell_type": "markdown",
      "metadata": {
        "id": "BGFwduvFtJMq"
      },
      "source": [
        "# Clusterização automática\n",
        "\n",
        "Para o módulo HTube, isso é realizado automáticamente (todas as decisões são persistidas).\n",
        "\n",
        "Para o caso do módulo match segments, temos, caso dois segmentos sejam votados como semelhantes:\n",
        "\n",
        "- Nenhum dos segmentos pertence a um cluster;\n",
        "\n",
        "- Um dos segmentos pertence a um cluster;\n",
        "\n",
        "- Os dois segmentos pertencem a cluster:\n",
        "\n",
        "PROBLEMA: TF-IDF"
      ]
    },
    {
      "cell_type": "markdown",
      "metadata": {
        "id": "qBtwKJpdwfgI"
      },
      "source": [
        "### Backlog de sinais e segmentos com cluster antes de clusterizar"
      ]
    },
    {
      "cell_type": "code",
      "metadata": {
        "id": "RTg_4-kyTiQ_"
      },
      "source": [
        "# Carregar TF-IDF\n",
        "cmt.storage.download(f'modelos/automatic_cluster/TF_IFD_{WORKSPACE}.pkl','./')\n",
        "\n",
        "# Load the dictionary back from the pickle file.\n",
        "import pickle\n",
        "\n",
        "tf_idf = pickle.load( open( f\"TF_IFD_{WORKSPACE}.pkl\", \"rb\" ) )"
      ],
      "execution_count": 5,
      "outputs": []
    },
    {
      "cell_type": "code",
      "metadata": {
        "id": "4cumaTa906IT"
      },
      "source": [
        "from datetime import datetime\n",
        "from copy import deepcopy\n",
        "from datetime import datetime,timedelta\n",
        "\n",
        "\n",
        "#template de sinais criados\n",
        "sign_template = {'createdAt' : datetime.now(),\n",
        "    'createdBy' : cmt.get_document_reference('users','6ukYAMNKaHYC2xmxXLGEmx8L2mF2'),\n",
        "    'currentAnimation': None,\n",
        "    'currentAnimationHasErrors': None,\n",
        "    'description': '',\n",
        "    'glosa': '',\n",
        "    'hasCluster': True,\n",
        "    'isAnimated': False,\n",
        "    'isAnimating': {'lastUpdate': None, 'user': None, 'value': False},\n",
        "    'isCropped': False,\n",
        "    'isCropping': {'lastUpdate': None, 'taskName': None, 'value': False},\n",
        "    'isDefinitive': False,\n",
        "    'isExtractedKeypoints': False,\n",
        "    'isExtractingKeypoints': {'lastUpdate': None,\n",
        "    'taskName': None,\n",
        "    'value': False},\n",
        "    'isFingerspell': False,\n",
        "    'isStudioFileRecorded': False,\n",
        "    'isStudioFileRecording': {'lastUpdate': None, 'user': None, 'value': False},\n",
        "    'numberOfSegments': 0,\n",
        "    'oralLanguageId': 'eng' if WORKSPACE != 'HT-BZS' else 'por',\n",
        "    'origin': {'endFrame': 0, 'startFrame': 0, 'video': None},\n",
        "    'popularity': 0,\n",
        "    'primarySegment': None,\n",
        "    'promoted': False,\n",
        "    'relatedWords': [],\n",
        "    'searchReference': '',\n",
        "    'searchTerms': [],\n",
        "    'signLanguageId': 'ase' if WORKSPACE != 'HT-BZS' else 'bzs',\n",
        "    'stars': 0,\n",
        "    'userPrimarySegment': False,\n",
        "    'words': [] }\n",
        "\n",
        "# funçãão de ordenaçãão dos termos do tf-idf\n",
        "def ordered_words(sentence_tf_idf):\n",
        "    return sorted([(w, round(score, 3)) for w, score in sentence_tf_idf], key=lambda x: x[1], reverse=True)\n",
        "\n",
        "# stop words do tf-idf\n",
        "stop = ['em', 'do', 'da', 'de', 'pro', 'pra', 'no', 'dos', 'na', 'os', 'à', 'pela', 'nas', 'num',\\\n",
        "    'das', 'numa', 'nos', 'às', 'pelas', 'as', 'uns', 'umas', 'lhe', 'é', 'o', 'a', 'tom', 'mary', 'toms', 'marys',\n",
        "    'is', 'are', 'am', 'at', 'an', 'of', 'the'] if WORKSPACE == 'HT-BZS' \\\n",
        "    else \\\n",
        "    ['em', 'da', 'de', 'pro', 'pra', 'no', 'dos', 'na', 'os', 'à', 'pela', 'nas', 'num',\\\n",
        "    'das', 'numa', 'nos', 'às', 'pelas', 'as', 'uns', 'umas', 'lhe', 'é', 'o', 'a', 'tom', 'mary', 'toms', 'marys',\n",
        "    'is', 'are', 'am', 'at', 'an', 'of', 'the']"
      ],
      "execution_count": 6,
      "outputs": []
    },
    {
      "cell_type": "markdown",
      "metadata": {
        "id": "uvUfDl_R6fNs"
      },
      "source": [
        "# Coleta dos votos recentes"
      ]
    },
    {
      "cell_type": "code",
      "metadata": {
        "colab": {
          "base_uri": "https://localhost:8080/"
        },
        "id": "fI6-19grx6aU",
        "outputId": "305b8bed-9a2b-4161-e1d7-03668b043411"
      },
      "source": [
        "votes = cmt.list_longer_collection('votes')"
      ],
      "execution_count": 7,
      "outputs": [
        {
          "output_type": "stream",
          "text": [
            "\u001b[31m🍒\u001b[34m Sys[out] \u001b[36m»\u001b[37m \u001b[37mTotal votes 30000 query time 15.13s\u001b[37m \u001b[37m\n",
            "\u001b[31m🍒\u001b[34m Sys[out] \u001b[36m»\u001b[37m \u001b[37mTotal votes 60000 query time 26.58s\u001b[37m \u001b[37m\n",
            "\u001b[31m🍒\u001b[34m Sys[out] \u001b[36m»\u001b[37m \u001b[37mTotal votes 90000 query time 38.16s\u001b[37m \u001b[37m\n",
            "\u001b[31m🍒\u001b[34m Sys[out] \u001b[36m»\u001b[37m \u001b[37mTotal votes 120000 query time 49.6s\u001b[37m \u001b[37m\n",
            "\u001b[31m🍒\u001b[34m Sys[out] \u001b[36m»\u001b[37m \u001b[37mTotal votes 150000 query time 61.19s\u001b[37m \u001b[37m\n",
            "\u001b[31m🍒\u001b[34m Sys[out] \u001b[36m»\u001b[37m \u001b[37mTotal votes 180000 query time 72.29s\u001b[37m \u001b[37m\n",
            "\u001b[31m🍒\u001b[34m Sys[out] \u001b[36m»\u001b[37m \u001b[37mTotal votes 210000 query time 83.97s\u001b[37m \u001b[37m\n",
            "\u001b[31m🍒\u001b[34m Sys[out] \u001b[36m»\u001b[37m \u001b[37mTotal votes 240000 query time 95.38s\u001b[37m \u001b[37m\n",
            "\u001b[31m🍒\u001b[34m Sys[out] \u001b[36m»\u001b[37m \u001b[37mTotal votes 270000 query time 106.03s\u001b[37m \u001b[37m\n",
            "\u001b[31m🍒\u001b[34m Sys[out] \u001b[36m»\u001b[37m \u001b[37mTotal votes 300000 query time 117.93s\u001b[37m \u001b[37m\n",
            "\u001b[31m🍒\u001b[34m Sys[out] \u001b[36m»\u001b[37m \u001b[37mTotal votes 330000 query time 129.41s\u001b[37m \u001b[37m\n",
            "\u001b[31m🍒\u001b[34m Sys[out] \u001b[36m»\u001b[37m \u001b[37mTotal votes 360000 query time 141.59s\u001b[37m \u001b[37m\n",
            "\u001b[31m🍒\u001b[34m Sys[out] \u001b[36m»\u001b[37m \u001b[37mTotal votes 390000 query time 152.61s\u001b[37m \u001b[37m\n",
            "\u001b[31m🍒\u001b[34m Sys[out] \u001b[36m»\u001b[37m \u001b[37mTotal votes 420000 query time 163.8s\u001b[37m \u001b[37m\n",
            "\u001b[31m🍒\u001b[34m Sys[out] \u001b[36m»\u001b[37m \u001b[37mTotal votes 450000 query time 175.97s\u001b[37m \u001b[37m\n",
            "\u001b[31m🍒\u001b[34m Sys[out] \u001b[36m»\u001b[37m \u001b[37mTotal votes 480000 query time 186.95s\u001b[37m \u001b[37m\n",
            "\u001b[31m🍒\u001b[34m Sys[out] \u001b[36m»\u001b[37m \u001b[37mTotal votes 481925 query time 187.93s\u001b[37m \u001b[37m\n",
            "\u001b[31m🍒\u001b[34m Cereja \u001b[36m»\u001b[37m \u001b[37m[\u001b[38;5;2m▰▰▰▰▰▰▰▰▰▰▰▰▰▰▰▰▰▰▰▰▰▰▰▰▰▰▰▰▰▰\u001b[37m] - 100.00% - 🕜 00:03:08 total - \u001b[38;5;2mDone! ✅\u001b[38;5;2m\u001b[37m \u001b[37m\n"
          ],
          "name": "stdout"
        }
      ]
    },
    {
      "cell_type": "code",
      "metadata": {
        "id": "hb_FsMGQ-E6z",
        "colab": {
          "base_uri": "https://localhost:8080/"
        },
        "outputId": "44c477de-1f77-4991-98d9-0506afed9b33"
      },
      "source": [
        "# Filtrar votos desde a ultima clusterizaçãão \n",
        "# BZS -> (1 de julho)\n",
        "# ASL ->\n",
        "delta_time =  timedelta(days=27)\n",
        "today = datetime.now() - delta_time\n",
        "\n",
        "votes_true = {}\n",
        "\n",
        "for key,value in votes.items():\n",
        "    if (value['score']>1) and (value['automaticMatch']==False) and (value['lastUpdate'].timestamp() > today.timestamp()):\n",
        "        votes_true[key] = value\n",
        "votes = votes_true\n",
        "print(today)"
      ],
      "execution_count": 10,
      "outputs": [
        {
          "output_type": "stream",
          "text": [
            "2021-06-04 20:28:47.846927\n"
          ],
          "name": "stdout"
        }
      ]
    },
    {
      "cell_type": "markdown",
      "metadata": {
        "id": "xcQQAyzjvg1R"
      },
      "source": [
        "# Funções de operação nos clusters"
      ]
    },
    {
      "cell_type": "markdown",
      "metadata": {
        "id": "2WUHN1UfBBll"
      },
      "source": [
        "### AMBOS OS SEGMENTOS SEM CLUSTER"
      ]
    },
    {
      "cell_type": "code",
      "metadata": {
        "id": "tjAdzsqRCb2l"
      },
      "source": [
        "# Caso nenhum dos segmentos tenha cluster, um novo sinal é criado\n",
        "def both_without_cluster(segment_a,segment_b):\n",
        "    set_operations = []\n",
        "    update_operations = []\n",
        "\n",
        "    # segmentos\n",
        "    segment_a_doc = cmt.get_document('segments',segment_a)\n",
        "    segment_b_doc = cmt.get_document('segments',segment_b)\n",
        "\n",
        "    #videos sentences\n",
        "    video_a_sentence = segment_a_doc.video.sentence\n",
        "    video_b_sentence = segment_a_doc.video.sentence\n",
        "\n",
        "    #TF_idf_cluster\n",
        "    cluster_sentence = ' '.join([video_a_sentence,video_b_sentence])\n",
        "    cluster_words = tf_idf.sentence_tf_idf(cluster_sentence, use_filter=True,stop_words=stop)\n",
        "    cluster_words = ordered_words(cluster_words)[:5]\n",
        "    words = [{word_score[0]: word_score[1]} for word_score in cluster_words]\n",
        "    relatedWords = []\n",
        "    for word_score in cluster_words:\n",
        "        relatedWords.append(word_score[0])\n",
        "\n",
        "    #criando novo sinal\n",
        "    sign_col = cmt.firestore.db.collection('workspaces').document(WORKSPACE).collection('signs')\n",
        "    id_doc = cmt.firestore.db.collection('whatever').document().id\n",
        "    sign_ref = sign_col.document(id_doc)\n",
        "    sign_data = deepcopy(sign_template)\n",
        "    sign_data['primarySegment'] = segment_a_doc.reference\n",
        "    sign_data['numberOfSegments'] = 2\n",
        "    sign_data['words'] = words\n",
        "    sign_data['relatedWords'] = relatedWords\n",
        "    set_operations.append((sign_ref,sign_data))\n",
        "    # print(set_operations[0][0].path,set_operations)\n",
        "    cmt.firestore.set(set_operations,safe_mode=False)\n",
        "\n",
        "    #Atualizando segmentos\n",
        "    update_operations.append((segment_a_doc.reference, {'movement': sign_ref,'hasMovement':True}))\n",
        "    update_operations.append((segment_b_doc.reference, {'movement': sign_ref,'hasMovement':True}))\n",
        "    # print(update_operations[0][0].path,update_operations)\n",
        "    cmt.firestore.update(update_operations,safe_mode=False)"
      ],
      "execution_count": 17,
      "outputs": []
    },
    {
      "cell_type": "markdown",
      "metadata": {
        "id": "pr5ZgX-WckMc"
      },
      "source": [
        "### Apenas 1 dos segmentos tem cluster"
      ]
    },
    {
      "cell_type": "code",
      "metadata": {
        "id": "TXgUce64_hcG"
      },
      "source": [
        "# caso um dos dois tenha cluster, o sinal que nãão tem éé adicionado a esse sinal\n",
        "def one_has_cluster(segment_a,segment_b):\n",
        "    update_operations = []\n",
        "    #segmentos\n",
        "    segment_a_doc = cmt.get_document('segments',segment_a)\n",
        "    segment_b_doc = cmt.get_document('segments',segment_b)\n",
        "\n",
        "    #sinal\n",
        "    sign_ref = segment_a_doc.movement\n",
        "\n",
        "    if sign_ref._is_definitive:\n",
        "        # devemos ter cuidados com atualização desses sinais\n",
        "        update_operations.append((sign_ref.reference, {'numberOfSegments': sign_ref.number_of_segments + 1}))\n",
        "    else:\n",
        "        #reconstruir cluster\n",
        "        where = [('movement', '==', sign_ref.reference)]\n",
        "        segments = cmt.list_collection('segments', where_config=where)\n",
        "\n",
        "        #resgatando sentenças\n",
        "        sentences = [segment.video.sentence for _,segment in segments.items()]\n",
        "        sentences.append(segment_b_doc.video.sentence)\n",
        "\n",
        "        #TF_idf_cluster\n",
        "        cluster_sentence = ' '.join(sentences)\n",
        "        cluster_words = tf_idf.sentence_tf_idf(cluster_sentence, use_filter=True,stop_words=stop)\n",
        "        cluster_words = ordered_words(cluster_words)[:5]\n",
        "        words = [{word_score[0]: word_score[1]} for word_score in cluster_words]\n",
        "        relatedWords = []\n",
        "        for word_score in cluster_words:\n",
        "            relatedWords.append(word_score[0])\n",
        "\n",
        "        #atualizando sinal\n",
        "        update_operations.append((sign_ref.reference, {'numberOfSegments': sign_ref.number_of_segments + 1,'words': words, 'relatedWords': relatedWords}))\n",
        "    \n",
        "    #atualizando segmento novo\n",
        "    update_operations.append((segment_b_doc.reference, {'movement': sign_ref.reference,'hasMovement':True}))\n",
        "    \n",
        "    #subindo atualizaçãão\n",
        "    cmt.firestore.update(update_operations,safe_mode=False)"
      ],
      "execution_count": 18,
      "outputs": []
    },
    {
      "cell_type": "markdown",
      "metadata": {
        "id": "qEzupvXlcp_V"
      },
      "source": [
        "### Ambos os segmentos tem cluster"
      ]
    },
    {
      "cell_type": "code",
      "metadata": {
        "id": "oLCM7Wx7Qvqz"
      },
      "source": [
        "def update_both_movements(segment_a_doc,movement_a_doc,segment_b_doc,movement_b_doc):\n",
        "    update_operations = []\n",
        "    # reconstruir cluster\n",
        "    where = [('movement', '==', movement_b_doc.reference)]\n",
        "    segments_b = cmt.list_collection('segments', where_config=where)\n",
        "    where = [('movement', '==', movement_a_doc.reference)]\n",
        "    segments_a = cmt.list_collection('segments', where_config=where)\n",
        "\n",
        "    if movement_a_doc._is_definitive:\n",
        "        # devemos ter cuidados com atualização desses sinais\n",
        "        update_operations.append((movement_a_doc.reference, {'numberOfSegments': movement_a_doc.number_of_segments + movement_b_doc.number_of_segments}))\n",
        "    else:\n",
        "        #TFIDF\n",
        "        #resgatando sentenças\n",
        "        sentences = [segment.video.sentence for _,segment in segments_a.items()] + [segment.video.sentence for _,segment in segments_b.items()]\n",
        "\n",
        "        #TF_idf_cluster\n",
        "        cluster_sentence = ' '.join(sentences)\n",
        "        cluster_words = tf_idf.sentence_tf_idf(cluster_sentence, use_filter=True, stop_words=stop)\n",
        "        cluster_words = ordered_words(cluster_words)[:5]\n",
        "        words = [{word_score[0]: word_score[1]} for word_score in cluster_words]\n",
        "        relatedWords = []\n",
        "        for word_score in cluster_words:\n",
        "            relatedWords.append(word_score[0])\n",
        "\n",
        "        update_operations.append((movement_a_doc.reference, {'words': words, 'relatedWords': relatedWords,'numberOfSegments': movement_a_doc.number_of_segments + movement_b_doc.number_of_segments }))\n",
        "\n",
        "    #UPDATE no cluster \"vencedor\"\n",
        "    for segment_id,segment in segments_b.items():\n",
        "        update_operations.append((segment.reference, {'movement': movement_a_doc.reference,'hasMovement':True}))\n",
        "    \n",
        "    update_operations.append((movement_b_doc.reference, {'hasCluster': False,'numberOfSegments': 0 }))\n",
        "    cmt.firestore.update(update_operations,safe_mode=False)"
      ],
      "execution_count": 19,
      "outputs": []
    },
    {
      "cell_type": "code",
      "metadata": {
        "id": "PFhje3ALgMgv"
      },
      "source": [
        "def link_definitive_movements(movement_a_doc,movement_b_doc):\n",
        "    update_operations = [(movement_b_doc.reference, {'signDefinitiveRelation':movement_a_doc.reference})]\n",
        "    cmt.firestore.update(update_operations,safe_mode=False)"
      ],
      "execution_count": 20,
      "outputs": []
    },
    {
      "cell_type": "code",
      "metadata": {
        "id": "w0I8YowJ_0V8"
      },
      "source": [
        "def both_has_cluster(segment_a,segment_b):\n",
        "    #segments\n",
        "    segment_a_doc = cmt.get_document('segments',segment_a)\n",
        "    segment_b_doc = cmt.get_document('segments',segment_b)\n",
        "\n",
        "    #movements\n",
        "    movement_a_doc = segment_a_doc.movement\n",
        "    movement_b_doc = segment_b_doc.movement\n",
        "\n",
        "\n",
        "    # Se ambos são definitvos\n",
        "    ### Esse ponto é critico, deve SER CRIADA A CONEXAO ENTRE MOVIMENTOS DEFINITIVOS\n",
        "    if movement_a_doc._is_definitive and movement_b_doc._is_definitive:\n",
        "        print(movement_a_doc.reference.path,'->>',movement_b_doc.reference.path)\n",
        "        # teste = input('sãão caras definitivos, cuidado')\n",
        "        # se nenhum dos dois movimentos tem erro, escolhe-se o que tem mais segmentos\n",
        "        if (not movement_a_doc.current_animation_has_errors) and (not movement_b_doc.current_animation_has_errors):\n",
        "            if movement_a_doc.number_of_segments > movement_b_doc.number_of_segments:\n",
        "                link_definitive_movements(movement_a_doc,movement_b_doc)\n",
        "            else:\n",
        "                link_definitive_movements(movement_b_doc,movement_a_doc)\n",
        "\n",
        "        # se um dos dois movimentos tem erro, escolhe-se o outro\n",
        "        elif not movement_a_doc.current_animation_has_errors:\n",
        "            link_definitive_movements(movement_a_doc,movement_b_doc)\n",
        "        elif not movement_b_doc.current_animation_has_errors:\n",
        "            link_definitive_movements(movement_b_doc,movement_a_doc)\n",
        "        \n",
        "        # Se ambos tem erros\n",
        "        else:\n",
        "            if movement_a_doc.number_of_segments > movement_b_doc.number_of_segments:\n",
        "                link_definitive_movements(movement_a_doc,movement_b_doc)\n",
        "            else:\n",
        "                link_definitive_movements(movement_b_doc,movement_a_doc)\n",
        "\n",
        "\n",
        "    # Se apenas o segmento A éé definitivo\n",
        "    elif movement_a_doc._is_definitive:\n",
        "        print(movement_a_doc.reference.path)\n",
        "        # teste = input('éé a definitivo, cuidado')\n",
        "        update_both_movements(segment_a_doc,movement_a_doc,segment_b_doc,movement_b_doc)\n",
        "\n",
        "    # Se apenas o Segmento B éé definitivo\n",
        "    elif movement_b_doc._is_definitive:\n",
        "        print(movement_b_doc.reference.path)\n",
        "        # teste = input('éé b definitivo, cuidado')\n",
        "        update_both_movements(segment_b_doc,movement_b_doc,segment_a_doc,movement_a_doc)\n",
        "\n",
        "    # Caso ambos nãão sejam definitivos, mas sejam promovidos\n",
        "    elif movement_a_doc.promoted and movement_b_doc.promoted:\n",
        "        if movement_a_doc.number_of_segments > movement_b_doc.number_of_segments:\n",
        "            update_both_movements(segment_a_doc,movement_a_doc,segment_b_doc,movement_b_doc)\n",
        "        else:\n",
        "            update_both_movements(segment_b_doc,movement_b_doc,segment_a_doc,movement_a_doc)\n",
        "\n",
        "    # Caso somente o segmento A seja promovido\n",
        "    elif movement_a_doc.promoted:\n",
        "        update_both_movements(segment_a_doc,movement_a_doc,segment_b_doc,movement_b_doc)\n",
        "\n",
        "    # Caso somente o segmento B seja promovido\n",
        "    elif movement_b_doc.promoted:\n",
        "        update_both_movements(segment_b_doc,movement_b_doc,segment_a_doc,movement_a_doc)\n",
        "\n",
        "    # Caso nenhum seja promovido\n",
        "    else:\n",
        "        if movement_a_doc.number_of_segments > movement_b_doc.number_of_segments:\n",
        "            update_both_movements(segment_a_doc,movement_a_doc,segment_b_doc,movement_b_doc)\n",
        "        else:\n",
        "            update_both_movements(segment_b_doc,movement_b_doc,segment_a_doc,movement_a_doc)"
      ],
      "execution_count": 21,
      "outputs": []
    },
    {
      "cell_type": "markdown",
      "metadata": {
        "id": "GjA7mywj6zwN"
      },
      "source": [
        "# Atualizar Clusters"
      ]
    },
    {
      "cell_type": "code",
      "metadata": {
        "id": "wdnSePDKVTBN"
      },
      "source": [
        "# def create_vote_doc(seg_a: str, seg_b: str):\n",
        "#     vote_doc = {\n",
        "#         'segment_a': seg_a,'segment_b': seg_b,\n",
        "#         'score': 1, 'votes': 1, \n",
        "#         'createdAt': datetime.now(), 'lastUpdate': datetime.now(),\n",
        "#         'automaticMatch': False\n",
        "#     }\n",
        "#     return vote_doc"
      ],
      "execution_count": null,
      "outputs": []
    },
    {
      "cell_type": "code",
      "metadata": {
        "id": "Wgtb4UWGRk-t"
      },
      "source": [
        "# Entrada\n",
        "# isso vai vir do community\n",
        "# seg_left = None \n",
        "# segs_right = 10*[None] # teremos uma lista [seg_2a, seg_2b, ..., seg_2j]\n",
        "\n",
        "# # 'votes' terá que ser o resultado de uma query na coleção de votos\n",
        "# for seg_r in segs_right:\n",
        "#     segs = sorted([seg_left, seg_r])\n",
        "#     seg_a = segs[0]\n",
        "#     seg_b = segs[1]\n",
        "\n",
        "#     query = [('segment_a', '==', seg_a),\n",
        "#              ('segment_b', '==', seg_b)]\n",
        "\n",
        "#     vote = cmt.list_longer_collection('votes', where_config=query)\n",
        "\n",
        "#     if not vote:\n",
        "#         # voto não existe - criar\n",
        "#         vote = create_vote_doc(seg_a, seg_b)\n",
        "\n",
        "#     assert len(vote) == 1, f'Erro! Mais de um voto encontrado com {seg_a} e {seg_b}'\n",
        "\n",
        "    # Segue normal com o código do Lucas"
      ],
      "execution_count": null,
      "outputs": []
    },
    {
      "cell_type": "code",
      "metadata": {
        "colab": {
          "base_uri": "https://localhost:8080/"
        },
        "id": "7ZivmHh9dQds",
        "outputId": "5f2da8ff-c88a-4ae5-afa8-1af407a677da"
      },
      "source": [
        "from tqdm import tqdm\n",
        "from IPython.display import clear_output\n",
        "\n",
        "# Main\n",
        "\n",
        "# votes = cmt.list_longer_collection('votes')\n",
        "\n",
        "for _,vote in tqdm(votes.items()):\n",
        "    # score insuficiente\n",
        "    if vote['score'] < 2:\n",
        "        clear_output(wait = True)\n",
        "        continue\n",
        "    else:\n",
        "        #segmentos\n",
        "        segment_a = cmt.get_document('segments',vote['segment_a'])\n",
        "        segment_b = cmt.get_document('segments',vote['segment_b'])\n",
        "\n",
        "        # ambos os segmentos ja tem o mesmo sinal\n",
        "        if (segment_a.has_movement) and (segment_b.has_movement) and (segment_a.movement.reference == segment_b.movement.reference):\n",
        "            clear_output(wait = True)\n",
        "            continue\n",
        "        #nenhum dos dois tem sinal\n",
        "        elif not (segment_a.has_movement) and not (segment_b.has_movement):\n",
        "            both_without_cluster(vote['segment_a'],vote['segment_b'])\n",
        "        #um dos dois tem sinal\n",
        "        elif (segment_a.has_movement) and not (segment_b.has_movement):\n",
        "            one_has_cluster(vote['segment_a'],vote['segment_b'])\n",
        "        elif not (segment_a.has_movement) and (segment_b.has_movement):\n",
        "            one_has_cluster(vote['segment_b'],vote['segment_a'])\n",
        "        #ambos tem sinal\n",
        "        else:\n",
        "            both_has_cluster(vote['segment_a'],vote['segment_b'])\n",
        "        clear_output(wait = True)"
      ],
      "execution_count": 22,
      "outputs": [
        {
          "output_type": "stream",
          "text": [
            "100%|██████████| 1951/1951 [27:20<00:00,  1.19it/s]\n"
          ],
          "name": "stderr"
        }
      ]
    },
    {
      "cell_type": "markdown",
      "metadata": {
        "id": "w9IGmjCtpAUe"
      },
      "source": [
        "# Update votes\n",
        "Precisamos atualizar os respectivos clusters na coleção de votos"
      ]
    },
    {
      "cell_type": "markdown",
      "metadata": {
        "id": "bFUNsr--uBi8"
      },
      "source": [
        "## Resgatando votos e segmentos"
      ]
    },
    {
      "cell_type": "code",
      "metadata": {
        "id": "5JmEYHxStyzW"
      },
      "source": [
        "votes = cmt.list_longer_collection('votes')\n",
        "all_segments_docs = cmt.list_longer_collection('segments')\n",
        "clear_output()\n",
        "segments = {s: d for s, d in all_segments_docs.items() if d['hasMovement'] == True}"
      ],
      "execution_count": 25,
      "outputs": []
    },
    {
      "cell_type": "code",
      "metadata": {
        "id": "uu5_KDY-vg7-"
      },
      "source": [
        "update_operations = []\n",
        "for vote_id,vote in votes.items():\n",
        "    try:\n",
        "        if vote['score'] > 1:\n",
        "            if segments[vote['segment_a']]['movement'].id == segments[vote['segment_b']]['movement'].id:\n",
        "                update_operations.append((vote['ref'],{'currentMovement':segments[vote['segment_a']]['movement'].id}))\n",
        "            else:\n",
        "                update_operations.append((vote['ref'],{'currentMovement':''}))\n",
        "        else:\n",
        "            update_operations.append((vote['ref'],{'currentMovement':''}))\n",
        "    except:\n",
        "        update_operations.append((vote['ref'],{'currentMovement':''}))"
      ],
      "execution_count": 26,
      "outputs": []
    },
    {
      "cell_type": "code",
      "metadata": {
        "colab": {
          "base_uri": "https://localhost:8080/"
        },
        "id": "ijLkEOJCwPYd",
        "outputId": "df4e7d69-e58f-455f-8a8a-6c9f8a8fb1a7"
      },
      "source": [
        "cmt.firestore.update(update_operations)"
      ],
      "execution_count": 27,
      "outputs": [
        {
          "output_type": "stream",
          "text": [
            "Digite \u001b[31msim\u001b[37m para confirmar a alteração em 481925 registros: sim\n",
            "\u001b[31m🍒\u001b[34m Cereja \u001b[36m»\u001b[37m \u001b[37m[\u001b[38;5;2m▰▰▰▰▰▰▰▰▰▰▰▰▰▰▰▰▰▰▰▰▰▰▰▰▰▰▰▰▰▰\u001b[37m] - 100.00% - 🕜 00:06:03 total - \u001b[38;5;2mDone! ✅\u001b[38;5;2m\u001b[37m \u001b[37m\n",
            "\u001b[31m🍒\u001b[34m Cereja \u001b[36m»\u001b[37m \u001b[37mAwaiting...\u001b[37m \u001b[37m"
          ],
          "name": "stdout"
        }
      ]
    },
    {
      "cell_type": "markdown",
      "metadata": {
        "id": "KYqiwc8WO1Wm"
      },
      "source": [
        "# TF-IDF update"
      ]
    },
    {
      "cell_type": "code",
      "metadata": {
        "colab": {
          "base_uri": "https://localhost:8080/"
        },
        "id": "yTUUzrY13DMu",
        "outputId": "a8587b6d-8ef3-4204-a64a-575e9b093309"
      },
      "source": [
        "query = [('errors', '==', None)]\n",
        "videos_docs = cmt.list_longer_collection('videos', where_config=query)\n",
        "clear_output()\n",
        "len(videos_docs)"
      ],
      "execution_count": 29,
      "outputs": [
        {
          "output_type": "execute_result",
          "data": {
            "text/plain": [
              "113093"
            ]
          },
          "metadata": {
            "tags": []
          },
          "execution_count": 29
        }
      ]
    },
    {
      "cell_type": "code",
      "metadata": {
        "colab": {
          "base_uri": "https://localhost:8080/"
        },
        "id": "iLXjHWVa3heP",
        "outputId": "3d35c2eb-2e91-499e-9441-07a30cd9650f"
      },
      "source": [
        "# filtrando apenas vídeos que possuam algum segmento em cluster\n",
        "videos = {}\n",
        "for s, s_data in all_segments_docs.items():\n",
        "    v = s_data['video'].id\n",
        "    if s_data['hasMovement'] and v not in videos and v in videos_docs:\n",
        "        videos[v] = videos_docs[v]\n",
        "len(videos)"
      ],
      "execution_count": 30,
      "outputs": [
        {
          "output_type": "execute_result",
          "data": {
            "text/plain": [
              "20299"
            ]
          },
          "metadata": {
            "tags": []
          },
          "execution_count": 30
        }
      ]
    },
    {
      "cell_type": "code",
      "metadata": {
        "colab": {
          "base_uri": "https://localhost:8080/"
        },
        "id": "qLozczpyO9rj",
        "outputId": "a0e8fcce-2bd9-4704-fafd-0d326668cde3"
      },
      "source": [
        "from cereja import Progress, TfIdf\n",
        "import pickle\n",
        "\n",
        "sentences = [video['sentence'] for _,video in videos.items()]\n",
        "# ADD 'tom, toms, mary, marys' em stopwords\n",
        "stop = ['em', 'do', 'da', 'de', 'pro', 'pra', 'no', 'dos', 'na', 'os', 'à', 'pela', 'nas', 'num',\\\n",
        "        'das', 'numa', 'nos', 'às', 'pelas', 'as', 'uns', 'umas', 'lhe', 'é', 'o', 'a', 'tom', 'mary', 'toms', 'marys',\n",
        "        'is', 'are', 'am', 'at', 'an', 'of', 'the'] if WORKSPACE == 'HT-BZS' \\\n",
        "        else \\\n",
        "        ['em', 'da', 'de', 'pro', 'pra', 'no', 'dos', 'na', 'os', 'à', 'pela', 'nas', 'num',\\\n",
        "        'das', 'numa', 'nos', 'às', 'pelas', 'as', 'uns', 'umas', 'lhe', 'é', 'o', 'a', 'tom', 'mary', 'toms', 'marys',\n",
        "        'is', 'are', 'am', 'at', 'an', 'of', 'the']\n",
        "\n",
        "tf_idf = TfIdf(sentences, stop_words=stop)\n",
        "\n",
        "# Save TF_IDF into a pickle file.\n",
        "\n",
        "pickle.dump( tf_idf, open( f\"TF_IFD_{WORKSPACE}.pkl\", \"wb\" ) )\n",
        "\n",
        "blob = cmt.firebase.storage.db.blob(f'modelos/automatic_cluster/TF_IFD_{WORKSPACE}.pkl')\n",
        "blob.upload_from_filename(f\"TF_IFD_{WORKSPACE}.pkl\")"
      ],
      "execution_count": 31,
      "outputs": [
        {
          "output_type": "stream",
          "text": [
            "10681 words on corpus\n",
            "Computing idf...\n",
            "idf computed!\n"
          ],
          "name": "stdout"
        }
      ]
    }
  ]
}