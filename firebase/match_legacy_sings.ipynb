{
  "nbformat": 4,
  "nbformat_minor": 0,
  "metadata": {
    "colab": {
      "name": "match_legacy_sings.ipynb",
      "provenance": [],
      "collapsed_sections": [],
      "toc_visible": true,
      "authorship_tag": "ABX9TyMPOFbWMb9JkyuyQ0ychErh",
      "include_colab_link": true
    },
    "kernelspec": {
      "name": "python3",
      "display_name": "Python 3"
    }
  },
  "cells": [
    {
      "cell_type": "markdown",
      "metadata": {
        "id": "view-in-github",
        "colab_type": "text"
      },
      "source": [
        "<a href=\"https://colab.research.google.com/github/ailton-felix/Combinacoes/blob/master/firebase/match_legacy_sings.ipynb\" target=\"_parent\"><img src=\"https://colab.research.google.com/assets/colab-badge.svg\" alt=\"Open In Colab\"/></a>"
      ]
    },
    {
      "cell_type": "code",
      "metadata": {
        "cellView": "form",
        "id": "_brKE0n8iEvj"
      },
      "source": [
        "#@title Selecione o usuário\n",
        "user = \"ailton\" #@param [\"ailton\", \"lucas\", \"joab\"] {allow-input: false}"
      ],
      "execution_count": null,
      "outputs": []
    },
    {
      "cell_type": "code",
      "metadata": {
        "id": "HdcxyhCpj1py"
      },
      "source": [
        "from google.colab import drive\n",
        "from google.colab import output\n",
        "import IPython\n",
        "import os\n",
        "import json\n",
        "drive.mount('/content/drive')\n",
        "\n",
        "WORK_DIR = '/content/drive/Shareddrives/IA/CIENCIA_DE_DADOS/MATCH_LEGACY_SIGNS_COMMUNITY'\n",
        "progress_path = os.path.join(WORK_DIR, f'{user}_progress.txt')"
      ],
      "execution_count": null,
      "outputs": []
    },
    {
      "cell_type": "markdown",
      "metadata": {
        "id": "w2zpARoubXBB"
      },
      "source": [
        "# Carregar Progresso\n",
        "Estrutura salva dos clusters de sinal:\n",
        "\n",
        "```python\n",
        "sign_cluster = {\n",
        "    sign_i: [\n",
        "        sign_i, sign_j, sign_k, ...\n",
        "    ]\n",
        "    sign_l: ...\n",
        "}\n",
        "```"
      ]
    },
    {
      "cell_type": "code",
      "metadata": {
        "id": "CcWGiUa48tKd"
      },
      "source": [
        "import os\n",
        "\n",
        "cluster_path = os.path.join(WORK_DIR, f'{user}_sign_cluster.json')\n",
        "\n",
        "if os.path.exists(cluster_path):\n",
        "    with open(cluster_path) as f:\n",
        "        sign_cluster = json.load(f)\n",
        "else:\n",
        "    sign_cluster = {}\n",
        "print(len(sign_cluster), 'clusters de sinal já criado')"
      ],
      "execution_count": null,
      "outputs": []
    },
    {
      "cell_type": "code",
      "metadata": {
        "id": "QaT3Wyu3ZNRY"
      },
      "source": [
        "import json\n",
        "with open(os.path.join(WORK_DIR, 'GROUP_SIGNS_HTA.json')) as f:\n",
        "    progress_match_signs = json.load(f)[user]\n",
        "print(len(progress_match_signs), 'grupos de glosa a avaliar')"
      ],
      "execution_count": null,
      "outputs": []
    },
    {
      "cell_type": "code",
      "metadata": {
        "id": "Fs9rBfJ6Zbmw"
      },
      "source": [
        "def load_progress():\n",
        "    if os.path.exists(progress_path):\n",
        "        with open(progress_path) as f:\n",
        "            progress = int(f.read())\n",
        "    else:\n",
        "        progress = 0\n",
        "        assert input('Progresso não encontrado! Digite \"sim\" se desejas seguir: ').lower() == 'sim'\n",
        "        output.clear()\n",
        "\n",
        "    return progress\n",
        "\n",
        "\n",
        "def cluster_sign(sign1, sign2):\n",
        "    has_cluster = False\n",
        "    for sign_id, signs_list in sign_cluster.items():\n",
        "        if sign1 in signs_list: \n",
        "            if sign2 not in signs_list:\n",
        "                sign_cluster[sign_id].append(sign2)\n",
        "                has_cluster = True\n",
        "                break\n",
        "        elif sign2 in signs_list:\n",
        "            if sign1 not in signs_list:\n",
        "                sign_cluster[sign_id].append(sign1)\n",
        "                has_cluster = True\n",
        "                break\n",
        "    \n",
        "    if not has_cluster:\n",
        "        sign_cluster[sign1] = [sign1, sign2]\n",
        "      \n",
        "    with open(cluster_path, 'w') as f:\n",
        "        json.dump(sign_cluster, f, ensure_ascii=False, indent=4)\n",
        "\n",
        "def remove_sign_from_cluster(sign):\n",
        "    found = False\n",
        "    for sign_id, signs_list in sign_cluster.items():\n",
        "        if sign in signs_list:\n",
        "            if sign == sign_id:\n",
        "                signs_list.remove(sign)\n",
        "                del sign_cluster[sign]\n",
        "                sign_cluster[signs_list[0]] = signs_list\n",
        "                found = True\n",
        "                break\n",
        "            else:\n",
        "                signs_list.remove(sign)\n",
        "                found = True\n",
        "                break\n",
        "    if found:\n",
        "        with open(cluster_path, 'w') as f:\n",
        "            json.dump(sign_cluster, f, ensure_ascii=False, indent=4)\n",
        "        print(f'\"{cluster_path}\" atualizado!')\n",
        "    else:\n",
        "        print('sinal não encontrado nos clusters')\n",
        "\n",
        "progress = load_progress()"
      ],
      "execution_count": null,
      "outputs": []
    },
    {
      "cell_type": "markdown",
      "metadata": {
        "id": "bV0EEVwTbJ86"
      },
      "source": [
        "# Hora do Match\n",
        "\n",
        "### Instruções:\n",
        "\n",
        "1 - Você só precisa executar essa célula uma vez. (\"Oxe, mas ela para de executar assim que dou o *run*!\" - isso, mas a sua interação será com a página html gerada)\n",
        "\n",
        "2 - Voto \"*No*\" errado: execute uma célula como abaixo para retornar ao progresso anterior:\n",
        "\n",
        "```python\n",
        "progress = progress - 1\n",
        "```\n",
        "e execute essa célula novamente\n",
        "\n",
        "3 - Voto \"*Yes*\" errado: faço como a instrução 2 e use a função \"*remove_sign_from_cluster(sign)*\" para remover o sinal \"*sign*\" do cluster nos registros:\n",
        "```python\n",
        "remove_sign_from_cluster('vzWp4uGIPB08z3Ou0mrK')\n",
        "```"
      ]
    },
    {
      "cell_type": "code",
      "metadata": {
        "id": "UdnaxwhMbNhP"
      },
      "source": [
        "html_page = \"\"\"<script src=\"https://plugin.handtalk.me/core/2.0.19/hugo.min.js\"></script>\n",
        "    <script>\n",
        "        var sign1, sign2, hta1, hta2;\n",
        "        var progressMatchSigns = \"\"\" + f'{progress_match_signs}' + \"\"\"\n",
        "        var progress = \"\"\" + f'{progress}' + \"\"\"\n",
        "\n",
        "        function nextMatch() {\n",
        "            const matchSignsHtas = progressMatchSigns[progress]\n",
        "            const signs = Object.keys(matchSignsHtas)\n",
        "            const htas = Object.values(matchSignsHtas)\n",
        "\n",
        "            sign1 = signs[0]; \n",
        "            sign2 = signs[1]; \n",
        "            hta1 = htas[0];\n",
        "            hta2 = htas[1];\n",
        "\n",
        "            document.getElementById(\"prog\").innerHTML = String(progress+1) + '/' + String(progressMatchSigns.length);\n",
        "            document.getElementById(\"sign\").innerHTML = sign1 + ' x ' + sign2;\n",
        "\n",
        "            console.log(`Progresso: ${progress+1}/${progressMatchSigns.length}`);\n",
        "            console.log(`Sinais: ${sign1} x ${sign2}`);\n",
        "        }\n",
        "    </script>\n",
        "    <div>\n",
        "        <h1>Usuário: \"\"\"+ f'{user}' +\"\"\"</h2>\n",
        "        <h2>Progresso: <span id=\"prog\"></span></h2>\n",
        "        <h3>Sinais: <span id=\"sign\"></span></h2>\n",
        "    </div>\n",
        "    <div id=\"hugos\" style=\"display: flex; flex-direction: row\">\n",
        "        '<div id=\"hugo1\"><canvas width=\"250\" height=\"400\" class=\"col\" style=\"width: 250px; height: 400px;\"></canvas></div>'\n",
        "        '<div id=\"hugo2\"><canvas width=\"250\" height=\"400\" class=\"col\" style=\"width: 250px; height: 400px;\"></canvas></div>'\n",
        "    </div>\n",
        "    <div id=\"votes\" style=\"display: flex; flex-direction: row\">\n",
        "        <button id='btnYes'>Yes</button>\n",
        "        <button id='btnNo'>No</button>\n",
        "        <button id='btnRun'>Run Animation</button>\n",
        "    </div>\n",
        "    <script>\n",
        "        \n",
        "        function addHugo(hugoId) {\n",
        "            var hugo = new Hugo(\"6b1fa06c035e881027a8050a0fd971ac\");\n",
        "            hugo.load().then(function (elem) {\n",
        "            hugo.resize(250, 400);\n",
        "            elem.setAttribute(\"class\", \"col\");\n",
        "            document.querySelector(hugoId).appendChild(elem);\n",
        "            }).catch(function (error) {\n",
        "                errorMsgElem.innerText = error;\n",
        "            });\n",
        "            return hugo\n",
        "        }\n",
        "        nextMatch();\n",
        "    </script>\n",
        "    <script>\n",
        "        var hugo1 = addHugo(\"#hugo1\")\n",
        "        var hugo2 = addHugo(\"#hugo2\")\n",
        "    </script>\n",
        "    <script>\n",
        "        function executeAnim(anim1, anim2) {\n",
        "            hugo1.prepareSequences([anim1.split('$')])\n",
        "                .then(hugo1.signAnimationsCodes);\n",
        "            hugo2.prepareSequences([anim2.split('$')])\n",
        "            .then(hugo2.signAnimationsCodes);\n",
        "        }\n",
        "    </script>\n",
        "    <script>\n",
        "        executeAnim(hta1, hta2);\n",
        "\n",
        "        document.querySelector('#btnRun').onclick = () => {\n",
        "            executeAnim(hta1, hta2);\n",
        "        };\n",
        "\n",
        "        document.querySelector('#btnYes').onclick = () => {\n",
        "            google.colab.kernel.invokeFunction('notebook.voteYes', [], {});\n",
        "            progress++;\n",
        "            nextMatch();\n",
        "            executeAnim(hta1, hta2);\n",
        "        };\n",
        "\n",
        "        document.querySelector('#btnNo').onclick = () => {\n",
        "            google.colab.kernel.invokeFunction('notebook.voteNo', [], {});\n",
        "            progress++;\n",
        "            nextMatch();\n",
        "            executeAnim(hta1, hta2);\n",
        "        };\n",
        "    </script>\"\"\"\n",
        "\n",
        "\n",
        "def register_progress():\n",
        "    global progress\n",
        "    progress+=1\n",
        "    with open(progress_path, 'w') as f:\n",
        "        f.write(str(progress))\n",
        "\n",
        "\n",
        "def vote_yes():\n",
        "    #   criar voto entre os segmentos dos sinais -> usar 'sign_segment_dic'\n",
        "    #   agrupar sinais\n",
        "    global progress_match_signs, progress\n",
        "    match_signs_htas = progress_match_signs[progress]\n",
        "    \n",
        "    signs = list(match_signs_htas.keys())\n",
        "    sign1, sign2 = signs[0], signs[1]\n",
        "\n",
        "    cluster_sign(sign1, sign2)\n",
        "\n",
        "    # registrar progresso\n",
        "    register_progress()\n",
        "\n",
        "\n",
        "def vote_no():\n",
        "    global progress\n",
        "    # registrar progresso\n",
        "    register_progress()\n",
        "\n",
        "\n",
        "progress = load_progress()\n",
        "output.register_callback('notebook.voteYes', vote_yes)\n",
        "output.register_callback('notebook.voteNo', vote_no)\n",
        "\n",
        "display(IPython.display.HTML(html_page))"
      ],
      "execution_count": null,
      "outputs": []
    },
    {
      "cell_type": "code",
      "metadata": {
        "id": "rRNKENq3barq"
      },
      "source": [
        "# no final substituir os antigos sinais pelo novo sinal do cluster, baseado no seu segmento candidato (deixe que o Tio Ailton vai fazer isso quando tudo acabar)"
      ],
      "execution_count": null,
      "outputs": []
    }
  ]
}