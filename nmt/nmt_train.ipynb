{
  "nbformat": 4,
  "nbformat_minor": 0,
  "metadata": {
    "colab": {
      "name": "nmt_train.ipynb",
      "provenance": [],
      "collapsed_sections": [
        "n2MXHJliynEP",
        "U8R0KwSrpR-F"
      ],
      "include_colab_link": true
    },
    "environment": {
      "name": "tf2-gpu.2-3.mnightly-2021-02-12-debian-10-test",
      "type": "gcloud",
      "uri": "gcr.io/deeplearning-platform-release/tf2-gpu.2-3:mnightly-2021-02-12-debian-10-test"
    },
    "kernelspec": {
      "display_name": "Python 3",
      "language": "python",
      "name": "python3"
    },
    "language_info": {
      "codemirror_mode": {
        "name": "ipython",
        "version": 3
      },
      "file_extension": ".py",
      "mimetype": "text/x-python",
      "name": "python",
      "nbconvert_exporter": "python",
      "pygments_lexer": "ipython3",
      "version": "3.7.9"
    },
    "widgets": {
      "application/vnd.jupyter.widget-state+json": {
        "46fb95bc11834061acdd91eddbc9c71a": {
          "model_module": "@jupyter-widgets/controls",
          "model_name": "VBoxModel",
          "state": {
            "_view_name": "VBoxView",
            "_dom_classes": [
              "widget-interact"
            ],
            "_model_name": "VBoxModel",
            "_view_module": "@jupyter-widgets/controls",
            "_model_module_version": "1.5.0",
            "_view_count": null,
            "_view_module_version": "1.5.0",
            "box_style": "",
            "layout": "IPY_MODEL_c4ef5bea18a6428b8357da6d56b22a06",
            "_model_module": "@jupyter-widgets/controls",
            "children": [
              "IPY_MODEL_369bb28db053417db7c4273d42ccab1e",
              "IPY_MODEL_4364ae8c8e79436aa03ed11d21eecb4e"
            ]
          }
        },
        "c4ef5bea18a6428b8357da6d56b22a06": {
          "model_module": "@jupyter-widgets/base",
          "model_name": "LayoutModel",
          "state": {
            "_view_name": "LayoutView",
            "grid_template_rows": null,
            "right": null,
            "justify_content": null,
            "_view_module": "@jupyter-widgets/base",
            "overflow": null,
            "_model_module_version": "1.2.0",
            "_view_count": null,
            "flex_flow": null,
            "width": null,
            "min_width": null,
            "border": null,
            "align_items": null,
            "bottom": null,
            "_model_module": "@jupyter-widgets/base",
            "top": null,
            "grid_column": null,
            "overflow_y": null,
            "overflow_x": null,
            "grid_auto_flow": null,
            "grid_area": null,
            "grid_template_columns": null,
            "flex": null,
            "_model_name": "LayoutModel",
            "justify_items": null,
            "grid_row": null,
            "max_height": null,
            "align_content": null,
            "visibility": null,
            "align_self": null,
            "height": null,
            "min_height": null,
            "padding": null,
            "grid_auto_rows": null,
            "grid_gap": null,
            "max_width": null,
            "order": null,
            "_view_module_version": "1.2.0",
            "grid_template_areas": null,
            "object_position": null,
            "object_fit": null,
            "grid_auto_columns": null,
            "margin": null,
            "display": null,
            "left": null
          }
        },
        "369bb28db053417db7c4273d42ccab1e": {
          "model_module": "@jupyter-widgets/controls",
          "model_name": "TextModel",
          "state": {
            "_view_name": "TextView",
            "style": "IPY_MODEL_baef3b98ef934d249cc019fc96d03999",
            "_dom_classes": [],
            "description": "Comment",
            "_model_name": "TextModel",
            "placeholder": "​",
            "_view_module": "@jupyter-widgets/controls",
            "_model_module_version": "1.5.0",
            "value": "Treinamento da NMT dados convertidos mais dados community mais Palavras Relacionadas + teste legacy + 30 epocas + 10 input + 128 neurônios + 0.003 LR + 0.75 ntr",
            "_view_count": null,
            "disabled": false,
            "_view_module_version": "1.5.0",
            "continuous_update": true,
            "description_tooltip": null,
            "_model_module": "@jupyter-widgets/controls",
            "layout": "IPY_MODEL_7ca8ba72974a45b5b089f568a98738c6"
          }
        },
        "4364ae8c8e79436aa03ed11d21eecb4e": {
          "model_module": "@jupyter-widgets/output",
          "model_name": "OutputModel",
          "state": {
            "_view_name": "OutputView",
            "msg_id": "",
            "_dom_classes": [],
            "_model_name": "OutputModel",
            "outputs": [],
            "_view_module": "@jupyter-widgets/output",
            "_model_module_version": "1.0.0",
            "_view_count": null,
            "_view_module_version": "1.0.0",
            "layout": "IPY_MODEL_c27677d1f87343d881c947ebc5195c0a",
            "_model_module": "@jupyter-widgets/output"
          }
        },
        "baef3b98ef934d249cc019fc96d03999": {
          "model_module": "@jupyter-widgets/controls",
          "model_name": "DescriptionStyleModel",
          "state": {
            "_view_name": "StyleView",
            "_model_name": "DescriptionStyleModel",
            "description_width": "",
            "_view_module": "@jupyter-widgets/base",
            "_model_module_version": "1.5.0",
            "_view_count": null,
            "_view_module_version": "1.2.0",
            "_model_module": "@jupyter-widgets/controls"
          }
        },
        "7ca8ba72974a45b5b089f568a98738c6": {
          "model_module": "@jupyter-widgets/base",
          "model_name": "LayoutModel",
          "state": {
            "_view_name": "LayoutView",
            "grid_template_rows": null,
            "right": null,
            "justify_content": null,
            "_view_module": "@jupyter-widgets/base",
            "overflow": null,
            "_model_module_version": "1.2.0",
            "_view_count": null,
            "flex_flow": null,
            "width": null,
            "min_width": null,
            "border": null,
            "align_items": null,
            "bottom": null,
            "_model_module": "@jupyter-widgets/base",
            "top": null,
            "grid_column": null,
            "overflow_y": null,
            "overflow_x": null,
            "grid_auto_flow": null,
            "grid_area": null,
            "grid_template_columns": null,
            "flex": null,
            "_model_name": "LayoutModel",
            "justify_items": null,
            "grid_row": null,
            "max_height": null,
            "align_content": null,
            "visibility": null,
            "align_self": null,
            "height": null,
            "min_height": null,
            "padding": null,
            "grid_auto_rows": null,
            "grid_gap": null,
            "max_width": null,
            "order": null,
            "_view_module_version": "1.2.0",
            "grid_template_areas": null,
            "object_position": null,
            "object_fit": null,
            "grid_auto_columns": null,
            "margin": null,
            "display": null,
            "left": null
          }
        },
        "c27677d1f87343d881c947ebc5195c0a": {
          "model_module": "@jupyter-widgets/base",
          "model_name": "LayoutModel",
          "state": {
            "_view_name": "LayoutView",
            "grid_template_rows": null,
            "right": null,
            "justify_content": null,
            "_view_module": "@jupyter-widgets/base",
            "overflow": null,
            "_model_module_version": "1.2.0",
            "_view_count": null,
            "flex_flow": null,
            "width": null,
            "min_width": null,
            "border": null,
            "align_items": null,
            "bottom": null,
            "_model_module": "@jupyter-widgets/base",
            "top": null,
            "grid_column": null,
            "overflow_y": null,
            "overflow_x": null,
            "grid_auto_flow": null,
            "grid_area": null,
            "grid_template_columns": null,
            "flex": null,
            "_model_name": "LayoutModel",
            "justify_items": null,
            "grid_row": null,
            "max_height": null,
            "align_content": null,
            "visibility": null,
            "align_self": null,
            "height": null,
            "min_height": null,
            "padding": null,
            "grid_auto_rows": null,
            "grid_gap": null,
            "max_width": null,
            "order": null,
            "_view_module_version": "1.2.0",
            "grid_template_areas": null,
            "object_position": null,
            "object_fit": null,
            "grid_auto_columns": null,
            "margin": null,
            "display": null,
            "left": null
          }
        },
        "57561fe4db71488bb5683c7bb3aec5e4": {
          "model_module": "@jupyter-widgets/controls",
          "model_name": "VBoxModel",
          "state": {
            "_view_name": "VBoxView",
            "_dom_classes": [
              "widget-interact"
            ],
            "_model_name": "VBoxModel",
            "_view_module": "@jupyter-widgets/controls",
            "_model_module_version": "1.5.0",
            "_view_count": null,
            "_view_module_version": "1.5.0",
            "box_style": "",
            "layout": "IPY_MODEL_513311d365d944bba3bd1e32e25977d1",
            "_model_module": "@jupyter-widgets/controls",
            "children": [
              "IPY_MODEL_bf548d026501471386b1b92e48e198d7",
              "IPY_MODEL_1d89503735634abdba5c6cc880600f18",
              "IPY_MODEL_f7a95b5d318b4ea09ee5b815f1b2d255",
              "IPY_MODEL_a339dbd57add459a922042bea3118c09",
              "IPY_MODEL_7e4cda311e34441eaac41e0323b257e6",
              "IPY_MODEL_fd5e2f87c6374041b3fbb5ee6f192d70",
              "IPY_MODEL_e8e1d2efcc084cd1a8a0e5a4a0986636",
              "IPY_MODEL_4d8319c22d8d4eb39b6676691e832590"
            ]
          }
        },
        "513311d365d944bba3bd1e32e25977d1": {
          "model_module": "@jupyter-widgets/base",
          "model_name": "LayoutModel",
          "state": {
            "_view_name": "LayoutView",
            "grid_template_rows": null,
            "right": null,
            "justify_content": null,
            "_view_module": "@jupyter-widgets/base",
            "overflow": null,
            "_model_module_version": "1.2.0",
            "_view_count": null,
            "flex_flow": null,
            "width": null,
            "min_width": null,
            "border": null,
            "align_items": null,
            "bottom": null,
            "_model_module": "@jupyter-widgets/base",
            "top": null,
            "grid_column": null,
            "overflow_y": null,
            "overflow_x": null,
            "grid_auto_flow": null,
            "grid_area": null,
            "grid_template_columns": null,
            "flex": null,
            "_model_name": "LayoutModel",
            "justify_items": null,
            "grid_row": null,
            "max_height": null,
            "align_content": null,
            "visibility": null,
            "align_self": null,
            "height": null,
            "min_height": null,
            "padding": null,
            "grid_auto_rows": null,
            "grid_gap": null,
            "max_width": null,
            "order": null,
            "_view_module_version": "1.2.0",
            "grid_template_areas": null,
            "object_position": null,
            "object_fit": null,
            "grid_auto_columns": null,
            "margin": null,
            "display": null,
            "left": null
          }
        },
        "bf548d026501471386b1b92e48e198d7": {
          "model_module": "@jupyter-widgets/controls",
          "model_name": "DropdownModel",
          "state": {
            "_options_labels": [
              "en-asl",
              "pt-bzs"
            ],
            "_view_name": "DropdownView",
            "style": "IPY_MODEL_72de537101ee491f96ceef7862a255fb",
            "_dom_classes": [],
            "description": "Languages",
            "_model_name": "DropdownModel",
            "index": 0,
            "_view_module": "@jupyter-widgets/controls",
            "_model_module_version": "1.5.0",
            "_view_count": null,
            "disabled": false,
            "_view_module_version": "1.5.0",
            "description_tooltip": null,
            "_model_module": "@jupyter-widgets/controls",
            "layout": "IPY_MODEL_95037bb2369b4265a681258d3ef67265"
          }
        },
        "1d89503735634abdba5c6cc880600f18": {
          "model_module": "@jupyter-widgets/controls",
          "model_name": "DropdownModel",
          "state": {
            "_options_labels": [
              "BaselineNgramPredict",
              "SequentialPredict"
            ],
            "_view_name": "DropdownView",
            "style": "IPY_MODEL_77d072b0b27945ed80ba9b74351c2472",
            "_dom_classes": [],
            "description": "Predictor",
            "_model_name": "DropdownModel",
            "index": 0,
            "_view_module": "@jupyter-widgets/controls",
            "_model_module_version": "1.5.0",
            "_view_count": null,
            "disabled": false,
            "_view_module_version": "1.5.0",
            "description_tooltip": null,
            "_model_module": "@jupyter-widgets/controls",
            "layout": "IPY_MODEL_919147c8d66c4ac7ab515f3c42f5e323"
          }
        },
        "f7a95b5d318b4ea09ee5b815f1b2d255": {
          "model_module": "@jupyter-widgets/controls",
          "model_name": "DropdownModel",
          "state": {
            "_options_labels": [
              "HtNmt",
              "HTModel",
              "AttentionModel"
            ],
            "_view_name": "DropdownView",
            "style": "IPY_MODEL_ccdcc55b5fd840ba83a15aff169395f6",
            "_dom_classes": [],
            "description": "Model",
            "_model_name": "DropdownModel",
            "index": 0,
            "_view_module": "@jupyter-widgets/controls",
            "_model_module_version": "1.5.0",
            "_view_count": null,
            "disabled": false,
            "_view_module_version": "1.5.0",
            "description_tooltip": null,
            "_model_module": "@jupyter-widgets/controls",
            "layout": "IPY_MODEL_2f97d3d9eecd4615b3eaa1d6c9c8be19"
          }
        },
        "a339dbd57add459a922042bea3118c09": {
          "model_module": "@jupyter-widgets/controls",
          "model_name": "DropdownModel",
          "state": {
            "_options_labels": [
              "adam",
              "SGD",
              "RMSprop",
              "Adadelta",
              "Adagrad",
              "Adamax",
              "Nadam",
              "Ftrl"
            ],
            "_view_name": "DropdownView",
            "style": "IPY_MODEL_a912ee24a8684edea8e853f32fa6683a",
            "_dom_classes": [],
            "description": "Optimizer",
            "_model_name": "DropdownModel",
            "index": 0,
            "_view_module": "@jupyter-widgets/controls",
            "_model_module_version": "1.5.0",
            "_view_count": null,
            "disabled": false,
            "_view_module_version": "1.5.0",
            "description_tooltip": null,
            "_model_module": "@jupyter-widgets/controls",
            "layout": "IPY_MODEL_eb1b6efbac1142bab5a37edd9163dd5f"
          }
        },
        "7e4cda311e34441eaac41e0323b257e6": {
          "model_module": "@jupyter-widgets/controls",
          "model_name": "DropdownModel",
          "state": {
            "_options_labels": [
              "0.003",
              "0.00001",
              "0.0001",
              "0.001",
              "0.01",
              "0.03",
              "0.1",
              "0.3",
              "1",
              "3",
              "10"
            ],
            "_view_name": "DropdownView",
            "style": "IPY_MODEL_f027ffb954a24db4aae17a1c42c9d92e",
            "_dom_classes": [],
            "description": "Learning",
            "_model_name": "DropdownModel",
            "index": 0,
            "_view_module": "@jupyter-widgets/controls",
            "_model_module_version": "1.5.0",
            "_view_count": null,
            "disabled": false,
            "_view_module_version": "1.5.0",
            "description_tooltip": null,
            "_model_module": "@jupyter-widgets/controls",
            "layout": "IPY_MODEL_bfb873f54ff94b248496d8c5e17b548d"
          }
        },
        "fd5e2f87c6374041b3fbb5ee6f192d70": {
          "model_module": "@jupyter-widgets/controls",
          "model_name": "DropdownModel",
          "state": {
            "_options_labels": [
              "0.0002",
              "0",
              "0.003",
              "0.01",
              "0.03",
              "0.1",
              "1",
              "3",
              "10"
            ],
            "_view_name": "DropdownView",
            "style": "IPY_MODEL_8991b1c8bd494c2eabf0f5f5f61d0a5f",
            "_dom_classes": [],
            "description": "Decay",
            "_model_name": "DropdownModel",
            "index": 0,
            "_view_module": "@jupyter-widgets/controls",
            "_model_module_version": "1.5.0",
            "_view_count": null,
            "disabled": false,
            "_view_module_version": "1.5.0",
            "description_tooltip": null,
            "_model_module": "@jupyter-widgets/controls",
            "layout": "IPY_MODEL_bb4dd839419340868715b3aabc2f0320"
          }
        },
        "e8e1d2efcc084cd1a8a0e5a4a0986636": {
          "model_module": "@jupyter-widgets/controls",
          "model_name": "DropdownModel",
          "state": {
            "_options_labels": [
              "legacy",
              "new data",
              "mix",
              "input"
            ],
            "_view_name": "DropdownView",
            "style": "IPY_MODEL_263e6d028d824f96bb90eae2e0dc2d1a",
            "_dom_classes": [],
            "description": "Test_from",
            "_model_name": "DropdownModel",
            "index": 1,
            "_view_module": "@jupyter-widgets/controls",
            "_model_module_version": "1.5.0",
            "_view_count": null,
            "disabled": false,
            "_view_module_version": "1.5.0",
            "description_tooltip": null,
            "_model_module": "@jupyter-widgets/controls",
            "layout": "IPY_MODEL_f5d4ade4ca114bea99bf82e6a8c21a36"
          }
        },
        "4d8319c22d8d4eb39b6676691e832590": {
          "model_module": "@jupyter-widgets/output",
          "model_name": "OutputModel",
          "state": {
            "_view_name": "OutputView",
            "msg_id": "",
            "_dom_classes": [],
            "_model_name": "OutputModel",
            "outputs": [],
            "_view_module": "@jupyter-widgets/output",
            "_model_module_version": "1.0.0",
            "_view_count": null,
            "_view_module_version": "1.0.0",
            "layout": "IPY_MODEL_e42fb231d19f424b9e435c8b589c2d5e",
            "_model_module": "@jupyter-widgets/output"
          }
        },
        "72de537101ee491f96ceef7862a255fb": {
          "model_module": "@jupyter-widgets/controls",
          "model_name": "DescriptionStyleModel",
          "state": {
            "_view_name": "StyleView",
            "_model_name": "DescriptionStyleModel",
            "description_width": "",
            "_view_module": "@jupyter-widgets/base",
            "_model_module_version": "1.5.0",
            "_view_count": null,
            "_view_module_version": "1.2.0",
            "_model_module": "@jupyter-widgets/controls"
          }
        },
        "95037bb2369b4265a681258d3ef67265": {
          "model_module": "@jupyter-widgets/base",
          "model_name": "LayoutModel",
          "state": {
            "_view_name": "LayoutView",
            "grid_template_rows": null,
            "right": null,
            "justify_content": null,
            "_view_module": "@jupyter-widgets/base",
            "overflow": null,
            "_model_module_version": "1.2.0",
            "_view_count": null,
            "flex_flow": null,
            "width": null,
            "min_width": null,
            "border": null,
            "align_items": null,
            "bottom": null,
            "_model_module": "@jupyter-widgets/base",
            "top": null,
            "grid_column": null,
            "overflow_y": null,
            "overflow_x": null,
            "grid_auto_flow": null,
            "grid_area": null,
            "grid_template_columns": null,
            "flex": null,
            "_model_name": "LayoutModel",
            "justify_items": null,
            "grid_row": null,
            "max_height": null,
            "align_content": null,
            "visibility": null,
            "align_self": null,
            "height": null,
            "min_height": null,
            "padding": null,
            "grid_auto_rows": null,
            "grid_gap": null,
            "max_width": null,
            "order": null,
            "_view_module_version": "1.2.0",
            "grid_template_areas": null,
            "object_position": null,
            "object_fit": null,
            "grid_auto_columns": null,
            "margin": null,
            "display": null,
            "left": null
          }
        },
        "77d072b0b27945ed80ba9b74351c2472": {
          "model_module": "@jupyter-widgets/controls",
          "model_name": "DescriptionStyleModel",
          "state": {
            "_view_name": "StyleView",
            "_model_name": "DescriptionStyleModel",
            "description_width": "",
            "_view_module": "@jupyter-widgets/base",
            "_model_module_version": "1.5.0",
            "_view_count": null,
            "_view_module_version": "1.2.0",
            "_model_module": "@jupyter-widgets/controls"
          }
        },
        "919147c8d66c4ac7ab515f3c42f5e323": {
          "model_module": "@jupyter-widgets/base",
          "model_name": "LayoutModel",
          "state": {
            "_view_name": "LayoutView",
            "grid_template_rows": null,
            "right": null,
            "justify_content": null,
            "_view_module": "@jupyter-widgets/base",
            "overflow": null,
            "_model_module_version": "1.2.0",
            "_view_count": null,
            "flex_flow": null,
            "width": null,
            "min_width": null,
            "border": null,
            "align_items": null,
            "bottom": null,
            "_model_module": "@jupyter-widgets/base",
            "top": null,
            "grid_column": null,
            "overflow_y": null,
            "overflow_x": null,
            "grid_auto_flow": null,
            "grid_area": null,
            "grid_template_columns": null,
            "flex": null,
            "_model_name": "LayoutModel",
            "justify_items": null,
            "grid_row": null,
            "max_height": null,
            "align_content": null,
            "visibility": null,
            "align_self": null,
            "height": null,
            "min_height": null,
            "padding": null,
            "grid_auto_rows": null,
            "grid_gap": null,
            "max_width": null,
            "order": null,
            "_view_module_version": "1.2.0",
            "grid_template_areas": null,
            "object_position": null,
            "object_fit": null,
            "grid_auto_columns": null,
            "margin": null,
            "display": null,
            "left": null
          }
        },
        "ccdcc55b5fd840ba83a15aff169395f6": {
          "model_module": "@jupyter-widgets/controls",
          "model_name": "DescriptionStyleModel",
          "state": {
            "_view_name": "StyleView",
            "_model_name": "DescriptionStyleModel",
            "description_width": "",
            "_view_module": "@jupyter-widgets/base",
            "_model_module_version": "1.5.0",
            "_view_count": null,
            "_view_module_version": "1.2.0",
            "_model_module": "@jupyter-widgets/controls"
          }
        },
        "2f97d3d9eecd4615b3eaa1d6c9c8be19": {
          "model_module": "@jupyter-widgets/base",
          "model_name": "LayoutModel",
          "state": {
            "_view_name": "LayoutView",
            "grid_template_rows": null,
            "right": null,
            "justify_content": null,
            "_view_module": "@jupyter-widgets/base",
            "overflow": null,
            "_model_module_version": "1.2.0",
            "_view_count": null,
            "flex_flow": null,
            "width": null,
            "min_width": null,
            "border": null,
            "align_items": null,
            "bottom": null,
            "_model_module": "@jupyter-widgets/base",
            "top": null,
            "grid_column": null,
            "overflow_y": null,
            "overflow_x": null,
            "grid_auto_flow": null,
            "grid_area": null,
            "grid_template_columns": null,
            "flex": null,
            "_model_name": "LayoutModel",
            "justify_items": null,
            "grid_row": null,
            "max_height": null,
            "align_content": null,
            "visibility": null,
            "align_self": null,
            "height": null,
            "min_height": null,
            "padding": null,
            "grid_auto_rows": null,
            "grid_gap": null,
            "max_width": null,
            "order": null,
            "_view_module_version": "1.2.0",
            "grid_template_areas": null,
            "object_position": null,
            "object_fit": null,
            "grid_auto_columns": null,
            "margin": null,
            "display": null,
            "left": null
          }
        },
        "a912ee24a8684edea8e853f32fa6683a": {
          "model_module": "@jupyter-widgets/controls",
          "model_name": "DescriptionStyleModel",
          "state": {
            "_view_name": "StyleView",
            "_model_name": "DescriptionStyleModel",
            "description_width": "",
            "_view_module": "@jupyter-widgets/base",
            "_model_module_version": "1.5.0",
            "_view_count": null,
            "_view_module_version": "1.2.0",
            "_model_module": "@jupyter-widgets/controls"
          }
        },
        "eb1b6efbac1142bab5a37edd9163dd5f": {
          "model_module": "@jupyter-widgets/base",
          "model_name": "LayoutModel",
          "state": {
            "_view_name": "LayoutView",
            "grid_template_rows": null,
            "right": null,
            "justify_content": null,
            "_view_module": "@jupyter-widgets/base",
            "overflow": null,
            "_model_module_version": "1.2.0",
            "_view_count": null,
            "flex_flow": null,
            "width": null,
            "min_width": null,
            "border": null,
            "align_items": null,
            "bottom": null,
            "_model_module": "@jupyter-widgets/base",
            "top": null,
            "grid_column": null,
            "overflow_y": null,
            "overflow_x": null,
            "grid_auto_flow": null,
            "grid_area": null,
            "grid_template_columns": null,
            "flex": null,
            "_model_name": "LayoutModel",
            "justify_items": null,
            "grid_row": null,
            "max_height": null,
            "align_content": null,
            "visibility": null,
            "align_self": null,
            "height": null,
            "min_height": null,
            "padding": null,
            "grid_auto_rows": null,
            "grid_gap": null,
            "max_width": null,
            "order": null,
            "_view_module_version": "1.2.0",
            "grid_template_areas": null,
            "object_position": null,
            "object_fit": null,
            "grid_auto_columns": null,
            "margin": null,
            "display": null,
            "left": null
          }
        },
        "f027ffb954a24db4aae17a1c42c9d92e": {
          "model_module": "@jupyter-widgets/controls",
          "model_name": "DescriptionStyleModel",
          "state": {
            "_view_name": "StyleView",
            "_model_name": "DescriptionStyleModel",
            "description_width": "",
            "_view_module": "@jupyter-widgets/base",
            "_model_module_version": "1.5.0",
            "_view_count": null,
            "_view_module_version": "1.2.0",
            "_model_module": "@jupyter-widgets/controls"
          }
        },
        "bfb873f54ff94b248496d8c5e17b548d": {
          "model_module": "@jupyter-widgets/base",
          "model_name": "LayoutModel",
          "state": {
            "_view_name": "LayoutView",
            "grid_template_rows": null,
            "right": null,
            "justify_content": null,
            "_view_module": "@jupyter-widgets/base",
            "overflow": null,
            "_model_module_version": "1.2.0",
            "_view_count": null,
            "flex_flow": null,
            "width": null,
            "min_width": null,
            "border": null,
            "align_items": null,
            "bottom": null,
            "_model_module": "@jupyter-widgets/base",
            "top": null,
            "grid_column": null,
            "overflow_y": null,
            "overflow_x": null,
            "grid_auto_flow": null,
            "grid_area": null,
            "grid_template_columns": null,
            "flex": null,
            "_model_name": "LayoutModel",
            "justify_items": null,
            "grid_row": null,
            "max_height": null,
            "align_content": null,
            "visibility": null,
            "align_self": null,
            "height": null,
            "min_height": null,
            "padding": null,
            "grid_auto_rows": null,
            "grid_gap": null,
            "max_width": null,
            "order": null,
            "_view_module_version": "1.2.0",
            "grid_template_areas": null,
            "object_position": null,
            "object_fit": null,
            "grid_auto_columns": null,
            "margin": null,
            "display": null,
            "left": null
          }
        },
        "8991b1c8bd494c2eabf0f5f5f61d0a5f": {
          "model_module": "@jupyter-widgets/controls",
          "model_name": "DescriptionStyleModel",
          "state": {
            "_view_name": "StyleView",
            "_model_name": "DescriptionStyleModel",
            "description_width": "",
            "_view_module": "@jupyter-widgets/base",
            "_model_module_version": "1.5.0",
            "_view_count": null,
            "_view_module_version": "1.2.0",
            "_model_module": "@jupyter-widgets/controls"
          }
        },
        "bb4dd839419340868715b3aabc2f0320": {
          "model_module": "@jupyter-widgets/base",
          "model_name": "LayoutModel",
          "state": {
            "_view_name": "LayoutView",
            "grid_template_rows": null,
            "right": null,
            "justify_content": null,
            "_view_module": "@jupyter-widgets/base",
            "overflow": null,
            "_model_module_version": "1.2.0",
            "_view_count": null,
            "flex_flow": null,
            "width": null,
            "min_width": null,
            "border": null,
            "align_items": null,
            "bottom": null,
            "_model_module": "@jupyter-widgets/base",
            "top": null,
            "grid_column": null,
            "overflow_y": null,
            "overflow_x": null,
            "grid_auto_flow": null,
            "grid_area": null,
            "grid_template_columns": null,
            "flex": null,
            "_model_name": "LayoutModel",
            "justify_items": null,
            "grid_row": null,
            "max_height": null,
            "align_content": null,
            "visibility": null,
            "align_self": null,
            "height": null,
            "min_height": null,
            "padding": null,
            "grid_auto_rows": null,
            "grid_gap": null,
            "max_width": null,
            "order": null,
            "_view_module_version": "1.2.0",
            "grid_template_areas": null,
            "object_position": null,
            "object_fit": null,
            "grid_auto_columns": null,
            "margin": null,
            "display": null,
            "left": null
          }
        },
        "263e6d028d824f96bb90eae2e0dc2d1a": {
          "model_module": "@jupyter-widgets/controls",
          "model_name": "DescriptionStyleModel",
          "state": {
            "_view_name": "StyleView",
            "_model_name": "DescriptionStyleModel",
            "description_width": "",
            "_view_module": "@jupyter-widgets/base",
            "_model_module_version": "1.5.0",
            "_view_count": null,
            "_view_module_version": "1.2.0",
            "_model_module": "@jupyter-widgets/controls"
          }
        },
        "f5d4ade4ca114bea99bf82e6a8c21a36": {
          "model_module": "@jupyter-widgets/base",
          "model_name": "LayoutModel",
          "state": {
            "_view_name": "LayoutView",
            "grid_template_rows": null,
            "right": null,
            "justify_content": null,
            "_view_module": "@jupyter-widgets/base",
            "overflow": null,
            "_model_module_version": "1.2.0",
            "_view_count": null,
            "flex_flow": null,
            "width": null,
            "min_width": null,
            "border": null,
            "align_items": null,
            "bottom": null,
            "_model_module": "@jupyter-widgets/base",
            "top": null,
            "grid_column": null,
            "overflow_y": null,
            "overflow_x": null,
            "grid_auto_flow": null,
            "grid_area": null,
            "grid_template_columns": null,
            "flex": null,
            "_model_name": "LayoutModel",
            "justify_items": null,
            "grid_row": null,
            "max_height": null,
            "align_content": null,
            "visibility": null,
            "align_self": null,
            "height": null,
            "min_height": null,
            "padding": null,
            "grid_auto_rows": null,
            "grid_gap": null,
            "max_width": null,
            "order": null,
            "_view_module_version": "1.2.0",
            "grid_template_areas": null,
            "object_position": null,
            "object_fit": null,
            "grid_auto_columns": null,
            "margin": null,
            "display": null,
            "left": null
          }
        },
        "e42fb231d19f424b9e435c8b589c2d5e": {
          "model_module": "@jupyter-widgets/base",
          "model_name": "LayoutModel",
          "state": {
            "_view_name": "LayoutView",
            "grid_template_rows": null,
            "right": null,
            "justify_content": null,
            "_view_module": "@jupyter-widgets/base",
            "overflow": null,
            "_model_module_version": "1.2.0",
            "_view_count": null,
            "flex_flow": null,
            "width": null,
            "min_width": null,
            "border": null,
            "align_items": null,
            "bottom": null,
            "_model_module": "@jupyter-widgets/base",
            "top": null,
            "grid_column": null,
            "overflow_y": null,
            "overflow_x": null,
            "grid_auto_flow": null,
            "grid_area": null,
            "grid_template_columns": null,
            "flex": null,
            "_model_name": "LayoutModel",
            "justify_items": null,
            "grid_row": null,
            "max_height": null,
            "align_content": null,
            "visibility": null,
            "align_self": null,
            "height": null,
            "min_height": null,
            "padding": null,
            "grid_auto_rows": null,
            "grid_gap": null,
            "max_width": null,
            "order": null,
            "_view_module_version": "1.2.0",
            "grid_template_areas": null,
            "object_position": null,
            "object_fit": null,
            "grid_auto_columns": null,
            "margin": null,
            "display": null,
            "left": null
          }
        },
        "e54be93fabdb4f70b632d1cc5f98e49b": {
          "model_module": "@jupyter-widgets/controls",
          "model_name": "VBoxModel",
          "state": {
            "_view_name": "VBoxView",
            "_dom_classes": [
              "widget-interact"
            ],
            "_model_name": "VBoxModel",
            "_view_module": "@jupyter-widgets/controls",
            "_model_module_version": "1.5.0",
            "_view_count": null,
            "_view_module_version": "1.5.0",
            "box_style": "",
            "layout": "IPY_MODEL_b8dff5dfdf2d4e7fa8ccb01e4b0b0f68",
            "_model_module": "@jupyter-widgets/controls",
            "children": [
              "IPY_MODEL_010a574d585244cfa60c7f70d098d755",
              "IPY_MODEL_ad299ed0e70a461690eb18efa6ae11de",
              "IPY_MODEL_6f773ad1fd9344db859c24ad727af7a0",
              "IPY_MODEL_527bb88424614dcc9dd15dc9560c8421",
              "IPY_MODEL_bda95b8b4ff94d05ac7bd8b6ac0fecd9",
              "IPY_MODEL_4cb9c8a8b7d44ed0b97014051ab0618b",
              "IPY_MODEL_7d1b39ddd4024689b6d5002528b0693d"
            ]
          }
        },
        "b8dff5dfdf2d4e7fa8ccb01e4b0b0f68": {
          "model_module": "@jupyter-widgets/base",
          "model_name": "LayoutModel",
          "state": {
            "_view_name": "LayoutView",
            "grid_template_rows": null,
            "right": null,
            "justify_content": null,
            "_view_module": "@jupyter-widgets/base",
            "overflow": null,
            "_model_module_version": "1.2.0",
            "_view_count": null,
            "flex_flow": null,
            "width": null,
            "min_width": null,
            "border": null,
            "align_items": null,
            "bottom": null,
            "_model_module": "@jupyter-widgets/base",
            "top": null,
            "grid_column": null,
            "overflow_y": null,
            "overflow_x": null,
            "grid_auto_flow": null,
            "grid_area": null,
            "grid_template_columns": null,
            "flex": null,
            "_model_name": "LayoutModel",
            "justify_items": null,
            "grid_row": null,
            "max_height": null,
            "align_content": null,
            "visibility": null,
            "align_self": null,
            "height": null,
            "min_height": null,
            "padding": null,
            "grid_auto_rows": null,
            "grid_gap": null,
            "max_width": null,
            "order": null,
            "_view_module_version": "1.2.0",
            "grid_template_areas": null,
            "object_position": null,
            "object_fit": null,
            "grid_auto_columns": null,
            "margin": null,
            "display": null,
            "left": null
          }
        },
        "010a574d585244cfa60c7f70d098d755": {
          "model_module": "@jupyter-widgets/controls",
          "model_name": "TextModel",
          "state": {
            "_view_name": "TextView",
            "style": "IPY_MODEL_860d659569924390835480b48e9069ba",
            "_dom_classes": [],
            "description": "Epochs",
            "_model_name": "TextModel",
            "placeholder": "​",
            "_view_module": "@jupyter-widgets/controls",
            "_model_module_version": "1.5.0",
            "value": "30",
            "_view_count": null,
            "disabled": false,
            "_view_module_version": "1.5.0",
            "continuous_update": true,
            "description_tooltip": null,
            "_model_module": "@jupyter-widgets/controls",
            "layout": "IPY_MODEL_01bf973511e04206ae61f8b5e899b212"
          }
        },
        "ad299ed0e70a461690eb18efa6ae11de": {
          "model_module": "@jupyter-widgets/controls",
          "model_name": "TextModel",
          "state": {
            "_view_name": "TextView",
            "style": "IPY_MODEL_19c60055fc4343eea4c03977f7be2559",
            "_dom_classes": [],
            "description": "Batch_size",
            "_model_name": "TextModel",
            "placeholder": "​",
            "_view_module": "@jupyter-widgets/controls",
            "_model_module_version": "1.5.0",
            "value": "32",
            "_view_count": null,
            "disabled": false,
            "_view_module_version": "1.5.0",
            "continuous_update": true,
            "description_tooltip": null,
            "_model_module": "@jupyter-widgets/controls",
            "layout": "IPY_MODEL_356816979972409c829759c86d318c43"
          }
        },
        "6f773ad1fd9344db859c24ad727af7a0": {
          "model_module": "@jupyter-widgets/controls",
          "model_name": "TextModel",
          "state": {
            "_view_name": "TextView",
            "style": "IPY_MODEL_69120650d65444bb8279b4acade7a476",
            "_dom_classes": [],
            "description": "Dimensions",
            "_model_name": "TextModel",
            "placeholder": "​",
            "_view_module": "@jupyter-widgets/controls",
            "_model_module_version": "1.5.0",
            "value": "100",
            "_view_count": null,
            "disabled": false,
            "_view_module_version": "1.5.0",
            "continuous_update": true,
            "description_tooltip": null,
            "_model_module": "@jupyter-widgets/controls",
            "layout": "IPY_MODEL_13cd6f38577748dea3ceb9fc8ec30de8"
          }
        },
        "527bb88424614dcc9dd15dc9560c8421": {
          "model_module": "@jupyter-widgets/controls",
          "model_name": "TextModel",
          "state": {
            "_view_name": "TextView",
            "style": "IPY_MODEL_faf4ec0ea8404670965e0081c6a694a5",
            "_dom_classes": [],
            "description": "Units",
            "_model_name": "TextModel",
            "placeholder": "​",
            "_view_module": "@jupyter-widgets/controls",
            "_model_module_version": "1.5.0",
            "value": "128",
            "_view_count": null,
            "disabled": false,
            "_view_module_version": "1.5.0",
            "continuous_update": true,
            "description_tooltip": null,
            "_model_module": "@jupyter-widgets/controls",
            "layout": "IPY_MODEL_31dde18e54af41c39e54cccb53f7eeef"
          }
        },
        "bda95b8b4ff94d05ac7bd8b6ac0fecd9": {
          "model_module": "@jupyter-widgets/controls",
          "model_name": "TextModel",
          "state": {
            "_view_name": "TextView",
            "style": "IPY_MODEL_b741e7a25f5a42c98f24de4047c6c5cf",
            "_dom_classes": [],
            "description": "NTR",
            "_model_name": "TextModel",
            "placeholder": "​",
            "_view_module": "@jupyter-widgets/controls",
            "_model_module_version": "1.5.0",
            "value": "0.75",
            "_view_count": null,
            "disabled": false,
            "_view_module_version": "1.5.0",
            "continuous_update": true,
            "description_tooltip": null,
            "_model_module": "@jupyter-widgets/controls",
            "layout": "IPY_MODEL_caea6904ce1f43df8813ddb0c2b7829d"
          }
        },
        "4cb9c8a8b7d44ed0b97014051ab0618b": {
          "model_module": "@jupyter-widgets/controls",
          "model_name": "TextModel",
          "state": {
            "_view_name": "TextView",
            "style": "IPY_MODEL_6e21e2c737724ef79de4a5a68a9c73ad",
            "_dom_classes": [],
            "description": "Sentence_len",
            "_model_name": "TextModel",
            "placeholder": "​",
            "_view_module": "@jupyter-widgets/controls",
            "_model_module_version": "1.5.0",
            "value": "10",
            "_view_count": null,
            "disabled": false,
            "_view_module_version": "1.5.0",
            "continuous_update": true,
            "description_tooltip": null,
            "_model_module": "@jupyter-widgets/controls",
            "layout": "IPY_MODEL_52766523868343b59dce50dbfc1c0852"
          }
        },
        "7d1b39ddd4024689b6d5002528b0693d": {
          "model_module": "@jupyter-widgets/output",
          "model_name": "OutputModel",
          "state": {
            "_view_name": "OutputView",
            "msg_id": "",
            "_dom_classes": [],
            "_model_name": "OutputModel",
            "outputs": [],
            "_view_module": "@jupyter-widgets/output",
            "_model_module_version": "1.0.0",
            "_view_count": null,
            "_view_module_version": "1.0.0",
            "layout": "IPY_MODEL_eb4cbbba81cc4e289a1924cd55ac9aae",
            "_model_module": "@jupyter-widgets/output"
          }
        },
        "860d659569924390835480b48e9069ba": {
          "model_module": "@jupyter-widgets/controls",
          "model_name": "DescriptionStyleModel",
          "state": {
            "_view_name": "StyleView",
            "_model_name": "DescriptionStyleModel",
            "description_width": "",
            "_view_module": "@jupyter-widgets/base",
            "_model_module_version": "1.5.0",
            "_view_count": null,
            "_view_module_version": "1.2.0",
            "_model_module": "@jupyter-widgets/controls"
          }
        },
        "01bf973511e04206ae61f8b5e899b212": {
          "model_module": "@jupyter-widgets/base",
          "model_name": "LayoutModel",
          "state": {
            "_view_name": "LayoutView",
            "grid_template_rows": null,
            "right": null,
            "justify_content": null,
            "_view_module": "@jupyter-widgets/base",
            "overflow": null,
            "_model_module_version": "1.2.0",
            "_view_count": null,
            "flex_flow": null,
            "width": null,
            "min_width": null,
            "border": null,
            "align_items": null,
            "bottom": null,
            "_model_module": "@jupyter-widgets/base",
            "top": null,
            "grid_column": null,
            "overflow_y": null,
            "overflow_x": null,
            "grid_auto_flow": null,
            "grid_area": null,
            "grid_template_columns": null,
            "flex": null,
            "_model_name": "LayoutModel",
            "justify_items": null,
            "grid_row": null,
            "max_height": null,
            "align_content": null,
            "visibility": null,
            "align_self": null,
            "height": null,
            "min_height": null,
            "padding": null,
            "grid_auto_rows": null,
            "grid_gap": null,
            "max_width": null,
            "order": null,
            "_view_module_version": "1.2.0",
            "grid_template_areas": null,
            "object_position": null,
            "object_fit": null,
            "grid_auto_columns": null,
            "margin": null,
            "display": null,
            "left": null
          }
        },
        "19c60055fc4343eea4c03977f7be2559": {
          "model_module": "@jupyter-widgets/controls",
          "model_name": "DescriptionStyleModel",
          "state": {
            "_view_name": "StyleView",
            "_model_name": "DescriptionStyleModel",
            "description_width": "",
            "_view_module": "@jupyter-widgets/base",
            "_model_module_version": "1.5.0",
            "_view_count": null,
            "_view_module_version": "1.2.0",
            "_model_module": "@jupyter-widgets/controls"
          }
        },
        "356816979972409c829759c86d318c43": {
          "model_module": "@jupyter-widgets/base",
          "model_name": "LayoutModel",
          "state": {
            "_view_name": "LayoutView",
            "grid_template_rows": null,
            "right": null,
            "justify_content": null,
            "_view_module": "@jupyter-widgets/base",
            "overflow": null,
            "_model_module_version": "1.2.0",
            "_view_count": null,
            "flex_flow": null,
            "width": null,
            "min_width": null,
            "border": null,
            "align_items": null,
            "bottom": null,
            "_model_module": "@jupyter-widgets/base",
            "top": null,
            "grid_column": null,
            "overflow_y": null,
            "overflow_x": null,
            "grid_auto_flow": null,
            "grid_area": null,
            "grid_template_columns": null,
            "flex": null,
            "_model_name": "LayoutModel",
            "justify_items": null,
            "grid_row": null,
            "max_height": null,
            "align_content": null,
            "visibility": null,
            "align_self": null,
            "height": null,
            "min_height": null,
            "padding": null,
            "grid_auto_rows": null,
            "grid_gap": null,
            "max_width": null,
            "order": null,
            "_view_module_version": "1.2.0",
            "grid_template_areas": null,
            "object_position": null,
            "object_fit": null,
            "grid_auto_columns": null,
            "margin": null,
            "display": null,
            "left": null
          }
        },
        "69120650d65444bb8279b4acade7a476": {
          "model_module": "@jupyter-widgets/controls",
          "model_name": "DescriptionStyleModel",
          "state": {
            "_view_name": "StyleView",
            "_model_name": "DescriptionStyleModel",
            "description_width": "",
            "_view_module": "@jupyter-widgets/base",
            "_model_module_version": "1.5.0",
            "_view_count": null,
            "_view_module_version": "1.2.0",
            "_model_module": "@jupyter-widgets/controls"
          }
        },
        "13cd6f38577748dea3ceb9fc8ec30de8": {
          "model_module": "@jupyter-widgets/base",
          "model_name": "LayoutModel",
          "state": {
            "_view_name": "LayoutView",
            "grid_template_rows": null,
            "right": null,
            "justify_content": null,
            "_view_module": "@jupyter-widgets/base",
            "overflow": null,
            "_model_module_version": "1.2.0",
            "_view_count": null,
            "flex_flow": null,
            "width": null,
            "min_width": null,
            "border": null,
            "align_items": null,
            "bottom": null,
            "_model_module": "@jupyter-widgets/base",
            "top": null,
            "grid_column": null,
            "overflow_y": null,
            "overflow_x": null,
            "grid_auto_flow": null,
            "grid_area": null,
            "grid_template_columns": null,
            "flex": null,
            "_model_name": "LayoutModel",
            "justify_items": null,
            "grid_row": null,
            "max_height": null,
            "align_content": null,
            "visibility": null,
            "align_self": null,
            "height": null,
            "min_height": null,
            "padding": null,
            "grid_auto_rows": null,
            "grid_gap": null,
            "max_width": null,
            "order": null,
            "_view_module_version": "1.2.0",
            "grid_template_areas": null,
            "object_position": null,
            "object_fit": null,
            "grid_auto_columns": null,
            "margin": null,
            "display": null,
            "left": null
          }
        },
        "faf4ec0ea8404670965e0081c6a694a5": {
          "model_module": "@jupyter-widgets/controls",
          "model_name": "DescriptionStyleModel",
          "state": {
            "_view_name": "StyleView",
            "_model_name": "DescriptionStyleModel",
            "description_width": "",
            "_view_module": "@jupyter-widgets/base",
            "_model_module_version": "1.5.0",
            "_view_count": null,
            "_view_module_version": "1.2.0",
            "_model_module": "@jupyter-widgets/controls"
          }
        },
        "31dde18e54af41c39e54cccb53f7eeef": {
          "model_module": "@jupyter-widgets/base",
          "model_name": "LayoutModel",
          "state": {
            "_view_name": "LayoutView",
            "grid_template_rows": null,
            "right": null,
            "justify_content": null,
            "_view_module": "@jupyter-widgets/base",
            "overflow": null,
            "_model_module_version": "1.2.0",
            "_view_count": null,
            "flex_flow": null,
            "width": null,
            "min_width": null,
            "border": null,
            "align_items": null,
            "bottom": null,
            "_model_module": "@jupyter-widgets/base",
            "top": null,
            "grid_column": null,
            "overflow_y": null,
            "overflow_x": null,
            "grid_auto_flow": null,
            "grid_area": null,
            "grid_template_columns": null,
            "flex": null,
            "_model_name": "LayoutModel",
            "justify_items": null,
            "grid_row": null,
            "max_height": null,
            "align_content": null,
            "visibility": null,
            "align_self": null,
            "height": null,
            "min_height": null,
            "padding": null,
            "grid_auto_rows": null,
            "grid_gap": null,
            "max_width": null,
            "order": null,
            "_view_module_version": "1.2.0",
            "grid_template_areas": null,
            "object_position": null,
            "object_fit": null,
            "grid_auto_columns": null,
            "margin": null,
            "display": null,
            "left": null
          }
        },
        "b741e7a25f5a42c98f24de4047c6c5cf": {
          "model_module": "@jupyter-widgets/controls",
          "model_name": "DescriptionStyleModel",
          "state": {
            "_view_name": "StyleView",
            "_model_name": "DescriptionStyleModel",
            "description_width": "",
            "_view_module": "@jupyter-widgets/base",
            "_model_module_version": "1.5.0",
            "_view_count": null,
            "_view_module_version": "1.2.0",
            "_model_module": "@jupyter-widgets/controls"
          }
        },
        "caea6904ce1f43df8813ddb0c2b7829d": {
          "model_module": "@jupyter-widgets/base",
          "model_name": "LayoutModel",
          "state": {
            "_view_name": "LayoutView",
            "grid_template_rows": null,
            "right": null,
            "justify_content": null,
            "_view_module": "@jupyter-widgets/base",
            "overflow": null,
            "_model_module_version": "1.2.0",
            "_view_count": null,
            "flex_flow": null,
            "width": null,
            "min_width": null,
            "border": null,
            "align_items": null,
            "bottom": null,
            "_model_module": "@jupyter-widgets/base",
            "top": null,
            "grid_column": null,
            "overflow_y": null,
            "overflow_x": null,
            "grid_auto_flow": null,
            "grid_area": null,
            "grid_template_columns": null,
            "flex": null,
            "_model_name": "LayoutModel",
            "justify_items": null,
            "grid_row": null,
            "max_height": null,
            "align_content": null,
            "visibility": null,
            "align_self": null,
            "height": null,
            "min_height": null,
            "padding": null,
            "grid_auto_rows": null,
            "grid_gap": null,
            "max_width": null,
            "order": null,
            "_view_module_version": "1.2.0",
            "grid_template_areas": null,
            "object_position": null,
            "object_fit": null,
            "grid_auto_columns": null,
            "margin": null,
            "display": null,
            "left": null
          }
        },
        "6e21e2c737724ef79de4a5a68a9c73ad": {
          "model_module": "@jupyter-widgets/controls",
          "model_name": "DescriptionStyleModel",
          "state": {
            "_view_name": "StyleView",
            "_model_name": "DescriptionStyleModel",
            "description_width": "",
            "_view_module": "@jupyter-widgets/base",
            "_model_module_version": "1.5.0",
            "_view_count": null,
            "_view_module_version": "1.2.0",
            "_model_module": "@jupyter-widgets/controls"
          }
        },
        "52766523868343b59dce50dbfc1c0852": {
          "model_module": "@jupyter-widgets/base",
          "model_name": "LayoutModel",
          "state": {
            "_view_name": "LayoutView",
            "grid_template_rows": null,
            "right": null,
            "justify_content": null,
            "_view_module": "@jupyter-widgets/base",
            "overflow": null,
            "_model_module_version": "1.2.0",
            "_view_count": null,
            "flex_flow": null,
            "width": null,
            "min_width": null,
            "border": null,
            "align_items": null,
            "bottom": null,
            "_model_module": "@jupyter-widgets/base",
            "top": null,
            "grid_column": null,
            "overflow_y": null,
            "overflow_x": null,
            "grid_auto_flow": null,
            "grid_area": null,
            "grid_template_columns": null,
            "flex": null,
            "_model_name": "LayoutModel",
            "justify_items": null,
            "grid_row": null,
            "max_height": null,
            "align_content": null,
            "visibility": null,
            "align_self": null,
            "height": null,
            "min_height": null,
            "padding": null,
            "grid_auto_rows": null,
            "grid_gap": null,
            "max_width": null,
            "order": null,
            "_view_module_version": "1.2.0",
            "grid_template_areas": null,
            "object_position": null,
            "object_fit": null,
            "grid_auto_columns": null,
            "margin": null,
            "display": null,
            "left": null
          }
        },
        "eb4cbbba81cc4e289a1924cd55ac9aae": {
          "model_module": "@jupyter-widgets/base",
          "model_name": "LayoutModel",
          "state": {
            "_view_name": "LayoutView",
            "grid_template_rows": null,
            "right": null,
            "justify_content": null,
            "_view_module": "@jupyter-widgets/base",
            "overflow": null,
            "_model_module_version": "1.2.0",
            "_view_count": null,
            "flex_flow": null,
            "width": null,
            "min_width": null,
            "border": null,
            "align_items": null,
            "bottom": null,
            "_model_module": "@jupyter-widgets/base",
            "top": null,
            "grid_column": null,
            "overflow_y": null,
            "overflow_x": null,
            "grid_auto_flow": null,
            "grid_area": null,
            "grid_template_columns": null,
            "flex": null,
            "_model_name": "LayoutModel",
            "justify_items": null,
            "grid_row": null,
            "max_height": null,
            "align_content": null,
            "visibility": null,
            "align_self": null,
            "height": null,
            "min_height": null,
            "padding": null,
            "grid_auto_rows": null,
            "grid_gap": null,
            "max_width": null,
            "order": null,
            "_view_module_version": "1.2.0",
            "grid_template_areas": null,
            "object_position": null,
            "object_fit": null,
            "grid_auto_columns": null,
            "margin": null,
            "display": null,
            "left": null
          }
        },
        "b0fdb4652b4a43d784125c00af681d61": {
          "model_module": "@jupyter-widgets/controls",
          "model_name": "VBoxModel",
          "state": {
            "_view_name": "VBoxView",
            "_dom_classes": [
              "widget-interact"
            ],
            "_model_name": "VBoxModel",
            "_view_module": "@jupyter-widgets/controls",
            "_model_module_version": "1.5.0",
            "_view_count": null,
            "_view_module_version": "1.5.0",
            "box_style": "",
            "layout": "IPY_MODEL_3098bb7622fd4dd9817539dc99890f68",
            "_model_module": "@jupyter-widgets/controls",
            "children": [
              "IPY_MODEL_12272c946890411f9b6a4dd989f1b84d",
              "IPY_MODEL_6643a0958d864e91ae3b8b6df7809c90",
              "IPY_MODEL_11ad4c1e1278427ca2a2d609e7d850b1",
              "IPY_MODEL_f7bbe2eec2e74e0bb396854d03878693",
              "IPY_MODEL_c7b03a3cbece4ef788cc7f6b2ee2267e",
              "IPY_MODEL_455555738e214a179b3fd81462038d31"
            ]
          }
        },
        "3098bb7622fd4dd9817539dc99890f68": {
          "model_module": "@jupyter-widgets/base",
          "model_name": "LayoutModel",
          "state": {
            "_view_name": "LayoutView",
            "grid_template_rows": null,
            "right": null,
            "justify_content": null,
            "_view_module": "@jupyter-widgets/base",
            "overflow": null,
            "_model_module_version": "1.2.0",
            "_view_count": null,
            "flex_flow": null,
            "width": null,
            "min_width": null,
            "border": null,
            "align_items": null,
            "bottom": null,
            "_model_module": "@jupyter-widgets/base",
            "top": null,
            "grid_column": null,
            "overflow_y": null,
            "overflow_x": null,
            "grid_auto_flow": null,
            "grid_area": null,
            "grid_template_columns": null,
            "flex": null,
            "_model_name": "LayoutModel",
            "justify_items": null,
            "grid_row": null,
            "max_height": null,
            "align_content": null,
            "visibility": null,
            "align_self": null,
            "height": null,
            "min_height": null,
            "padding": null,
            "grid_auto_rows": null,
            "grid_gap": null,
            "max_width": null,
            "order": null,
            "_view_module_version": "1.2.0",
            "grid_template_areas": null,
            "object_position": null,
            "object_fit": null,
            "grid_auto_columns": null,
            "margin": null,
            "display": null,
            "left": null
          }
        },
        "12272c946890411f9b6a4dd989f1b84d": {
          "model_module": "@jupyter-widgets/controls",
          "model_name": "CheckboxModel",
          "state": {
            "_view_name": "CheckboxView",
            "style": "IPY_MODEL_e6554eb9e3374b93b1bf3ed530acd605",
            "_dom_classes": [],
            "description": "use_dictionary",
            "_model_name": "CheckboxModel",
            "_view_module": "@jupyter-widgets/controls",
            "_model_module_version": "1.5.0",
            "value": true,
            "_view_count": null,
            "disabled": false,
            "_view_module_version": "1.5.0",
            "indent": true,
            "description_tooltip": null,
            "_model_module": "@jupyter-widgets/controls",
            "layout": "IPY_MODEL_9a6ae0f533ce4da8ace504c8dfe9dcc0"
          }
        },
        "6643a0958d864e91ae3b8b6df7809c90": {
          "model_module": "@jupyter-widgets/controls",
          "model_name": "CheckboxModel",
          "state": {
            "_view_name": "CheckboxView",
            "style": "IPY_MODEL_dc35593bb2744778887940e93bcd71ef",
            "_dom_classes": [],
            "description": "run_quality_test",
            "_model_name": "CheckboxModel",
            "_view_module": "@jupyter-widgets/controls",
            "_model_module_version": "1.5.0",
            "value": false,
            "_view_count": null,
            "disabled": false,
            "_view_module_version": "1.5.0",
            "indent": true,
            "description_tooltip": null,
            "_model_module": "@jupyter-widgets/controls",
            "layout": "IPY_MODEL_ce952a7193554b279523eea294a2759c"
          }
        },
        "11ad4c1e1278427ca2a2d609e7d850b1": {
          "model_module": "@jupyter-widgets/controls",
          "model_name": "CheckboxModel",
          "state": {
            "_view_name": "CheckboxView",
            "style": "IPY_MODEL_3275d23d9e3c4b8c8bd908e955ebc161",
            "_dom_classes": [],
            "description": "run_performance_test",
            "_model_name": "CheckboxModel",
            "_view_module": "@jupyter-widgets/controls",
            "_model_module_version": "1.5.0",
            "value": false,
            "_view_count": null,
            "disabled": false,
            "_view_module_version": "1.5.0",
            "indent": true,
            "description_tooltip": null,
            "_model_module": "@jupyter-widgets/controls",
            "layout": "IPY_MODEL_e5472d35d0b343a08abc0cd67ecb157d"
          }
        },
        "f7bbe2eec2e74e0bb396854d03878693": {
          "model_module": "@jupyter-widgets/controls",
          "model_name": "CheckboxModel",
          "state": {
            "_view_name": "CheckboxView",
            "style": "IPY_MODEL_be9339f425cc45c7bb0271f72f6c921a",
            "_dom_classes": [],
            "description": "run_save_model",
            "_model_name": "CheckboxModel",
            "_view_module": "@jupyter-widgets/controls",
            "_model_module_version": "1.5.0",
            "value": true,
            "_view_count": null,
            "disabled": false,
            "_view_module_version": "1.5.0",
            "indent": true,
            "description_tooltip": null,
            "_model_module": "@jupyter-widgets/controls",
            "layout": "IPY_MODEL_2dce3001799248cfbf63900cc40b600c"
          }
        },
        "c7b03a3cbece4ef788cc7f6b2ee2267e": {
          "model_module": "@jupyter-widgets/controls",
          "model_name": "CheckboxModel",
          "state": {
            "_view_name": "CheckboxView",
            "style": "IPY_MODEL_3a902208c75044c09ba8cbf28daf06a3",
            "_dom_classes": [],
            "description": "use_extra_vocab",
            "_model_name": "CheckboxModel",
            "_view_module": "@jupyter-widgets/controls",
            "_model_module_version": "1.5.0",
            "value": true,
            "_view_count": null,
            "disabled": false,
            "_view_module_version": "1.5.0",
            "indent": true,
            "description_tooltip": null,
            "_model_module": "@jupyter-widgets/controls",
            "layout": "IPY_MODEL_636227f307114830aaef68a4f940d505"
          }
        },
        "455555738e214a179b3fd81462038d31": {
          "model_module": "@jupyter-widgets/output",
          "model_name": "OutputModel",
          "state": {
            "_view_name": "OutputView",
            "msg_id": "",
            "_dom_classes": [],
            "_model_name": "OutputModel",
            "outputs": [],
            "_view_module": "@jupyter-widgets/output",
            "_model_module_version": "1.0.0",
            "_view_count": null,
            "_view_module_version": "1.0.0",
            "layout": "IPY_MODEL_63a1192462fd41278021413db0a63bca",
            "_model_module": "@jupyter-widgets/output"
          }
        },
        "e6554eb9e3374b93b1bf3ed530acd605": {
          "model_module": "@jupyter-widgets/controls",
          "model_name": "DescriptionStyleModel",
          "state": {
            "_view_name": "StyleView",
            "_model_name": "DescriptionStyleModel",
            "description_width": "",
            "_view_module": "@jupyter-widgets/base",
            "_model_module_version": "1.5.0",
            "_view_count": null,
            "_view_module_version": "1.2.0",
            "_model_module": "@jupyter-widgets/controls"
          }
        },
        "9a6ae0f533ce4da8ace504c8dfe9dcc0": {
          "model_module": "@jupyter-widgets/base",
          "model_name": "LayoutModel",
          "state": {
            "_view_name": "LayoutView",
            "grid_template_rows": null,
            "right": null,
            "justify_content": null,
            "_view_module": "@jupyter-widgets/base",
            "overflow": null,
            "_model_module_version": "1.2.0",
            "_view_count": null,
            "flex_flow": null,
            "width": null,
            "min_width": null,
            "border": null,
            "align_items": null,
            "bottom": null,
            "_model_module": "@jupyter-widgets/base",
            "top": null,
            "grid_column": null,
            "overflow_y": null,
            "overflow_x": null,
            "grid_auto_flow": null,
            "grid_area": null,
            "grid_template_columns": null,
            "flex": null,
            "_model_name": "LayoutModel",
            "justify_items": null,
            "grid_row": null,
            "max_height": null,
            "align_content": null,
            "visibility": null,
            "align_self": null,
            "height": null,
            "min_height": null,
            "padding": null,
            "grid_auto_rows": null,
            "grid_gap": null,
            "max_width": null,
            "order": null,
            "_view_module_version": "1.2.0",
            "grid_template_areas": null,
            "object_position": null,
            "object_fit": null,
            "grid_auto_columns": null,
            "margin": null,
            "display": null,
            "left": null
          }
        },
        "dc35593bb2744778887940e93bcd71ef": {
          "model_module": "@jupyter-widgets/controls",
          "model_name": "DescriptionStyleModel",
          "state": {
            "_view_name": "StyleView",
            "_model_name": "DescriptionStyleModel",
            "description_width": "",
            "_view_module": "@jupyter-widgets/base",
            "_model_module_version": "1.5.0",
            "_view_count": null,
            "_view_module_version": "1.2.0",
            "_model_module": "@jupyter-widgets/controls"
          }
        },
        "ce952a7193554b279523eea294a2759c": {
          "model_module": "@jupyter-widgets/base",
          "model_name": "LayoutModel",
          "state": {
            "_view_name": "LayoutView",
            "grid_template_rows": null,
            "right": null,
            "justify_content": null,
            "_view_module": "@jupyter-widgets/base",
            "overflow": null,
            "_model_module_version": "1.2.0",
            "_view_count": null,
            "flex_flow": null,
            "width": null,
            "min_width": null,
            "border": null,
            "align_items": null,
            "bottom": null,
            "_model_module": "@jupyter-widgets/base",
            "top": null,
            "grid_column": null,
            "overflow_y": null,
            "overflow_x": null,
            "grid_auto_flow": null,
            "grid_area": null,
            "grid_template_columns": null,
            "flex": null,
            "_model_name": "LayoutModel",
            "justify_items": null,
            "grid_row": null,
            "max_height": null,
            "align_content": null,
            "visibility": null,
            "align_self": null,
            "height": null,
            "min_height": null,
            "padding": null,
            "grid_auto_rows": null,
            "grid_gap": null,
            "max_width": null,
            "order": null,
            "_view_module_version": "1.2.0",
            "grid_template_areas": null,
            "object_position": null,
            "object_fit": null,
            "grid_auto_columns": null,
            "margin": null,
            "display": null,
            "left": null
          }
        },
        "3275d23d9e3c4b8c8bd908e955ebc161": {
          "model_module": "@jupyter-widgets/controls",
          "model_name": "DescriptionStyleModel",
          "state": {
            "_view_name": "StyleView",
            "_model_name": "DescriptionStyleModel",
            "description_width": "",
            "_view_module": "@jupyter-widgets/base",
            "_model_module_version": "1.5.0",
            "_view_count": null,
            "_view_module_version": "1.2.0",
            "_model_module": "@jupyter-widgets/controls"
          }
        },
        "e5472d35d0b343a08abc0cd67ecb157d": {
          "model_module": "@jupyter-widgets/base",
          "model_name": "LayoutModel",
          "state": {
            "_view_name": "LayoutView",
            "grid_template_rows": null,
            "right": null,
            "justify_content": null,
            "_view_module": "@jupyter-widgets/base",
            "overflow": null,
            "_model_module_version": "1.2.0",
            "_view_count": null,
            "flex_flow": null,
            "width": null,
            "min_width": null,
            "border": null,
            "align_items": null,
            "bottom": null,
            "_model_module": "@jupyter-widgets/base",
            "top": null,
            "grid_column": null,
            "overflow_y": null,
            "overflow_x": null,
            "grid_auto_flow": null,
            "grid_area": null,
            "grid_template_columns": null,
            "flex": null,
            "_model_name": "LayoutModel",
            "justify_items": null,
            "grid_row": null,
            "max_height": null,
            "align_content": null,
            "visibility": null,
            "align_self": null,
            "height": null,
            "min_height": null,
            "padding": null,
            "grid_auto_rows": null,
            "grid_gap": null,
            "max_width": null,
            "order": null,
            "_view_module_version": "1.2.0",
            "grid_template_areas": null,
            "object_position": null,
            "object_fit": null,
            "grid_auto_columns": null,
            "margin": null,
            "display": null,
            "left": null
          }
        },
        "be9339f425cc45c7bb0271f72f6c921a": {
          "model_module": "@jupyter-widgets/controls",
          "model_name": "DescriptionStyleModel",
          "state": {
            "_view_name": "StyleView",
            "_model_name": "DescriptionStyleModel",
            "description_width": "",
            "_view_module": "@jupyter-widgets/base",
            "_model_module_version": "1.5.0",
            "_view_count": null,
            "_view_module_version": "1.2.0",
            "_model_module": "@jupyter-widgets/controls"
          }
        },
        "2dce3001799248cfbf63900cc40b600c": {
          "model_module": "@jupyter-widgets/base",
          "model_name": "LayoutModel",
          "state": {
            "_view_name": "LayoutView",
            "grid_template_rows": null,
            "right": null,
            "justify_content": null,
            "_view_module": "@jupyter-widgets/base",
            "overflow": null,
            "_model_module_version": "1.2.0",
            "_view_count": null,
            "flex_flow": null,
            "width": null,
            "min_width": null,
            "border": null,
            "align_items": null,
            "bottom": null,
            "_model_module": "@jupyter-widgets/base",
            "top": null,
            "grid_column": null,
            "overflow_y": null,
            "overflow_x": null,
            "grid_auto_flow": null,
            "grid_area": null,
            "grid_template_columns": null,
            "flex": null,
            "_model_name": "LayoutModel",
            "justify_items": null,
            "grid_row": null,
            "max_height": null,
            "align_content": null,
            "visibility": null,
            "align_self": null,
            "height": null,
            "min_height": null,
            "padding": null,
            "grid_auto_rows": null,
            "grid_gap": null,
            "max_width": null,
            "order": null,
            "_view_module_version": "1.2.0",
            "grid_template_areas": null,
            "object_position": null,
            "object_fit": null,
            "grid_auto_columns": null,
            "margin": null,
            "display": null,
            "left": null
          }
        },
        "3a902208c75044c09ba8cbf28daf06a3": {
          "model_module": "@jupyter-widgets/controls",
          "model_name": "DescriptionStyleModel",
          "state": {
            "_view_name": "StyleView",
            "_model_name": "DescriptionStyleModel",
            "description_width": "",
            "_view_module": "@jupyter-widgets/base",
            "_model_module_version": "1.5.0",
            "_view_count": null,
            "_view_module_version": "1.2.0",
            "_model_module": "@jupyter-widgets/controls"
          }
        },
        "636227f307114830aaef68a4f940d505": {
          "model_module": "@jupyter-widgets/base",
          "model_name": "LayoutModel",
          "state": {
            "_view_name": "LayoutView",
            "grid_template_rows": null,
            "right": null,
            "justify_content": null,
            "_view_module": "@jupyter-widgets/base",
            "overflow": null,
            "_model_module_version": "1.2.0",
            "_view_count": null,
            "flex_flow": null,
            "width": null,
            "min_width": null,
            "border": null,
            "align_items": null,
            "bottom": null,
            "_model_module": "@jupyter-widgets/base",
            "top": null,
            "grid_column": null,
            "overflow_y": null,
            "overflow_x": null,
            "grid_auto_flow": null,
            "grid_area": null,
            "grid_template_columns": null,
            "flex": null,
            "_model_name": "LayoutModel",
            "justify_items": null,
            "grid_row": null,
            "max_height": null,
            "align_content": null,
            "visibility": null,
            "align_self": null,
            "height": null,
            "min_height": null,
            "padding": null,
            "grid_auto_rows": null,
            "grid_gap": null,
            "max_width": null,
            "order": null,
            "_view_module_version": "1.2.0",
            "grid_template_areas": null,
            "object_position": null,
            "object_fit": null,
            "grid_auto_columns": null,
            "margin": null,
            "display": null,
            "left": null
          }
        },
        "63a1192462fd41278021413db0a63bca": {
          "model_module": "@jupyter-widgets/base",
          "model_name": "LayoutModel",
          "state": {
            "_view_name": "LayoutView",
            "grid_template_rows": null,
            "right": null,
            "justify_content": null,
            "_view_module": "@jupyter-widgets/base",
            "overflow": null,
            "_model_module_version": "1.2.0",
            "_view_count": null,
            "flex_flow": null,
            "width": null,
            "min_width": null,
            "border": null,
            "align_items": null,
            "bottom": null,
            "_model_module": "@jupyter-widgets/base",
            "top": null,
            "grid_column": null,
            "overflow_y": null,
            "overflow_x": null,
            "grid_auto_flow": null,
            "grid_area": null,
            "grid_template_columns": null,
            "flex": null,
            "_model_name": "LayoutModel",
            "justify_items": null,
            "grid_row": null,
            "max_height": null,
            "align_content": null,
            "visibility": null,
            "align_self": null,
            "height": null,
            "min_height": null,
            "padding": null,
            "grid_auto_rows": null,
            "grid_gap": null,
            "max_width": null,
            "order": null,
            "_view_module_version": "1.2.0",
            "grid_template_areas": null,
            "object_position": null,
            "object_fit": null,
            "grid_auto_columns": null,
            "margin": null,
            "display": null,
            "left": null
          }
        },
        "b841550c68004938a467409f382af0f2": {
          "model_module": "@jupyter-widgets/controls",
          "model_name": "VBoxModel",
          "state": {
            "_view_name": "VBoxView",
            "_dom_classes": [
              "widget-interact"
            ],
            "_model_name": "VBoxModel",
            "_view_module": "@jupyter-widgets/controls",
            "_model_module_version": "1.5.0",
            "_view_count": null,
            "_view_module_version": "1.5.0",
            "box_style": "",
            "layout": "IPY_MODEL_f93be5b4ac0c468b980fc8cea18beceb",
            "_model_module": "@jupyter-widgets/controls",
            "children": [
              "IPY_MODEL_04bc76e42cea470e98631987b9dbd674",
              "IPY_MODEL_ef32c1c775c9484eb5bad530be38bc22"
            ]
          }
        },
        "f93be5b4ac0c468b980fc8cea18beceb": {
          "model_module": "@jupyter-widgets/base",
          "model_name": "LayoutModel",
          "state": {
            "_view_name": "LayoutView",
            "grid_template_rows": null,
            "right": null,
            "justify_content": null,
            "_view_module": "@jupyter-widgets/base",
            "overflow": null,
            "_model_module_version": "1.2.0",
            "_view_count": null,
            "flex_flow": null,
            "width": null,
            "min_width": null,
            "border": null,
            "align_items": null,
            "bottom": null,
            "_model_module": "@jupyter-widgets/base",
            "top": null,
            "grid_column": null,
            "overflow_y": null,
            "overflow_x": null,
            "grid_auto_flow": null,
            "grid_area": null,
            "grid_template_columns": null,
            "flex": null,
            "_model_name": "LayoutModel",
            "justify_items": null,
            "grid_row": null,
            "max_height": null,
            "align_content": null,
            "visibility": null,
            "align_self": null,
            "height": null,
            "min_height": null,
            "padding": null,
            "grid_auto_rows": null,
            "grid_gap": null,
            "max_width": null,
            "order": null,
            "_view_module_version": "1.2.0",
            "grid_template_areas": null,
            "object_position": null,
            "object_fit": null,
            "grid_auto_columns": null,
            "margin": null,
            "display": null,
            "left": null
          }
        },
        "04bc76e42cea470e98631987b9dbd674": {
          "model_module": "@jupyter-widgets/controls",
          "model_name": "IntSliderModel",
          "state": {
            "_view_name": "IntSliderView",
            "style": "IPY_MODEL_22314e2225fe41caae0ae76372acf9bf",
            "_dom_classes": [],
            "description": "Test_percent",
            "step": 1,
            "_model_name": "IntSliderModel",
            "orientation": "horizontal",
            "max": 50,
            "_view_module": "@jupyter-widgets/controls",
            "_model_module_version": "1.5.0",
            "value": 10,
            "_view_count": null,
            "disabled": false,
            "_view_module_version": "1.5.0",
            "min": 1,
            "continuous_update": true,
            "readout_format": "d",
            "description_tooltip": null,
            "readout": true,
            "_model_module": "@jupyter-widgets/controls",
            "layout": "IPY_MODEL_a526db4332b24adf92b80a9c4d319321"
          }
        },
        "ef32c1c775c9484eb5bad530be38bc22": {
          "model_module": "@jupyter-widgets/output",
          "model_name": "OutputModel",
          "state": {
            "_view_name": "OutputView",
            "msg_id": "",
            "_dom_classes": [],
            "_model_name": "OutputModel",
            "outputs": [],
            "_view_module": "@jupyter-widgets/output",
            "_model_module_version": "1.0.0",
            "_view_count": null,
            "_view_module_version": "1.0.0",
            "layout": "IPY_MODEL_bd2b04c173044d83a593a16b06d512f7",
            "_model_module": "@jupyter-widgets/output"
          }
        },
        "22314e2225fe41caae0ae76372acf9bf": {
          "model_module": "@jupyter-widgets/controls",
          "model_name": "SliderStyleModel",
          "state": {
            "_view_name": "StyleView",
            "handle_color": null,
            "_model_name": "SliderStyleModel",
            "description_width": "",
            "_view_module": "@jupyter-widgets/base",
            "_model_module_version": "1.5.0",
            "_view_count": null,
            "_view_module_version": "1.2.0",
            "_model_module": "@jupyter-widgets/controls"
          }
        },
        "a526db4332b24adf92b80a9c4d319321": {
          "model_module": "@jupyter-widgets/base",
          "model_name": "LayoutModel",
          "state": {
            "_view_name": "LayoutView",
            "grid_template_rows": null,
            "right": null,
            "justify_content": null,
            "_view_module": "@jupyter-widgets/base",
            "overflow": null,
            "_model_module_version": "1.2.0",
            "_view_count": null,
            "flex_flow": null,
            "width": null,
            "min_width": null,
            "border": null,
            "align_items": null,
            "bottom": null,
            "_model_module": "@jupyter-widgets/base",
            "top": null,
            "grid_column": null,
            "overflow_y": null,
            "overflow_x": null,
            "grid_auto_flow": null,
            "grid_area": null,
            "grid_template_columns": null,
            "flex": null,
            "_model_name": "LayoutModel",
            "justify_items": null,
            "grid_row": null,
            "max_height": null,
            "align_content": null,
            "visibility": null,
            "align_self": null,
            "height": null,
            "min_height": null,
            "padding": null,
            "grid_auto_rows": null,
            "grid_gap": null,
            "max_width": null,
            "order": null,
            "_view_module_version": "1.2.0",
            "grid_template_areas": null,
            "object_position": null,
            "object_fit": null,
            "grid_auto_columns": null,
            "margin": null,
            "display": null,
            "left": null
          }
        },
        "bd2b04c173044d83a593a16b06d512f7": {
          "model_module": "@jupyter-widgets/base",
          "model_name": "LayoutModel",
          "state": {
            "_view_name": "LayoutView",
            "grid_template_rows": null,
            "right": null,
            "justify_content": null,
            "_view_module": "@jupyter-widgets/base",
            "overflow": null,
            "_model_module_version": "1.2.0",
            "_view_count": null,
            "flex_flow": null,
            "width": null,
            "min_width": null,
            "border": null,
            "align_items": null,
            "bottom": null,
            "_model_module": "@jupyter-widgets/base",
            "top": null,
            "grid_column": null,
            "overflow_y": null,
            "overflow_x": null,
            "grid_auto_flow": null,
            "grid_area": null,
            "grid_template_columns": null,
            "flex": null,
            "_model_name": "LayoutModel",
            "justify_items": null,
            "grid_row": null,
            "max_height": null,
            "align_content": null,
            "visibility": null,
            "align_self": null,
            "height": null,
            "min_height": null,
            "padding": null,
            "grid_auto_rows": null,
            "grid_gap": null,
            "max_width": null,
            "order": null,
            "_view_module_version": "1.2.0",
            "grid_template_areas": null,
            "object_position": null,
            "object_fit": null,
            "grid_auto_columns": null,
            "margin": null,
            "display": null,
            "left": null
          }
        }
      }
    }
  },
  "cells": [
    {
      "cell_type": "markdown",
      "metadata": {
        "id": "view-in-github",
        "colab_type": "text"
      },
      "source": [
        "<a href=\"https://colab.research.google.com/github/ailton-felix/Combinacoes/blob/master/nmt/nmt_train.ipynb\" target=\"_parent\"><img src=\"https://colab.research.google.com/assets/colab-badge.svg\" alt=\"Open In Colab\"/></a>"
      ]
    },
    {
      "cell_type": "markdown",
      "metadata": {
        "id": "JdRzkfaXCXWQ"
      },
      "source": [
        "*Projeto da Máquina de Tradução NMT (Neural Machine Translation) **2.0**. Utilizamos o modelo word2word que é estruturado para traduzir palavra por palavra onde a predição do próximo depende da obtenção da palavra anterior.* \n",
        "<div align=\"center\">\n",
        " <img src=\"https://machinelearningexps.appspot.com/static/images/hugo_nmt.png\">\n",
        "</div>\n",
        "\n",
        "## Definições\n",
        "Contém definições sucintas sobre Máquina de Tradução por Rede Neural.\n",
        "\n",
        "### Bleu\n",
        "Bleu é um número utilizado para definir a qualidade da tradução\n",
        "\n",
        "Pontuação BLEU | Interpretação\n",
        "-- | --\n",
        "< 10 | Praticamente inútil\n",
        "10 - 19 | Difícil de compreender o sentido\n",
        "20 - 29 | O sentido está claro, mas há erros gramaticais graves\n",
        "30 - 40 | Pode ser entendido como boas traduções\n",
        "40 - 50 | Traduções de alta qualidade\n",
        "50 - 60 | Traduções de qualidade muito alta, adequadas e fluentes\n",
        "60 > | Em geral, qualidade superior à humana\n",
        "> [Fonte: Google](https://cloud.google.com/translate/automl/docs/evaluate)"
      ]
    },
    {
      "cell_type": "markdown",
      "metadata": {
        "id": "VWPgX-o8pR92"
      },
      "source": [
        "# Instalar dependências"
      ]
    },
    {
      "cell_type": "code",
      "metadata": {
        "colab": {
          "base_uri": "https://localhost:8080/"
        },
        "id": "wD5OgNfk0fT8",
        "outputId": "596503a5-8337-4664-8a74-1ea31ccecdf9"
      },
      "source": [
        "from google.colab import drive\n",
        "drive.mount('/content/drive')"
      ],
      "execution_count": 6,
      "outputs": [
        {
          "output_type": "stream",
          "text": [
            "Mounted at /content/drive\n"
          ],
          "name": "stdout"
        }
      ]
    },
    {
      "cell_type": "code",
      "metadata": {
        "id": "MCKMJBa7rb9H"
      },
      "source": [
        "from google.colab import auth, output\n",
        "import os\n",
        "import sys"
      ],
      "execution_count": 3,
      "outputs": []
    },
    {
      "cell_type": "code",
      "metadata": {
        "colab": {
          "base_uri": "https://localhost:8080/"
        },
        "id": "F7OyATUIrVo9",
        "outputId": "e80c4065-209d-4eee-97c7-c51ae9518a01"
      },
      "source": [
        "print(\"GCLOUD AUTH\")\n",
        "auth.authenticate_user()"
      ],
      "execution_count": 4,
      "outputs": [
        {
          "output_type": "stream",
          "text": [
            "GCLOUD AUTH\n"
          ],
          "name": "stdout"
        }
      ]
    },
    {
      "cell_type": "markdown",
      "metadata": {
        "id": "rbfqovcRrjlk"
      },
      "source": [
        "instalar NMT"
      ]
    },
    {
      "cell_type": "code",
      "metadata": {
        "id": "Hd54TkOiqJNx"
      },
      "source": [
        "os.environ['GOOGLE_CLOUD_PROJECT'] = \"machinelearningexps\"\n",
        "!gcloud source repos clone github_hand-talk_nmt --project=machinelearningexps\n",
        "!mv github_hand-talk_nmt nmt\n",
        "!pip install tensorflow==2.2.0\n",
        "output.clear()"
      ],
      "execution_count": 7,
      "outputs": []
    },
    {
      "cell_type": "markdown",
      "metadata": {
        "id": "Q8mU5SFwr-rP"
      },
      "source": [
        "instalar pytools"
      ]
    },
    {
      "cell_type": "code",
      "metadata": {
        "id": "wI4TRLXUsD2i"
      },
      "source": [
        "!gcloud source repos clone github_hand-talk_pytools --project='ht-community' && pip install /content/github_hand-talk_pytools\n",
        "output.clear()"
      ],
      "execution_count": 12,
      "outputs": []
    },
    {
      "cell_type": "markdown",
      "metadata": {
        "id": "rGysR3Wor8Xh"
      },
      "source": [
        "configurar versão da nmt"
      ]
    },
    {
      "cell_type": "code",
      "metadata": {
        "id": "DcBe0DeupR93",
        "colab": {
          "base_uri": "https://localhost:8080/"
        },
        "outputId": "3dd9894f-e1c0-4fed-87aa-fbec9fe6729e"
      },
      "source": [
        "assert os.path.exists('./nmt'), 'Erro! Você precisar clonar o repositório da NMT aqui!'\n",
        "\n",
        "!cd ./nmt/ && echo branch atual: && git rev-parse --abbrev-ref HEAD\n",
        "version = input('Versão/branch da nmt (ENTER para a atual):')\n",
        "if version:\n",
        "    !cd ./nmt/ && git checkout {version} && git pull\n",
        "    print(f'versão da nmt atualizada para: {version}')\n",
        "    \n",
        "# adicionando nmt    \n",
        "if './nmt' not in sys.path:\n",
        "    sys.path.insert(0, './nmt')\n",
        "    \n",
        "# adicionando pytools\n",
        "# if './pytools' not in sys.path:\n",
        "#     sys.path.insert(0, './pytools')\n",
        "print('Path do sistema:')\n",
        "sys.path[:2]"
      ],
      "execution_count": 8,
      "outputs": [
        {
          "output_type": "stream",
          "text": [
            "branch atual:\n",
            "master\n",
            "Versão/branch da nmt (ENTER para a atual):\n",
            "Path do sistema:\n"
          ],
          "name": "stdout"
        },
        {
          "output_type": "execute_result",
          "data": {
            "text/plain": [
              "['./nmt', '']"
            ]
          },
          "metadata": {
            "tags": []
          },
          "execution_count": 8
        }
      ]
    },
    {
      "cell_type": "code",
      "metadata": {
        "id": "wGYhSxf0pR9z",
        "colab": {
          "base_uri": "https://localhost:8080/"
        },
        "outputId": "d8da6b67-5d92-4bcc-d60f-274f3a647a7d"
      },
      "source": [
        "import json\n",
        "import sys\n",
        "import tensorflow as tf\n",
        "import numpy as np\n",
        "import pandas as pd\n",
        "import cereja as cj\n",
        "import random\n",
        "from datetime import datetime\n",
        "from matplotlib import pyplot\n",
        "from copy import copy\n",
        "\n",
        "import ipywidgets as widgets\n",
        "from ipywidgets import interact, interact_manual\n",
        "\n",
        "# # ------- CUIDADO ISSO QUEBRA A VM -------:\n",
        "# !pip install tornado==4.5.3 #-> resolve problema do asyncio no jupyter\n",
        "# #se for usar, execute o comando abaixo para restaurar a versão do tornado:\n",
        "# # !pip install tornado -U\n",
        "# # ------- CUIDADO ISSO QUEBRA A VM -------:"
      ],
      "execution_count": 13,
      "outputs": [
        {
          "output_type": "stream",
          "text": [
            "\u001b[31m🍒\u001b[30m Using Cereja v.1.4.8\r\n"
          ],
          "name": "stdout"
        }
      ]
    },
    {
      "cell_type": "markdown",
      "metadata": {
        "id": "lR5lyYjdpR94"
      },
      "source": [
        "# Hiperparâmetros da NMT"
      ]
    },
    {
      "cell_type": "code",
      "metadata": {
        "id": "jgBj8TvYpR95",
        "colab": {
          "base_uri": "https://localhost:8080/",
          "height": 625,
          "referenced_widgets": [
            "46fb95bc11834061acdd91eddbc9c71a",
            "c4ef5bea18a6428b8357da6d56b22a06",
            "369bb28db053417db7c4273d42ccab1e",
            "4364ae8c8e79436aa03ed11d21eecb4e",
            "baef3b98ef934d249cc019fc96d03999",
            "7ca8ba72974a45b5b089f568a98738c6",
            "c27677d1f87343d881c947ebc5195c0a",
            "57561fe4db71488bb5683c7bb3aec5e4",
            "513311d365d944bba3bd1e32e25977d1",
            "bf548d026501471386b1b92e48e198d7",
            "1d89503735634abdba5c6cc880600f18",
            "f7a95b5d318b4ea09ee5b815f1b2d255",
            "a339dbd57add459a922042bea3118c09",
            "7e4cda311e34441eaac41e0323b257e6",
            "fd5e2f87c6374041b3fbb5ee6f192d70",
            "e8e1d2efcc084cd1a8a0e5a4a0986636",
            "4d8319c22d8d4eb39b6676691e832590",
            "72de537101ee491f96ceef7862a255fb",
            "95037bb2369b4265a681258d3ef67265",
            "77d072b0b27945ed80ba9b74351c2472",
            "919147c8d66c4ac7ab515f3c42f5e323",
            "ccdcc55b5fd840ba83a15aff169395f6",
            "2f97d3d9eecd4615b3eaa1d6c9c8be19",
            "a912ee24a8684edea8e853f32fa6683a",
            "eb1b6efbac1142bab5a37edd9163dd5f",
            "f027ffb954a24db4aae17a1c42c9d92e",
            "bfb873f54ff94b248496d8c5e17b548d",
            "8991b1c8bd494c2eabf0f5f5f61d0a5f",
            "bb4dd839419340868715b3aabc2f0320",
            "263e6d028d824f96bb90eae2e0dc2d1a",
            "f5d4ade4ca114bea99bf82e6a8c21a36",
            "e42fb231d19f424b9e435c8b589c2d5e",
            "e54be93fabdb4f70b632d1cc5f98e49b",
            "b8dff5dfdf2d4e7fa8ccb01e4b0b0f68",
            "010a574d585244cfa60c7f70d098d755",
            "ad299ed0e70a461690eb18efa6ae11de",
            "6f773ad1fd9344db859c24ad727af7a0",
            "527bb88424614dcc9dd15dc9560c8421",
            "bda95b8b4ff94d05ac7bd8b6ac0fecd9",
            "4cb9c8a8b7d44ed0b97014051ab0618b",
            "7d1b39ddd4024689b6d5002528b0693d",
            "860d659569924390835480b48e9069ba",
            "01bf973511e04206ae61f8b5e899b212",
            "19c60055fc4343eea4c03977f7be2559",
            "356816979972409c829759c86d318c43",
            "69120650d65444bb8279b4acade7a476",
            "13cd6f38577748dea3ceb9fc8ec30de8",
            "faf4ec0ea8404670965e0081c6a694a5",
            "31dde18e54af41c39e54cccb53f7eeef",
            "b741e7a25f5a42c98f24de4047c6c5cf",
            "caea6904ce1f43df8813ddb0c2b7829d",
            "6e21e2c737724ef79de4a5a68a9c73ad",
            "52766523868343b59dce50dbfc1c0852",
            "eb4cbbba81cc4e289a1924cd55ac9aae",
            "b0fdb4652b4a43d784125c00af681d61",
            "3098bb7622fd4dd9817539dc99890f68",
            "12272c946890411f9b6a4dd989f1b84d",
            "6643a0958d864e91ae3b8b6df7809c90",
            "11ad4c1e1278427ca2a2d609e7d850b1",
            "f7bbe2eec2e74e0bb396854d03878693",
            "c7b03a3cbece4ef788cc7f6b2ee2267e",
            "455555738e214a179b3fd81462038d31",
            "e6554eb9e3374b93b1bf3ed530acd605",
            "9a6ae0f533ce4da8ace504c8dfe9dcc0",
            "dc35593bb2744778887940e93bcd71ef",
            "ce952a7193554b279523eea294a2759c",
            "3275d23d9e3c4b8c8bd908e955ebc161",
            "e5472d35d0b343a08abc0cd67ecb157d",
            "be9339f425cc45c7bb0271f72f6c921a",
            "2dce3001799248cfbf63900cc40b600c",
            "3a902208c75044c09ba8cbf28daf06a3",
            "636227f307114830aaef68a4f940d505",
            "63a1192462fd41278021413db0a63bca"
          ]
        },
        "outputId": "46b814ef-fa6a-4ea4-f467-83e25bcfac63"
      },
      "source": [
        "translation_languages_c = [\"en-asl\", \"pt-bzs\"]\n",
        "preditor_c = ['BaselineNgramPredict', \"SequentialPredict\"]\n",
        "model_architecture_c = [\"HtNmt\", \"HTModel\", \"AttentionModel\"]\n",
        "optimizer_c = [\"adam\", \"SGD\", \"RMSprop\", \"Adadelta\", \"Adagrad\", \"Adamax\", \"Nadam\", \"Ftrl\"] \n",
        "learning_rate_c = [\"0.003\", \"0.00001\", \"0.0001\", \"0.001\", \"0.01\", \"0.03\", \"0.1\", \"0.3\", \"1\", \"3\", \"10\"]\n",
        "decay_c = [\"0.0002\", \"0\", \"0.003\", \"0.01\", \"0.03\", \"0.1\", \"1\", \"3\", \"10\"]\n",
        "test_from_c = ['legacy', 'new data', 'mix', 'input']\n",
        "\n",
        "    \n",
        "@interact\n",
        "def comment_input(Comment='Treinamento da NMT ...'):\n",
        "    global comment_of_train\n",
        "    comment_of_train=Comment\n",
        "    \n",
        "    \n",
        "@interact\n",
        "def hyperparameters_list(Languages=translation_languages_c, Predictor=preditor_c, Model=model_architecture_c, \n",
        "                         Optimizer=optimizer_c, Learning=learning_rate_c, Decay=decay_c,\n",
        "                         Test_from=test_from_c):\n",
        "    global translation_languages, preditor, model_architecture\n",
        "    global optimizer, learning_rate, decay, use_test_from\n",
        "    translation_languages=Languages\n",
        "    preditor=Predictor\n",
        "    model_architecture=Model\n",
        "    optimizer=Optimizer\n",
        "    learning_rate=Learning\n",
        "    decay=Decay\n",
        "    use_test_from=Test_from\n",
        "    \n",
        "    \n",
        "@interact\n",
        "def hyperparameters_input(Epochs='30', Batch_size='32', Dimensions='100',\n",
        "                          Units='128', NTR='0.75', Sentence_len='10'):\n",
        "    global n_epochs, batch_size, n_dimensions, n_units, ntr, max_length_sentence\n",
        "    n_epochs=int(Epochs) if Epochs else 30\n",
        "    batch_size=int(Batch_size) if Batch_size else 32\n",
        "    n_dimensions=int(Dimensions) if Dimensions else 10\n",
        "    n_units=int(Units) if Units else 128\n",
        "    ntr=float(NTR) if NTR else 0.75\n",
        "    max_length_sentence=int(Sentence_len) if Sentence_len else 10\n",
        "    \n",
        "    \n",
        "@interact\n",
        "def hyperparameters_bool(use_dictionary=True, run_quality_test=False, run_performance_test=False, \n",
        "                         run_save_model=True, use_extra_vocab=True):  \n",
        "    global use_dict, extra_vocab, quality_test, performance_test, save_model\n",
        "    use_dict=use_dictionary\n",
        "    quality_test=run_quality_test\n",
        "    performance_test=run_performance_test\n",
        "    save_model=run_save_model\n",
        "    extra_vocab=use_extra_vocab"
      ],
      "execution_count": 14,
      "outputs": [
        {
          "output_type": "display_data",
          "data": {
            "application/vnd.jupyter.widget-view+json": {
              "model_id": "46fb95bc11834061acdd91eddbc9c71a",
              "version_minor": 0,
              "version_major": 2
            },
            "text/plain": [
              "interactive(children=(Text(value='Treinamento da NMT ...', description='Comment'), Output()), _dom_classes=('w…"
            ]
          },
          "metadata": {
            "tags": []
          }
        },
        {
          "output_type": "display_data",
          "data": {
            "application/vnd.jupyter.widget-view+json": {
              "model_id": "57561fe4db71488bb5683c7bb3aec5e4",
              "version_minor": 0,
              "version_major": 2
            },
            "text/plain": [
              "interactive(children=(Dropdown(description='Languages', options=('en-asl', 'pt-bzs'), value='en-asl'), Dropdow…"
            ]
          },
          "metadata": {
            "tags": []
          }
        },
        {
          "output_type": "display_data",
          "data": {
            "application/vnd.jupyter.widget-view+json": {
              "model_id": "e54be93fabdb4f70b632d1cc5f98e49b",
              "version_minor": 0,
              "version_major": 2
            },
            "text/plain": [
              "interactive(children=(Text(value='30', description='Epochs'), Text(value='32', description='Batch_size'), Text…"
            ]
          },
          "metadata": {
            "tags": []
          }
        },
        {
          "output_type": "display_data",
          "data": {
            "application/vnd.jupyter.widget-view+json": {
              "model_id": "b0fdb4652b4a43d784125c00af681d61",
              "version_minor": 0,
              "version_major": 2
            },
            "text/plain": [
              "interactive(children=(Checkbox(value=True, description='use_dictionary'), Checkbox(value=False, description='r…"
            ]
          },
          "metadata": {
            "tags": []
          }
        }
      ]
    },
    {
      "cell_type": "code",
      "metadata": {
        "id": "cQKXwrVJpR97",
        "colab": {
          "base_uri": "https://localhost:8080/"
        },
        "outputId": "c51151f3-d161-478d-e2e3-98ca0c5b7a6b"
      },
      "source": [
        "print(f'Treinamento da NMT dados convertidos mais dados community mais Palavras Relacionadas + teste {use_test_from} + {n_epochs} epocas + {max_length_sentence} input + {n_units} neurônios + {learning_rate} LR + {ntr} ntr')\n",
        "# Treinamento da NMT somente com dados convertidos + teste input + 30 epocas + 10 input + 128 neurônios + 0.003 LR + 0.75 ntr"
      ],
      "execution_count": 16,
      "outputs": [
        {
          "output_type": "stream",
          "text": [
            "Treinamento da NMT dados convertidos mais dados community mais Palavras Relacionadas + teste legacy + 30 epocas + 10 input + 128 neurônios + 0.003 LR + 0.75 ntr\n"
          ],
          "name": "stdout"
        }
      ]
    },
    {
      "cell_type": "code",
      "metadata": {
        "colab": {
          "base_uri": "https://localhost:8080/"
        },
        "id": "sAaYc3izFcMi",
        "outputId": "7219944e-dd08-44c9-a45f-5282aed09b09"
      },
      "source": [
        "print(f'Treinamento para tradução: {translation_languages}')\n",
        "year, month, day, hour_min = datetime.today().strftime('%Y-%m-%d-%H_%M').split('-')\n",
        "source_language, target_language = translation_languages.split('-')\n",
        "\n",
        "job_dir = f\"/content/nmt/JOB_DIR/{source_language}_{target_language}\"\n",
        "job_dir_exists = os.path.exists(job_dir)\n",
        "\n",
        "if not job_dir_exists:\n",
        "    os.makedirs(job_dir)\n",
        "else:\n",
        "    assert(input(f'Todo conteúdo de {job_dir} será apagado. Digite \"sim\" para prosseguir').lower() == 'sim')\n",
        "    !rm -r '{job_dir}'/*\n",
        "\n",
        "NMT_CONFIG = {\n",
        "  \"_comment\": \"Configuração geral do sistema - NEW\",\n",
        "  \"SOURCE_LANGUAGE\": source_language,\n",
        "  \"TARGET_LANGUAGE\": target_language,\n",
        "  \"ENVIRONMENT\": \"development\",\n",
        "  \"CHOICE_PREDICTS\": {\n",
        "    \"Sequential\": f\"nmt.core.predict.predictors.{preditor}\"\n",
        "  },\n",
        "  \"MODEL_ARCHITECTURE\": f\"nmt.core.models.base.{model_architecture}\",\n",
        "  \"EPOCHS\": n_epochs,\n",
        "  \"JOB_DIR\": job_dir,\n",
        "  \"CORPUS_DIR\": \"/content/CORPUS_DIR\",\n",
        "  \"NORMAL_TRAIN\": True,\n",
        "  \"PERFORMANCE_TEST\": True,\n",
        "  \"ATTENTION\": \"ht_attention\",\n",
        "  \"USE_DICT\": use_dict,\n",
        "  \"OPTIMIZER\": optimizer,\n",
        "  \"LEARNING_RATE\": float(learning_rate),\n",
        "  \"DECAY\": float(decay),\n",
        "  \"N_DIM\": n_dimensions,\n",
        "  \"N_UNITS\": n_units,\n",
        "  \"BATCH_SIZE\": batch_size,\n",
        "  \"EXTRA_VOCAB\": extra_vocab,\n",
        "  \"NTR\": ntr,\n",
        "  \"LOG_ARGMAX_LENGTH\": 3,\n",
        "  \"MAX_SOURCE_LENGTH_SENTENCE\": max_length_sentence,\n",
        "  \"MAX_TARGET_LENGTH_SENTENCE\": max_length_sentence,\n",
        "  \"PARSER\": max_length_sentence,\n",
        "}\n",
        "\n",
        "with open('./nmt/nmt/config/default_config.json', 'w', encoding='utf-8') as f:\n",
        "    json.dump(NMT_CONFIG, f, indent=True)\n",
        "\n",
        "import nmt\n",
        "nmt.config.settings.update_settings(NMT_CONFIG)\n",
        "cj.FileIO.create(os.path.join(nmt.config.settings.JOB_DIR, 'nmt_config.json'), NMT_CONFIG).save()"
      ],
      "execution_count": 17,
      "outputs": [
        {
          "output_type": "stream",
          "text": [
            "Treinamento para tradução: en-asl\n",
            "WARNING:nmt.config.settings:Dicionário de decodificação asl não encontrado: '/content/nmt/JOB_DIR/en_asl/ID_GLOSA_ASL.json'\n"
          ],
          "name": "stdout"
        }
      ]
    },
    {
      "cell_type": "code",
      "metadata": {
        "id": "nseA5D44G1po"
      },
      "source": [
        "from nmt.core.pln.corpus_toolkit import Corpus, restrict_sentences\n",
        "from nmt.config import settings\n",
        "from nmt.core.predict import BaselineNgramPredict\n",
        "from nmt.core.tokenizer.tokenizer import Vectorizer\n",
        "from nmt.core.predict.controller import Translator\n",
        "from nmt.core.pln import PreProcessing, PostProcessing\n",
        "from nmt.core.pln import operations\n",
        "from nmt.core.models.base import HtNmt\n",
        "\n",
        "seed = nmt.config.settings.NMT_TRAIN_CONFIG['random_seed']\n",
        "random.seed(seed)\n",
        "np.random.seed(seed)\n",
        "tf.compat.v1.set_random_seed(seed)\n",
        "ON_ASL = True if settings.TARGET_LANGUAGE == 'asl' else False"
      ],
      "execution_count": 18,
      "outputs": []
    },
    {
      "cell_type": "markdown",
      "metadata": {
        "id": "Komo78uvHmEP"
      },
      "source": [
        "# Preprocessamento\n",
        "Agora vamos realizar o preprocessamento dos dados.\n",
        "\n",
        "1 - Você pode simplesmente utilizar a configuração predefinida.\n",
        "\n",
        "2 - Ou construir seu preprocessamento\n",
        "Para construir seu preprocessamento utilizando as operações você vai precisar entender um pouco a nossa estrutura."
      ]
    },
    {
      "cell_type": "code",
      "metadata": {
        "id": "2ktFpk3aHpkv",
        "colab": {
          "base_uri": "https://localhost:8080/"
        },
        "outputId": "d4c1eedf-dc16-4595-cdc3-a13e2d81b389"
      },
      "source": [
        "preprocess = PreProcessing.build(preprocessing_config=settings.PLN_CONFIG)\n",
        "# para visualizar as operações ativas\n",
        "\n",
        "#### HABILITAR SE QUISER STEMMAR\n",
        "# preprocess.add_operation('stemming', language = 'en')\n",
        "######\n",
        "preprocess.operations"
      ],
      "execution_count": 19,
      "outputs": [
        {
          "output_type": "execute_result",
          "data": {
            "text/plain": [
              "[LowerCaseSelect,\n",
              " FilterSignals,\n",
              " RemoveStopWords,\n",
              " RemoveItems,\n",
              " JoinAlphaNumeric,\n",
              " ReplaceEnglishContractions,\n",
              " RemoveAccents]"
            ]
          },
          "metadata": {
            "tags": []
          },
          "execution_count": 19
        }
      ]
    },
    {
      "cell_type": "markdown",
      "metadata": {
        "id": "Myh1UI_BoiL1"
      },
      "source": [
        "## Adicionando operações ao preprocessamento (Opcional)\n",
        "Para adicionar novas operações utilize o método `add_operation`\n",
        "\n",
        "Por padrão já desenvolvemos algumas operações de preprocessamento, você pode visualiza-las utilizando o método `nmt.core.pln.operations.look_up`\n",
        "\n",
        "Você pode facilmente criar a sua e acoplar a nmt para isso utilizando a classe `nmt.core.pln.operations.Operation`. É necessário criar o método abstrato `op`, onde ele recebe uma string (frase) e deve retornar uma string também\n",
        "\n",
        "\n",
        "Exemplo:\n",
        "```python\n",
        "class LowerCase(operations.Operation):\n",
        "\n",
        "    def op(self, sentence: str) -> str:\n",
        "        # corpo da sua função para a manipulação da sentença recebida\n",
        "        return sentence.lower()\n",
        "\n",
        "preprocess.add_operation(LowerCase, is_only_target=True, exec_priority=0)\n",
        "```\n",
        "\n",
        "\n",
        "A classe `Operation` tem os seguintes atributos \n",
        "\n",
        "* `is_only_source: bool = False` como o seu nome sugere a operação só será executada na sentença fonte\n",
        "\n",
        "* `is_only_target: bool = False` o mesmo acontece em relação as sentenças alvo. Caso ambas as flags forem `False` significa que é uma operação para ambas as línguas \n",
        "\n",
        "* `exec_priority: int = -1` as operações são executadas com uma determinada prioridade, isso é necessário em alguns casos, tenha isso em mente\n",
        "\n",
        "\n"
      ]
    },
    {
      "cell_type": "code",
      "metadata": {
        "id": "A0OxbtL7poks"
      },
      "source": [
        "def preprocessing_community_data(corpus: Corpus, preprocess=None):\n",
        "    \"\"\"\n",
        "    Esta função resolve alguns problemas que foram identificados no community,\n",
        "    ela é temporária até o problema ser resolvido na raiz\n",
        "    \"\"\"\n",
        "    assert isinstance(corpus, Corpus), \"Você precisa enviar uma instância de 'nmt.core.pln.corpus_toolkit.Corpus'\"\n",
        "    # Espaço para você criar suas operações (:\n",
        "    if corpus.source_language == 'en' and corpus.target_language == 'asl':\n",
        "        new_source = []\n",
        "        new_target = []\n",
        "        total_removed = 0\n",
        "        total_fixed = 0\n",
        "        for i, (x, y) in enumerate(corpus):\n",
        "            prep_x = preprocess.clean(x).split()\n",
        "            prep_y = preprocess.clean(y).split()\n",
        "            error = list(filter(lambda x: '¶' not in x and x not in prep_x, prep_y))\n",
        "            if error:\n",
        "                total_removed += 1\n",
        "                continue\n",
        "            if prep_x.count('tom') > 1 or prep_y.count('tom') > 1:\n",
        "                total_removed += 1\n",
        "                continue\n",
        "            if prep_x.count('tom') != prep_y.count('tom'):\n",
        "                total_removed += 1\n",
        "                continue\n",
        "            if ('mary' in prep_x or 'marys' in prep_x) and 'mari' in prep_y:\n",
        "                total_fixed += 1\n",
        "                y = y.replace('mari', 'mary')\n",
        "                prep_y = preprocess.clean(y).split()\n",
        "            if prep_x.count('mary') > 1 or prep_x.count('marys') > 1 or prep_y.count('mary') > 1:\n",
        "                total_removed += 1\n",
        "                continue\n",
        "            if prep_x.count('mary') != prep_y.count('mary'):\n",
        "                total_removed += 1\n",
        "                continue\n",
        "            if prep_y.count('?'):\n",
        "                y = y.replace('?', '')\n",
        "                total_fixed += 1\n",
        "            if prep_y.count(','):\n",
        "                y = y.replace(',', '')\n",
        "                total_fixed += 1\n",
        "            prep_x = preprocess.clean(x).split()\n",
        "            prep_y = preprocess.clean(y).split()\n",
        "            error = list(filter(lambda x: '¶' not in x and x not in prep_x, prep_y))\n",
        "            if error:\n",
        "                total_removed += 1\n",
        "                continue\n",
        "            \n",
        "            new_source.append(x)\n",
        "            new_target.append(y)\n",
        "\n",
        "        print(f'total_removed = {total_removed}')\n",
        "        print(f'total_fixed = {total_fixed}')\n",
        "        return Corpus(new_source, new_target, source_name='en', target_name='asl', preprocessor=preprocess)\n",
        "    return corpus\n",
        "\n",
        "\n",
        "def load_replace_dict(file_path):\n",
        "    assert os.path.exists(file_path), f'\"{file_path}\" não encontrado'\n",
        "    with open(file_path) as f:\n",
        "        original_replaces = json.load(f)\n",
        "    return {f'¶{sign_key}': f'¶{sign_value}' if not isinstance(sign_value, list) else [f'¶{sign}' for sign in sign_value]\n",
        "            for sign_key, sign_value in original_replaces.items()}\n",
        "\n",
        "\n",
        "def replace_signs(corpus: Corpus, workspace='ASL', preprocess=None):\n",
        "    replace_signs_path = f'/content/drive/Shareddrives/IA/CIENCIA_DE_DADOS/NMT/SUBSTITUICAO_DE_SINAIS/REPLACE_SIGNS_{workspace.upper()}.json'\n",
        "    sign_new_sign = load_replace_dict(replace_signs_path)\n",
        "\n",
        "    assert isinstance(corpus, Corpus), \"Você precisa enviar uma instância de 'nmt.core.pln.corpus_toolkit.Corpus'\"\n",
        "    \n",
        "    if corpus.source_language == 'en' and corpus.target_language == 'asl':\n",
        "        new_source = []\n",
        "        new_target = []\n",
        "        total_replaced = 0\n",
        "        for x, y in corpus:\n",
        "            result = [sign_new_sign.get(sign, sign) for sign in y.split(' ')]\n",
        "            total_replaced += sum(map(lambda w: w[0] != w[1], zip(y.split(' '), result)))                              \n",
        "            y = ' '.join(result)\n",
        "            new_source.append(x)\n",
        "            new_target.append(y)\n",
        "        print('total_replaced =', total_replaced)\n",
        "        return Corpus(new_source, new_target, source_name='en', target_name='asl', preprocessor=preprocess)\n",
        "    return corpus\n",
        "\n",
        "\n",
        "def generate_variations_sentences(index, new_sentences, signs_with_variations, signs_variations):\n",
        "    if index < len(signs_with_variations):\n",
        "        sign = signs_with_variations[index]\n",
        "        vars = signs_variations[sign] \n",
        "        len_sentences = len(new_sentences)\n",
        "        sentences_temp = list(new_sentences)\n",
        "        for i_sent in range(len_sentences):\n",
        "            sentence = sentences_temp[i_sent]\n",
        "            for var in vars:\n",
        "                if var == sign:\n",
        "                    continue\n",
        "                new_sentences.append(sentence.replace(sign, var))\n",
        "        generate_variations_sentences(index+1, new_sentences, signs_with_variations, signs_variations)\n",
        "\n",
        "\n",
        "def add_variations_sentences(corpus: Corpus, workspace='ASL', preprocess=None):\n",
        "    signs_variations_path = f'/content/drive/Shareddrives/IA/CIENCIA_DE_DADOS/NMT/SUBSTITUICAO_DE_SINAIS/SIGN_VARIATIONS_{workspace.upper}.json'\n",
        "    signs_variations = load_replace_dict(signs_variations_path)\n",
        "\n",
        "    assert isinstance(corpus, Corpus), \"Você precisa enviar uma instância de 'nmt.core.pln.corpus_toolkit.Corpus'\"\n",
        "    \n",
        "    if corpus.source_language == 'en' and corpus.target_language == 'asl':\n",
        "        new_source = []\n",
        "        new_target = []\n",
        "        total_variations = 0\n",
        "        for x, y in corpus:\n",
        "            new_sentences = [y]\n",
        "            signs_with_variations = list(filter(lambda signs: signs in signs_variations, y.split(' ')))\n",
        "            if signs_with_variations:\n",
        "                generate_variations_sentences(0, new_sentences, signs_with_variations, signs_variations)\n",
        "                total_variations += len(new_sentences) - 1 \n",
        "            new_source.extend([x]*len(new_sentences))\n",
        "            new_target.extend(new_sentences)\n",
        "        print('total_variations =', total_variations)\n",
        "        assert len(new_source) == len(new_source), f'Erro! source {len(new_source)} != target {len(new_source)}'\n",
        "        return Corpus(new_source, new_target, source_name='en', target_name='asl', preprocessor=preprocess)\n",
        "    return corpus"
      ],
      "execution_count": 32,
      "outputs": []
    },
    {
      "cell_type": "markdown",
      "metadata": {
        "id": "jN5tZwee2I9U"
      },
      "source": [
        "# Corpus\n",
        "Primeiro passo é carregar e dividir o corpus em dados de treino e teste\n",
        "\n",
        "### Divisão dos dados \n",
        "Você pode carregar os dados direto do storage, sempre será carregado o último corpus gerado pelo community."
      ]
    },
    {
      "cell_type": "code",
      "metadata": {
        "id": "FjSGM7sXpR-D",
        "colab": {
          "base_uri": "https://localhost:8080/",
          "height": 49,
          "referenced_widgets": [
            "b841550c68004938a467409f382af0f2",
            "f93be5b4ac0c468b980fc8cea18beceb",
            "04bc76e42cea470e98631987b9dbd674",
            "ef32c1c775c9484eb5bad530be38bc22",
            "22314e2225fe41caae0ae76372acf9bf",
            "a526db4332b24adf92b80a9c4d319321",
            "bd2b04c173044d83a593a16b06d512f7"
          ]
        },
        "outputId": "0558b756-f8a2-46f9-8c40-c77f16a5d5de"
      },
      "source": [
        "from typing import Tuple\n",
        "@interact\n",
        "def test_size(Test_percent=widgets.IntSlider(min=1, max=50, step=1, value=10)):\n",
        "    global test_percent\n",
        "    test_percent=Test_percent\n",
        "    \n",
        "# Gera o corpus com vocabulário reduzido (ex: para vocabulário 100, o algoritmo vai gerar \n",
        "# o corpus baseado neste vocabulário, sempre priorizando da mais frequente para a menos frequente)\n",
        "source_vocab_size = 0\n",
        "target_vocab_size = 0\n",
        "\n",
        "# Usada para separar treino e teste do corpus, podendo considerar o conjunto de validação legado\n",
        "def split_corpus(corpus: Corpus, test_percent: int=10, validation: Corpus=None) -> Tuple[Corpus, Corpus]:\n",
        "    # para remoção do conjunto de teste, sentenças de validação\n",
        "    validation_verify = {preprocess.clean(i) for i in validation.source.data} if validation \\\n",
        "                        else None\n",
        "    test_max_size = int((test_percent/100) * len(corpus))\n",
        "    train, test = corpus.split_data(test_max_size=test_max_size, \n",
        "                                    source_vocab_size=source_vocab_size, \n",
        "                                    target_vocab_size=target_vocab_size, \n",
        "                                    take_corpus_instances=True, \n",
        "                                    source_cannot_go_test=validation_verify)\n",
        "    # validação - nenhuma sentença de validação pode estar no teste\n",
        "    if validation_verify:\n",
        "        print('Checando conjunto de validade em teste')\n",
        "        for x, _ in test:\n",
        "            assert preprocess.clean(x) not in validation_verify, f'Erro! Existe sentença de validação no conjunto de teste'\n",
        "        print('Tudo certo! Pode seguir :D')\n",
        "    return train, test"
      ],
      "execution_count": 29,
      "outputs": [
        {
          "output_type": "display_data",
          "data": {
            "application/vnd.jupyter.widget-view+json": {
              "model_id": "b841550c68004938a467409f382af0f2",
              "version_minor": 0,
              "version_major": 2
            },
            "text/plain": [
              "interactive(children=(IntSlider(value=10, description='Test_percent', max=50, min=1), Output()), _dom_classes=…"
            ]
          },
          "metadata": {
            "tags": []
          }
        }
      ]
    },
    {
      "cell_type": "markdown",
      "metadata": {
        "id": "n2MXHJliynEP"
      },
      "source": [
        "### Corpus Legado"
      ]
    },
    {
      "cell_type": "code",
      "metadata": {
        "id": "X23QKHaDpR-E",
        "colab": {
          "base_uri": "https://localhost:8080/"
        },
        "outputId": "f103a8cc-aa70-49ab-b05b-d7eac4db91a9"
      },
      "source": [
        "source_column_name, target_column_name = ('sentence', 'parsedTags') if ON_ASL else ('source_sentence', 'target_sentence')\n",
        "source_column_name, target_column_name "
      ],
      "execution_count": 30,
      "outputs": [
        {
          "output_type": "execute_result",
          "data": {
            "text/plain": [
              "('sentence', 'parsedTags')"
            ]
          },
          "metadata": {
            "tags": []
          },
          "execution_count": 30
        }
      ]
    },
    {
      "cell_type": "code",
      "metadata": {
        "id": "hfDGguj_b0mf",
        "colab": {
          "base_uri": "https://localhost:8080/"
        },
        "outputId": "cc22e674-c281-43f4-9b74-a2672684ea7f"
      },
      "source": [
        "corpus = Corpus.load_from_storage(f\"CORPUS_{settings.TARGET_LANGUAGE.upper()}.csv\",\n",
        "                                  src_col_name=source_column_name,\n",
        "                                  trg_col_name=target_column_name,\n",
        "                                  source_name=settings.SOURCE_LANGUAGE,\n",
        "                                  target_name=settings.TARGET_LANGUAGE,\n",
        "                                  corpus_version='legacy',\n",
        "                                  join_id_glosa=False)   \n",
        "\n",
        "if ON_ASL:\n",
        "    corpus_legacy, validations_legacy = corpus[0], corpus[1]\n",
        "    print(\"Corrigindo Validações\")\n",
        "    validations_legacy = preprocessing_community_data(validations_legacy, preprocess=preprocess)\n",
        "    # validations_legacy = add_variations_sentences(validations_legacy, preprocess=preprocess)        \n",
        "    validations_legacy = replace_signs(validations_legacy, workspace=target_language, preprocess=preprocess)\n",
        "    print(\"Corrigindo Corpus\")\n",
        "    corpus_legacy = preprocessing_community_data(corpus_legacy, preprocess=preprocess)\n",
        "    # corpus_legacy = add_variations_sentences(corpus_legacy, preprocess=preprocess)\n",
        "    corpus_legacy = replace_signs(corpus_legacy, workspace=target_language, preprocess=preprocess)\n",
        "else:\n",
        "    corpus_legacy = corpus\n",
        "    validations_legacy = None\n",
        "\n",
        "print('Corpus legado -', corpus_legacy)\n",
        "print('Validação legado -', validations_legacy or 'Vazio')"
      ],
      "execution_count": 33,
      "outputs": [
        {
          "output_type": "stream",
          "text": [
            "ID_GLOSA_ASL.json baixado em: \"/content/nmt/JOB_DIR/en_asl/ID_GLOSA_ASL.json\"\n",
            "Total of empty parallel sentences ignored: 147\n",
            "Corrigindo Validações\n",
            "total_removed = 466\n",
            "total_fixed = 133\n",
            "total_replaced = 52205\n",
            "Corrigindo Corpus\n",
            "total_removed = 159\n",
            "total_fixed = 0\n",
            "total_replaced = 4459\n",
            "Corpus legado - Corpus(examples: 20848 - source_vocab_size: 11184 - target_vocab_size:15822)\n",
            "Validação legado - Corpus(examples: 51361 - source_vocab_size: 5847 - target_vocab_size:5642)\n"
          ],
          "name": "stdout"
        }
      ]
    },
    {
      "cell_type": "code",
      "metadata": {
        "id": "Ku-EXu96ozqa",
        "colab": {
          "base_uri": "https://localhost:8080/"
        },
        "outputId": "3c5d3714-a22e-45fb-90b0-9fcd997d8091"
      },
      "source": [
        "if use_test_from == 'legacy':\n",
        "    print('Usando teste: ', use_test_from)\n",
        "    train_legacy, test = split_corpus(corpus_legacy, test_percent, validations_legacy)\n",
        "    print('Teste final -', test)\n",
        "else:\n",
        "    train_legacy = corpus_legacy\n",
        "    \n",
        "print('Treino legado -', train_legacy)\n",
        "# Treino legado - Corpus(examples: 204812 - source_vocab_size: 41589 - target_vocab_size:18171)"
      ],
      "execution_count": 34,
      "outputs": [
        {
          "output_type": "stream",
          "text": [
            "Usando teste:  legacy\n",
            "Checando conjunto de validade em teste\n",
            "Tudo certo! Pode seguir :D\n",
            "Teste final - Corpus(examples: 1085 - source_vocab_size: 1219 - target_vocab_size:1187)\n",
            "Treino legado - Corpus(examples: 19763 - source_vocab_size: 11305 - target_vocab_size:15825)\n"
          ],
          "name": "stdout"
        }
      ]
    },
    {
      "cell_type": "markdown",
      "metadata": {
        "id": "U8R0KwSrpR-F"
      },
      "source": [
        "### Corpus de Sinais de Palavras Relacionadas\n",
        "**Apenas para BZS**"
      ]
    },
    {
      "cell_type": "code",
      "metadata": {
        "id": "NihAY79xpR-F",
        "colab": {
          "base_uri": "https://localhost:8080/"
        },
        "outputId": "3c18a8d1-9e11-4d15-f6a6-4859d2d8a0f0"
      },
      "source": [
        "train_related_words = []\n",
        "if target_language == 'bzs':\n",
        "    df_sentences = pd.read_csv('/content/drive/Shareddrives/IA/CIENCIA_DE_DADOS/NMT/SENTENCAS_PALAVRAS_RELACIONADAS/related_words_sentences_bzs.csv')\n",
        "    source_list, target_list = df_sentences['source_sentence'], df_sentences['target_sentence']\n",
        "    train_related_words = Corpus(source_list, target_list,\n",
        "                                 source_name=settings.SOURCE_LANGUAGE,\n",
        "                                 target_name=settings.TARGET_LANGUAGE,\n",
        "                                 preprocess=preprocess)\n",
        "print('Treino palavras relacionadas - ', train_related_words)"
      ],
      "execution_count": 35,
      "outputs": [
        {
          "output_type": "stream",
          "text": [
            "Treino palavras relacionadas -  []\n"
          ],
          "name": "stdout"
        }
      ]
    },
    {
      "cell_type": "markdown",
      "metadata": {
        "id": "9znif2GRpR-G"
      },
      "source": [
        "### Novo Corpus\n",
        "Com os novos dados do Community"
      ]
    },
    {
      "cell_type": "code",
      "metadata": {
        "id": "-i2Y8h_TpR-G"
      },
      "source": [
        "corpus_version = None #'2021-03-17'"
      ],
      "execution_count": 38,
      "outputs": []
    },
    {
      "cell_type": "code",
      "metadata": {
        "id": "0Sx4s5VlpR-G",
        "colab": {
          "base_uri": "https://localhost:8080/"
        },
        "outputId": "edaaf8ea-ded7-4bff-8075-3ef947491edb"
      },
      "source": [
        "source_column_name, target_column_name = 'source_sentence', 'target_sentence'\n",
        "new_corpus = Corpus.load_from_storage(f\"CORPUS_{settings.TARGET_LANGUAGE.upper()}.csv\",\n",
        "                                      src_col_name=source_column_name,\n",
        "                                      trg_col_name=target_column_name,\n",
        "                                      source_name=settings.SOURCE_LANGUAGE,\n",
        "                                      target_name=settings.TARGET_LANGUAGE,\n",
        "                                      corpus_version=corpus_version,\n",
        "                                      join_id_glosa=True)   \n",
        "\n",
        "if ON_ASL:\n",
        "    print(\"Corrigindo Corpus\")\n",
        "    new_corpus = preprocessing_community_data(new_corpus, preprocess=preprocess)\n",
        "    # new_corpus_clean = add_variations_sentences(new_corpus_clean, preprocess=preprocess)\n",
        "    new_corpus = replace_signs(new_corpus, workspace=target_language, preprocess=preprocess)\n",
        "print('Novo corpus -', new_corpus)\n",
        "# ID_GLOSA_ASL.json baixado em: \"./JOB_DIR/en_asl/ID_GLOSA_ASL.json\"\n",
        "# Total of empty parallel sentences ignored: 0\n",
        "# Corrigindo Corpus\n",
        "# total_removed = 110\n",
        "# total_fixed = 0\n",
        "# total_replaced = 3872\n",
        "# Novo corpus - Corpus(examples: 8284 - source_vocab_size: 4515 - target_vocab_size:4240)"
      ],
      "execution_count": 39,
      "outputs": [
        {
          "output_type": "stream",
          "text": [
            "Juntando com ID_GLOSA já existente: \"/content/nmt/JOB_DIR/en_asl/ID_GLOSA_ASL.json\"...\n",
            "ID_GLOSA_ASL.json baixado em: \"/content/nmt/JOB_DIR/en_asl/ID_GLOSA_ASL.json\"\n",
            "Total of empty parallel sentences ignored: 0\n",
            "Corrigindo Corpus\n",
            "total_removed = 139\n",
            "total_fixed = 0\n",
            "total_replaced = 11268\n",
            "Novo corpus - Corpus(examples: 10523 - source_vocab_size: 4651 - target_vocab_size:4493)\n"
          ],
          "name": "stdout"
        }
      ]
    },
    {
      "cell_type": "code",
      "metadata": {
        "id": "7LEDd71RpR-H",
        "colab": {
          "base_uri": "https://localhost:8080/"
        },
        "outputId": "18c4446c-e9e2-40bc-d654-3de75073b757"
      },
      "source": [
        "if use_test_from == 'new data':\n",
        "    print('Usando teste: ', use_test_from)\n",
        "    new_train, test = split_corpus(new_corpus, test_percent, validations_legacy)\n",
        "    print('Teste final -', test)\n",
        "else:\n",
        "    new_train = new_corpus\n",
        "    \n",
        "print('Novo Treino -', new_train)"
      ],
      "execution_count": 40,
      "outputs": [
        {
          "output_type": "stream",
          "text": [
            "Novo Treino - Corpus(examples: 10523 - source_vocab_size: 4651 - target_vocab_size:4493)\n"
          ],
          "name": "stdout"
        }
      ]
    },
    {
      "cell_type": "markdown",
      "metadata": {
        "id": "oiizOckIot6o"
      },
      "source": [
        "### Merge Corpus"
      ]
    },
    {
      "cell_type": "markdown",
      "metadata": {
        "id": "1btY_ajFAKxy"
      },
      "source": [
        "É hora de juntar dados do corpus legado + validação + novos dados do community!"
      ]
    },
    {
      "cell_type": "code",
      "metadata": {
        "id": "6IVPgqlbBuLN",
        "colab": {
          "base_uri": "https://localhost:8080/"
        },
        "outputId": "a9419632-eb33-43e4-b351-306f57c6bc72"
      },
      "source": [
        "corpus_tuple = [(x, y) for x, y in validations_legacy] if ON_ASL else []\n",
        "corpus_tuple += [(x, y) for x, y in train_legacy]\n",
        "corpus_tuple += [(x, y) for x, y in train_related_words]\n",
        "corpus_tuple += [(x, y) for x, y in new_train]\n",
        "\n",
        "corpus_tuple = list({(x, y) for x, y in corpus_tuple})\n",
        "\n",
        "corpus_source = []\n",
        "corpus_target = []\n",
        "for x, y in corpus_tuple:\n",
        "    corpus_source.append(x)\n",
        "    corpus_target.append(y)\n",
        "assert len(corpus_source) == len(corpus_target), 'Erro! Sentenças fonte e alvo diferentes: ' \\\n",
        "                                               f'{len(corpus_source)} != {len(corpus_target)})'\n",
        "\n",
        "corpus = Corpus(corpus_source, corpus_target,\n",
        "               source_name=settings.SOURCE_LANGUAGE,\n",
        "               target_name=settings.TARGET_LANGUAGE,\n",
        "               preprocess=preprocess)\n",
        "\n",
        "if use_test_from == 'mix':\n",
        "    print('usando teste: ', use_test_from)\n",
        "    train, test = split_corpus(corpus, test_percent, validations_legacy)\n",
        "    print('Teste final -', test)\n",
        "elif use_test_from == 'input':\n",
        "    print('usando teste: ', use_test_from)\n",
        "    # Informe o path do teste aqui:\n",
        "    x_test_path = '/content/drive/Shareddrives/IA/CIENCIA_DE_DADOS/NMT/CORPUS_LEGADO_BZS/converted_test_without_leak_pt.align'\n",
        "    y_test_path = '/content/drive/Shareddrives/IA/CIENCIA_DE_DADOS/NMT/CORPUS_LEGADO_BZS/converted_test_without_leak_bzs.align'\n",
        "    assert os.path.exists(x_test_path), f'\"{x_test_path}\" não encontrado!'\n",
        "    assert os.path.exists(y_test_path), f'\"{y_test_path}\" não encontrado!'\n",
        "    with open(x_test_path) as f:\n",
        "        x_test = f.read().split('\\n')\n",
        "    with open(y_test_path) as f:\n",
        "        y_test = f.read().split('\\n')\n",
        "    assert len(x_test) == len(y_test), f'Erro! Base de treino inconsistente {len(x_test)} != {len(y_test)}'\n",
        "    test = Corpus(x_test, y_test,\n",
        "                  source_name=settings.SOURCE_LANGUAGE,\n",
        "                  target_name=settings.TARGET_LANGUAGE,\n",
        "                  preprocess=preprocess)\n",
        "    train = corpus\n",
        "    print('Teste final -', test)\n",
        "else:\n",
        "    train = corpus\n",
        "    \n",
        "print('Treino Final -', train)\n",
        "# usando teste:  input\n",
        "# Teste final - Corpus(examples: 1870 - source_vocab_size: 2978 - target_vocab_size:1747)\n",
        "# Treino Final - Corpus(examples: 200287 - source_vocab_size: 42407 - target_vocab_size:20191)"
      ],
      "execution_count": 41,
      "outputs": [
        {
          "output_type": "stream",
          "text": [
            "Treino Final - Corpus(examples: 58610 - source_vocab_size: 13268 - target_vocab_size:17943)\n"
          ],
          "name": "stdout"
        }
      ]
    },
    {
      "cell_type": "code",
      "metadata": {
        "id": "7BAaaHyCFlgi",
        "colab": {
          "base_uri": "https://localhost:8080/"
        },
        "outputId": "ea2507e8-c600-4edb-b96c-ca9a7caddf3b"
      },
      "source": [
        "# validação - verifica se existe sentença de treino, no conjunto de teste (leak)\n",
        "count = 0\n",
        "train_set = {preprocess.clean(x) for x,_ in train}\n",
        "for src, trg in test:\n",
        "    if preprocess.clean(src) in train_set:\n",
        "        count+=1\n",
        "print(f'Foram encontradas {count} sentenças de treino no teste\\nNão se aperrei,', \n",
        "      'os leak serão removidos mais pra frente ;D') if count else \\\n",
        "print('Tudo certo! Pode seguir :D')\n",
        "# Foram encontradas 136 sentenças de treino no teste\n",
        "# Não se aperrei, os leak serão removidos mais pra frente ;D"
      ],
      "execution_count": 42,
      "outputs": [
        {
          "output_type": "stream",
          "text": [
            "Foram encontradas 702 sentenças de treino no teste\n",
            "Não se aperrei, os leak serão removidos mais pra frente ;D\n"
          ],
          "name": "stdout"
        }
      ]
    },
    {
      "cell_type": "code",
      "metadata": {
        "id": "6d3JODRgGfXi",
        "colab": {
          "base_uri": "https://localhost:8080/"
        },
        "outputId": "61509660-16b6-4e12-e463-7893217b84c1"
      },
      "source": [
        "train.source.save_freq(settings.JOB_DIR, 'train_source_freq')\n",
        "train.target.save_freq(settings.JOB_DIR, 'train_target_freq')\n",
        "test.source.save_freq(settings.JOB_DIR, 'test_source_freq')\n",
        "test.target.save_freq(settings.JOB_DIR, 'test_target_freq')\n",
        "\n",
        "train.save(settings.JOB_DIR,take_split=False, shuffle=False, prefix='train')\n",
        "test.save(settings.JOB_DIR, take_split=False, shuffle=False, prefix='test')\n",
        "\n",
        "id_glosa_path = os.path.join(settings.JOB_DIR, f'ID_GLOSA_{settings.TARGET_LANGUAGE.upper()}.json')\n",
        "with open(id_glosa_path, encoding='utf-8') as fp:\n",
        "    settings.update_settings({f\"ID_GLOSA_{settings.TARGET_LANGUAGE.upper()}\":json.load(fp)})\n",
        "\n",
        "print('Usando teste: ', use_test_from)\n",
        "print('Treino -', train)\n",
        "print('Teste -', test)"
      ],
      "execution_count": 43,
      "outputs": [
        {
          "output_type": "stream",
          "text": [
            "Usando teste:  legacy\n",
            "Treino - Corpus(examples: 58610 - source_vocab_size: 13268 - target_vocab_size:17943)\n",
            "Teste - Corpus(examples: 1085 - source_vocab_size: 1219 - target_vocab_size:1187)\n"
          ],
          "name": "stdout"
        }
      ]
    },
    {
      "cell_type": "markdown",
      "metadata": {
        "id": "zqXBiHACF-xC"
      },
      "source": [
        "## Executando o preprocessamento nos dados\n",
        "Estamos quase chegando no treinamento, já temos um *Corpus*, um *Preprocessador*\n",
        "\n",
        "\n",
        "\n",
        "```\n",
        "Corpus + Preprocessador = Dados lindos\n",
        "```\n",
        "\n",
        "Vamos definir o número máximo de ***palavras desconhecidas*** em uma sentença, isso mesmo o famoso `UNK`.\n",
        "\n",
        "Não podemos definir um número maior que o número máximo de tokens que nossa rede suporta, então vamos utilizar essa infomação que já temos na configuração da nmt.\n",
        "\n",
        "Simplesmente pegamos o mínimo entre o tamanho máximo que a rede suporta entre a sentença fonte e a sentença alvo\n",
        "\n",
        "Depois de definir o número de unk's nós precisamos passar esse valor como parâmetro para a função do ***preprocessador*** `clean_data_set` e como o nome sugere, é responsável por executar as ***operações*** comuns e as específicas em todos nossos dados"
      ]
    },
    {
      "cell_type": "code",
      "metadata": {
        "id": "J7QJbz6lGAtH",
        "colab": {
          "base_uri": "https://localhost:8080/"
        },
        "outputId": "aeebb9e0-dbb0-44d2-d167-66025092d684"
      },
      "source": [
        "# Aqui está nosso número de palavras desconhecidas.\n",
        "n_unks = min(settings.MODEL_STRUCTURE[\"max_source_length_sentence\"],\n",
        "             settings.MODEL_STRUCTURE[\"max_target_length_sentence\"])\n",
        "\n",
        "# Muito bom! Chegou a hora de colocar o preprocessador para funcionar.\n",
        "cleaned_train = preprocess.clean_data_set(train, n_unks=n_unks, fill_unk=True, verbose=True)\n",
        "cleaned_test = preprocess.clean_data_set(test, n_unks=n_unks, fill_unk=False, verbose=True)\n",
        "\n",
        "# Remove LEAK\n",
        "print(\"Verificando se contém LEAK depois do preprocessamento\")\n",
        "x = {src:index for index, (src, trg)  in enumerate(cleaned_train)}\n",
        "y = {src:index for index, (src, trg)  in enumerate(cleaned_test)}\n",
        "index_leaks = [x[i] for i in set(y).intersection(set(x))]\n",
        "if index_leaks:\n",
        "    print(f\"Encontrou {len(index_leaks)} LEAKS.\")\n",
        "    print(f\"Tamanho do treino antes da remoção: {len(cleaned_train)}\")\n",
        "    cleaned_train = np.array([train_line for i, train_line in enumerate(cleaned_train) if i not in index_leaks])\n",
        "    print(f\"Tamanho do treino depois da remoção: {len(cleaned_train)}\")\n",
        "else:\n",
        "    print('Nenhum LEAK foi encontrado...oia que bom :D')\n",
        "\n",
        "# Restringe as sentenças fonte e alvo do conjunto de dados.\n",
        "cleaned_train = restrict_sentences(parallel_data=cleaned_train,\n",
        "                                   source_seq_length=settings.NMT_TRAIN_CONFIG['model_structure'][\n",
        "                                       'max_source_length_sentence'],\n",
        "                                   target_seq_length=settings.NMT_TRAIN_CONFIG['model_structure'][\n",
        "                                       'max_target_length_sentence'])\n",
        "\n",
        "# BZS\n",
        "# 1867/18707747Verificando se contém LEAK depois do preprocessamento\n",
        "# Encontrou 155 LEAKS.\n",
        "# Tamanho do treino antes da remoção: 197757\n",
        "# Tamanho do treino depois da remoção: 197602"
      ],
      "execution_count": 44,
      "outputs": [
        {
          "output_type": "stream",
          "text": [
            "1084/1085Verificando se contém LEAK depois do preprocessamento\n",
            "Encontrou 541 LEAKS.\n",
            "Tamanho do treino antes da remoção: 58620\n",
            "Tamanho do treino depois da remoção: 58079\n"
          ],
          "name": "stdout"
        }
      ]
    },
    {
      "cell_type": "markdown",
      "metadata": {
        "id": "h6snwWF3HCG7"
      },
      "source": [
        "# Tokenizador - transformando frases em uma sequência de números\n",
        "\n",
        "A partir de agora entramos no mundo dos números!\n",
        "\n",
        "Nós iremos tokenizar nossos dados, onde palavras tornam-se números.\n",
        "\n",
        "Para isso vamos utilizar a classe `Vectorizer` e vamos passar os dados preprocessados, junto com o número de ***unk's***\n",
        "\n",
        "**Importante!!!**\n",
        "O tokenizer é a chave para codificação e decodificação, então você vai querer guardá-lo.\n",
        "\n",
        "Calma, você vai ver que nós facilitamos tudo isso para você."
      ]
    },
    {
      "cell_type": "code",
      "metadata": {
        "id": "fNP0m2sBpR-M",
        "colab": {
          "base_uri": "https://localhost:8080/"
        },
        "outputId": "7736351b-c24c-4619-fcb0-12272d49ef2a"
      },
      "source": [
        "# Antes de iniciar com o Vectorizer, vamos concatenar para facilitar a busca\n",
        "# Outra coisa muito importante!!! Nunca manipule string com numpy, você vai perder informação.\n",
        "# Se for utilizar pelas facilidades e costume, utilize apenas como leitura\n",
        "\n",
        "# Para acessar os dados da sentença fonte use `data[:,0]` e `data[:,1]` para acessar os dados da sentença alvo.\n",
        "data = np.concatenate([cleaned_train, cleaned_test])\n",
        "\n",
        "# Construção do path do arquivo onde o tokenizer (.txt) será salvo.\n",
        "# Nós salvamos tudo que é gerado no diretório JOB_DIR/<lingua_fonte>_<lingua_alvo>/ é regra.\n",
        "# Inclusive já criamos ele pra você sem você nem perceber rsrs.\n",
        "source_tokenizer_path = os.path.join(settings.JOB_DIR, f'{settings.SOURCE_LANGUAGE}.tk')\n",
        "target_tokenizer_path = os.path.join(settings.JOB_DIR, f'{settings.TARGET_LANGUAGE}.tk')\n",
        "\n",
        "# Aqui você cria os tokenizers passando o path de onde será salvo, os dados e o número de unks.\n",
        "source_tokenizer = Vectorizer(source_tokenizer_path, data=data[:, 0], n_unks=n_unks)\n",
        "target_tokenizer = Vectorizer(target_tokenizer_path, data=data[:, 1], n_unks=n_unks)\n",
        "print('source vocab: ', source_tokenizer.vocab_size)\n",
        "print('target vocab: ', target_tokenizer.vocab_size)\n",
        "\n",
        "# uso de vobaculário extra\n",
        "if extra_vocab:\n",
        "    punctuation = {'!', '?', '\"', \"\\\\\", \"'\", \"#\", \"%\", \"&\", \"(\", \")\", \"*\", \"+\", \"-\", \".\", \n",
        "                   \"/\", \":\", \";\", \"<\", \"=\", \">\", \"@\", \"[\", \"]\", \"^\", \"_\", \"`\", \"~\", \"r$\",\n",
        "                   \",\"}\n",
        "    print('Usando vocabulaŕio extra')\n",
        "    new_data = restrict_sentences(parallel_data=data,\n",
        "                                  source_seq_length=settings.NMT_TRAIN_CONFIG['model_structure']['max_source_length_sentence'],\n",
        "                                  target_seq_length=1)\n",
        "    \n",
        "    # limpando tokens do source\n",
        "    source_new_data = preprocess.clean_source(list(new_data[:, 0]))\n",
        "    source_new_data = preprocess.clean_source(source_new_data) # necessário 2x para repetição de pontuação\n",
        "    source_new_data_cleaned = []\n",
        "    for sentence in source_new_data:\n",
        "        clean_sentence = []\n",
        "        for w in sentence.split():\n",
        "            if w not in punctuation:\n",
        "                w_clean = ''.join([c if c not in punctuation else ' ' for c in w])\n",
        "                if w_clean.replace(' ', ''):\n",
        "                    clean_sentence.append(w_clean)\n",
        "        if clean_sentence:\n",
        "            source_new_data_cleaned.append(' '.join(clean_sentence))\n",
        "    \n",
        "    # atualizando tokens\n",
        "    source_tokenizer.update_vocab(source_new_data_cleaned)\n",
        "    target_tokenizer.update_vocab(new_data[:, 1])\n",
        "    print('source vocab depois: ', source_tokenizer.vocab_size)\n",
        "    print('target vocab depois: ', target_tokenizer.vocab_size)\n",
        "\n",
        "# Aqui nós utilizamos nossos tokenizers para transformar texto em sequências numéricas\n",
        "source_sequences = source_tokenizer.text_to_sequences(cleaned_train[:, 0])\n",
        "target_sequences = target_tokenizer.text_to_sequences(cleaned_train[:, 1])\n",
        "\n",
        "# Os dados de tests são utilizados no treinamento para cálculo do bleu a cada época.\n",
        "test_sequences = (source_tokenizer.text_to_sequences(cleaned_test[:, 0]),\n",
        "                  target_tokenizer.text_to_sequences(cleaned_test[:, 1]))\n",
        "\n",
        "test_data_path = os.path.join(settings.JOB_DIR, f'test_data.csv')\n",
        "train_data_path = os.path.join(settings.JOB_DIR, f'train_data.csv')\n",
        "\n",
        "pd.DataFrame(cleaned_test).to_csv(test_data_path, sep='\\t', index=False, header=False)\n",
        "pd.DataFrame(cleaned_train).to_csv(train_data_path, sep='\\t', index=False, header=False)\n",
        "\n",
        "print(f'{test_data_path}\\n{train_data_path}\\nGerados!')\n",
        "\n",
        "# source vocab:  33181\n",
        "# target vocab:  12304\n",
        "# Usando vocabulaŕio extra\n",
        "# source vocab depois:  38492\n",
        "# target vocab depois:  12304"
      ],
      "execution_count": 45,
      "outputs": [
        {
          "output_type": "stream",
          "text": [
            "source vocab:  11620\n",
            "target vocab:  16467\n",
            "Usando vocabulaŕio extra\n",
            "source vocab depois:  16006\n",
            "target vocab depois:  16467\n",
            "/content/nmt/JOB_DIR/en_asl/test_data.csv\n",
            "/content/nmt/JOB_DIR/en_asl/train_data.csv\n",
            "Gerados!\n"
          ],
          "name": "stdout"
        }
      ]
    },
    {
      "cell_type": "markdown",
      "metadata": {
        "id": "iFjyFJSraall"
      },
      "source": [
        "# Treinamento do Modelo\n",
        "\n",
        "Já dividimos o corpus, depois limpamos os dados e, por último, transformamos texto em sequência numérica\n",
        "\n",
        "E agora?\n",
        "\n",
        "Agora nós precisamos passar todos os dados para o nosso modelo\n",
        "\n",
        "Nós utilizamos a arquitetura word2word com attention e nós chamamos ele carinhosamente de HtNmt (:\n",
        "\n",
        "Essa etapa é basicamente enviar as informações que já definimos\n",
        "\n",
        "Em breve uma explicação detalhada (:"
      ]
    },
    {
      "cell_type": "code",
      "metadata": {
        "id": "mX1xL_Kaau7l"
      },
      "source": [
        "# Criamos uma instancia do modelo HtNmt\n",
        "model = HtNmt(source_vocab_size=source_tokenizer.vocab_size,\n",
        "              target_vocab_size=target_tokenizer.vocab_size,\n",
        "              n_units=settings.NMT_TRAIN_CONFIG['model_structure']['n_units'],\n",
        "              n_dim=settings.NMT_TRAIN_CONFIG['model_structure']['n_dim'],\n",
        "              checkpoints_dir=settings.JOB_DIR,\n",
        "              attention=settings.MODEL_STRUCTURE['attention'],\n",
        "              optimizer=settings.MODEL_STRUCTURE['optimizer'],\n",
        "              learning_rate=settings.MODEL_STRUCTURE['learning_rate'],\n",
        "              decay=settings.MODEL_STRUCTURE['decay'],\n",
        "              seq_length=n_unks\n",
        "              )\n",
        "\n",
        "# Treinamento do modelok\n",
        "# Aqui nós acendemos a fogueira e aguardamos o modelo ficar no ponto (:\n",
        "model.train(source_sequences, target_sequences, validation_data=test_sequences, epochs=settings.MODEL_STRUCTURE['epochs'],\n",
        "            batch_size=settings.MODEL_STRUCTURE['batch_size'])\n",
        "\n",
        "history = cj.CsvFile.read(os.path.join(settings.JOB_DIR, 'history.csv'))\n",
        "\n",
        "pyplot.subplot(211)\n",
        "pyplot.title('Loss Function', pad=-40)\n",
        "pyplot.plot([float(i) for i in history['train_loss']], label='train')\n",
        "pyplot.plot([float(i) for i in history['test_loss']], label='test')\n",
        "pyplot.legend()\n",
        "\n",
        "# Plot bleu\n",
        "pyplot.subplot(212)\n",
        "pyplot.title('Bleu Score', pad=-40)\n",
        "pyplot.plot([float(i) for i in history['train_bleu']], label='train')\n",
        "pyplot.plot([float(i) for i in history['test_bleu']], label='test')\n",
        "pyplot.legend()\n",
        "pyplot.savefig(os.path.join(settings.JOB_DIR, 'train_plot.png'))"
      ],
      "execution_count": null,
      "outputs": []
    },
    {
      "cell_type": "markdown",
      "metadata": {
        "id": "Y4wnfK27bc-G"
      },
      "source": [
        "# Testando o modelo\n",
        "\n",
        "Depois do modelo treinado (os arquivos do modelo estão no JOB_DIR), nós precisamos e queremos testá-lo\n",
        "\n",
        "## Preditores\n",
        "\n",
        "Nós desenvolvemos várias técnicas de predição, que visa melhorar a tradução em dois quesitos, qualidade e performance,\n",
        "de maneira ***beeemmm*** resumida, nós criamos técnicas de quebra de sentenças e predições em paralelo/concorrente.\n",
        "\n",
        "Os principais são `BaselineNgramPredict` e `SequentialPredict`\n",
        "\n",
        "Neste exemplo vamos utilizar o `BaselineNgramPredict`\n",
        "\n",
        "Todos os preditores precisam ter acesso ao `modelo`, pois o modelo é controlado por eles, também é necessário enviar a métrica `network_trust`, que a grosso modo é a média das softmaxs.\n",
        "\n",
        "\n",
        "> Caso você não esteja utilizando o colab, você pode utilizar a interface web para testar o modelo\n",
        "```python\n",
        "from nmt.api.main import app\n",
        "app.run(host='127.0.0.1', port=5000)\n",
        "```"
      ]
    },
    {
      "cell_type": "markdown",
      "metadata": {
        "id": "T8kahVrVpR-P"
      },
      "source": [
        "### Gerar dicionário"
      ]
    },
    {
      "cell_type": "code",
      "metadata": {
        "id": "9EiTRErLpR-P",
        "outputId": "acbd7390-0e7e-496f-a04d-88747917773e"
      },
      "source": [
        "if use_dict:\n",
        "    from nmt.core.predict.predictors import DictionaryPredictors\n",
        "    from nmt.core.models import Dictionary\n",
        "\n",
        "    dictionary_instance = Dictionary(job_dir) if settings.NMT_TRAIN_CONFIG['prediction_config']['use_dict'] else None\n",
        "    \n",
        "    dict_predictor = Translator(DictionaryPredictors(model, ntr), source_tokenizer,\n",
        "                                           target_tokenizer, dictionary_instance,\n",
        "                                           preprocessor=preprocess)\n",
        "\n",
        "    dict_predictor.translate(['oi'], preprocessing=True)"
      ],
      "execution_count": null,
      "outputs": [
        {
          "output_type": "stream",
          "text": [
            "156350 --> 134435\n",
            "134435 --> 134435\n"
          ],
          "name": "stdout"
        }
      ]
    },
    {
      "cell_type": "markdown",
      "metadata": {
        "id": "9wPSs-7sdAx_"
      },
      "source": [
        "### Teste de Qualidade"
      ]
    },
    {
      "cell_type": "code",
      "metadata": {
        "id": "22zTIlAMbsRT"
      },
      "source": [
        "if quality_test:\n",
        "    from nmt.core.models import Dictionary\n",
        "    \n",
        "    from nmt.core.predict.predictors import SequentialPredict\n",
        "    \n",
        "    postprocessor = PostProcessing(settings.ID_GLOSA_DIC)\n",
        "    model.load_weights()\n",
        "    \n",
        "    # Carrega ou treina os dados do dicionário\n",
        "    dictionary_instance = Dictionary(job_dir) if settings.NMT_TRAIN_CONFIG['prediction_config']['use_dict'] else None\n",
        "    \n",
        "    def get_translator_with_ntr(ntr: float, model):\n",
        "        predicts_config = [model, ntr]\n",
        "        # Vamos configurar nosso controlador que chamamos carinhosamente de `Translator`\n",
        "        # Esse cara tem acesso a tudo, Modelo, Tokenizer, Preditor e Preprocessador\n",
        "        return Translator(SequentialPredict(*predicts_config), source_tokenizer,\n",
        "                                        target_tokenizer,\n",
        "                                        dictionary_instance=dictionary_instance,\n",
        "                                        preprocessor=preprocess)\n",
        "\n",
        "    # Aqui nós instanciamos o nosso(s) preditor(es), passando o(s) `ntr`(s) e a instância treinada do `modelo`\n",
        "    # E calculamos o bleu salvando um arquivo .csv para cada instância do translator\n",
        "    ntrs = [0.60, 0.70, 0.75]\n",
        "    for ntr_, translator in map(lambda x: (x, get_translator_with_ntr(x, model)), ntrs):\n",
        "        nmt.core.evaluation.quality_model(translator, test, settings.JOB_DIR, name_prefix=f'ntr_{ntr_}')"
      ],
      "execution_count": null,
      "outputs": []
    },
    {
      "cell_type": "markdown",
      "metadata": {
        "id": "MmtVfyLOdEnh"
      },
      "source": [
        "### Teste de Performance"
      ]
    },
    {
      "cell_type": "code",
      "metadata": {
        "id": "ebzeu0OicDo1"
      },
      "source": [
        "if performance_test:\n",
        "    # Aqui calculamos a performance do modelo utilizando os dados de test\n",
        "    predicts = dict(map(lambda x: (f'BaseLineNgram_{x}', get_translator_with_ntr(x, model)), ntrs))\n",
        "    nmt.core.evaluation.performance(predicts, Corpus.distinct_from_parallel(test)[0],\n",
        "                os.path.join(settings.JOB_DIR, f'prediction_performance_{settings.TARGET_LANGUAGE}.png'),\n",
        "                verbose=True\n",
        "                )"
      ],
      "execution_count": null,
      "outputs": []
    },
    {
      "cell_type": "markdown",
      "metadata": {
        "id": "VsrTxayyHU-3"
      },
      "source": [
        "# Salvar Modelo"
      ]
    },
    {
      "cell_type": "code",
      "metadata": {
        "id": "Q-KWhByMHXcO",
        "outputId": "3ee66cd6-e500-4bba-d99b-19fe286e6ab3"
      },
      "source": [
        "if save_model:\n",
        "    dest_path = f'/content/drive/Shareddrives/IA/CIENCIA_DE_DADOS/PROCESSOS/NMT/ANO_{year}/{source_language.upper()}-{target_language.upper()}/TREINAMENTOS/{year}_{month}/{day}/{hour_min}/'\n",
        "    if os.path.exists(dest_path):\n",
        "        assert input(f\"'{dest_path}' já existe, prosseguir? (Digite 'sim')?'\") == 'sim'\n",
        "    else: \n",
        "        os.makedirs(dest_path)\n",
        "    comment_path = os.path.join(job_dir, 'comment_of_train.txt')\n",
        "    !echo '{comment_of_train}' > '{comment_path}'\n",
        "    !cp '{job_dir}/'* '{dest_path}'\n",
        "    print(f\"Treinamente salve em '{dest_path}'\")"
      ],
      "execution_count": null,
      "outputs": [
        {
          "output_type": "stream",
          "text": [
            "Treinamente salve em './TREINAMENTOS/ANO_2021/PT-BZS/2021_06/02/08_54/pt_bzs'\n"
          ],
          "name": "stdout"
        }
      ]
    },
    {
      "cell_type": "code",
      "metadata": {
        "collapsed": true,
        "jupyter": {
          "outputs_hidden": true
        },
        "id": "U31dwjuupR-Q",
        "outputId": "2ff926f0-3501-4d64-b475-5c4d53070a1a"
      },
      "source": [
        "!zip -r new_job.zip JOB_DIR/pt_bzs"
      ],
      "execution_count": null,
      "outputs": [
        {
          "output_type": "stream",
          "text": [
            "updating: JOB_DIR/pt_bzs/ (stored 0%)\n",
            "updating: JOB_DIR/pt_bzs/test_target_freq_words.json (deflated 56%)\n",
            "updating: JOB_DIR/pt_bzs/history.csv (deflated 50%)\n",
            "updating: JOB_DIR/pt_bzs/best_decoder_weights.h5 (deflated 8%)\n",
            "updating: JOB_DIR/pt_bzs/test_source_freq_words.json (deflated 70%)\n",
            "updating: JOB_DIR/pt_bzs/comment_of_train.txt (deflated 24%)\n",
            "updating: JOB_DIR/pt_bzs/train_bzs.align (deflated 70%)\n",
            "updating: JOB_DIR/pt_bzs/train_pt.align (deflated 57%)\n",
            "updating: JOB_DIR/pt_bzs/test_pt.align (deflated 55%)\n",
            "updating: JOB_DIR/pt_bzs/nmt_config.json (deflated 46%)\n",
            "updating: JOB_DIR/pt_bzs/latest_decoder_weights.h5 (deflated 8%)\n",
            "updating: JOB_DIR/pt_bzs/.ipynb_checkpoints/ (stored 0%)\n",
            "updating: JOB_DIR/pt_bzs/.ipynb_checkpoints/history-checkpoint.csv (deflated 50%)\n",
            "updating: JOB_DIR/pt_bzs/.ipynb_checkpoints/pt-checkpoint.tk (deflated 54%)\n",
            "updating: JOB_DIR/pt_bzs/.ipynb_checkpoints/nmt_config-checkpoint.json (deflated 46%)\n",
            "updating: JOB_DIR/pt_bzs/.ipynb_checkpoints/bzs-checkpoint.tk (deflated 29%)\n",
            "updating: JOB_DIR/pt_bzs/.ipynb_checkpoints/train_plot-checkpoint.png (deflated 3%)\n",
            "updating: JOB_DIR/pt_bzs/.ipynb_checkpoints/ID_GLOSA_BZS-checkpoint.json (deflated 45%)\n",
            "updating: JOB_DIR/pt_bzs/.ipynb_checkpoints/comment_of_train-checkpoint.txt (deflated 20%)\n",
            "updating: JOB_DIR/pt_bzs/.ipynb_checkpoints/knowledge_dic-checkpoint.csv (deflated 63%)\n",
            "updating: JOB_DIR/pt_bzs/knowledge_dic.csv (deflated 63%)\n",
            "updating: JOB_DIR/pt_bzs/latest_encoder_weights.h5 (deflated 7%)\n",
            "updating: JOB_DIR/pt_bzs/ID_GLOSA_BZS.json (deflated 45%)\n",
            "updating: JOB_DIR/pt_bzs/train_target_freq_words.json (deflated 59%)\n",
            "updating: JOB_DIR/pt_bzs/train_source_freq_words.json (deflated 69%)\n",
            "updating: JOB_DIR/pt_bzs/train_data.csv (deflated 62%)\n",
            "updating: JOB_DIR/pt_bzs/train_plot.png (deflated 4%)\n",
            "updating: JOB_DIR/pt_bzs/pt.tk (deflated 55%)\n",
            "updating: JOB_DIR/pt_bzs/best_encoder_weights.h5 (deflated 7%)\n",
            "updating: JOB_DIR/pt_bzs/test_data.csv (deflated 63%)\n",
            "updating: JOB_DIR/pt_bzs/test_bzs.align (deflated 70%)\n",
            "updating: JOB_DIR/pt_bzs/bzs.tk (deflated 29%)\n",
            "  adding: JOB_DIR/pt_bzs/.ipynb_checkpoints/train_data-checkpoint.csv (deflated 62%)\n"
          ],
          "name": "stdout"
        }
      ]
    },
    {
      "cell_type": "markdown",
      "metadata": {
        "id": "JhxjaPF7pR-R"
      },
      "source": [
        "# Realizar traduções"
      ]
    },
    {
      "cell_type": "code",
      "metadata": {
        "id": "WMHv9mpPpR-R"
      },
      "source": [
        "custom_job_dir = './TREINAMENTOS/ANO_2021/PT-BZS/2021_03/30/19_41/pt_bzs'\n",
        "src, trg = os.path.basename(custom_job_dir).split('_')\n",
        "'-'.join([src, trg])"
      ],
      "execution_count": null,
      "outputs": []
    },
    {
      "cell_type": "code",
      "metadata": {
        "id": "OdqcJibmpR-R"
      },
      "source": [
        "NMT_CONFIG_CUSTOM = {\n",
        "  \"_comment\": \"Configuração geral do sistema - NEW\",\n",
        "  \"SOURCE_LANGUAGE\": src,\n",
        "  \"TARGET_LANGUAGE\": trg,\n",
        "  \"ENVIRONMENT\": \"development\",\n",
        "  \"CHOICE_PREDICTS\": {\n",
        "    \"BaselineNgramPredict\": \"nmt.core.predict.predictors.BaselineNgramPredict\"\n",
        "  },\n",
        "  \"DEFAULT_PREDICTION\": \"BaselineNgramPredict\",\n",
        "  \"MODEL_ARCHITECTURE\": f\"nmt.core.models.base.HtNmt\",\n",
        "  \"EPOCHS\": 30,\n",
        "  \"JOB_DIR\": custom_job_dir,\n",
        "  \"CORPUS_DIR\": \"/content/CORPUS_DIR\",\n",
        "  \"NORMAL_TRAIN\": False,\n",
        "  \"PERFORMANCE_TEST\": False,\n",
        "  \"USE_DICT\": True,\n",
        "  \"ATTENTION\": \"ht_attention\",\n",
        "  \"OPTIMIZER\": 'adam',\n",
        "  \"LEARNING_RATE\": 0,\n",
        "  \"DECAY\": 0.0002,\n",
        "  \"N_DIM\": 100,\n",
        "  \"N_UNITS\": 128,\n",
        "  \"BATCH_SIZE\": 32,\n",
        "  \"EXTRA_VOCAB\": False,\n",
        "  \"NTR\": 0.75,\n",
        "  \"LOG_ARGMAX_LENGTH\": 3,\n",
        "  \"MAX_SOURCE_LENGTH_SENTENCE\": 10,\n",
        "  \"MAX_TARGET_LENGTH_SENTENCE\": 10,\n",
        "  \"PARSER\": 10,\n",
        "}\n",
        "\n",
        "with open('./nmt/nmt/config/config.json', 'w', encoding='utf-8') as f:\n",
        "    json.dump(NMT_CONFIG_CUSTOM, f, indent=True)\n",
        "\n",
        "import nmt"
      ],
      "execution_count": null,
      "outputs": []
    },
    {
      "cell_type": "code",
      "metadata": {
        "id": "1JOTRi6kpR-R"
      },
      "source": [
        "# carregar modelo\n",
        "from nmt import settings\n",
        "from nmt.core.models.base import HtNmt\n",
        "from nmt.core.tokenizer.tokenizer import Vectorizer\n",
        "from nmt.core.predict.predictors import BaselineNgramPredict\n",
        "from nmt.core.predict.controller import Translator\n",
        "from nmt.core.pln import PreProcessing, PostProcessing\n",
        "\n",
        "n_unks = min(settings.MODEL_STRUCTURE[\"max_source_length_sentence\"],\n",
        "             settings.MODEL_STRUCTURE[\"max_target_length_sentence\"])\n",
        "\n",
        "\n",
        "source_tokenizer_path = os.path.join(settings.JOB_DIR, '{}.tk'.format(settings.SOURCE_LANGUAGE))\n",
        "target_tokenizer_path = os.path.join(settings.JOB_DIR, '{}.tk'.format(settings.TARGET_LANGUAGE))\n",
        "    \n",
        "source_tokenizer = Vectorizer(source_tokenizer_path, n_unks=n_unks)\n",
        "target_tokenizer = Vectorizer(target_tokenizer_path, n_unks=n_unks)\n",
        "\n",
        "model = HtNmt(source_vocab_size=source_tokenizer.vocab_size,\n",
        "              target_vocab_size=target_tokenizer.vocab_size,\n",
        "              n_units=settings.NMT_TRAIN_CONFIG['model_structure']['n_units'],\n",
        "              n_dim=settings.NMT_TRAIN_CONFIG['model_structure']['n_dim'],\n",
        "              checkpoints_dir=settings.JOB_DIR,\n",
        "              attention=settings.MODEL_STRUCTURE['attention'],\n",
        "              optimizer=settings.MODEL_STRUCTURE['optimizer'],\n",
        "              learning_rate=settings.MODEL_STRUCTURE['learning_rate'],\n",
        "              decay=settings.MODEL_STRUCTURE['decay'],\n",
        "              seq_length=n_unks)\n",
        "\n",
        "preprocessor = PreProcessing.build(settings.PLN_CONFIG)\n",
        "postprocessor = PostProcessing(settings.ID_GLOSA_DIC)\n",
        "\n",
        "predicts_config = [model, settings.PREDICTION_CONFIG['network_trust']]\n",
        "translator = Translator(BaselineNgramPredict(*predicts_config), source_tokenizer,\n",
        "                        target_tokenizer,\n",
        "                        preprocessor=preprocessor,\n",
        "                        postprocessor=postprocessor)\n",
        "\n",
        "model.load_weights()"
      ],
      "execution_count": null,
      "outputs": []
    },
    {
      "cell_type": "code",
      "metadata": {
        "id": "ae0EjnGIpR-R"
      },
      "source": [
        "# realizar traduções\n",
        "sentence = ''\n",
        "while sentence.lower() != 'exit':\n",
        "    sentence = input(\"Traduzir ('exit' p/sair): \")\n",
        "    translation = ' '.join(translator.translate([sentence],  preprocessing=True, postprocessing=True))\n",
        "    print(translation)"
      ],
      "execution_count": null,
      "outputs": []
    }
  ]
}